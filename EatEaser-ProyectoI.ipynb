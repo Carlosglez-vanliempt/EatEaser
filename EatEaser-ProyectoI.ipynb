{
 "cells": [
  {
   "cell_type": "markdown",
   "id": "f8318545",
   "metadata": {},
   "source": [
    "<div style='width=100%; display:flex;flex-direction:row'><img  src=https://universidadeuropea.com/resources/media/images/universidad-europea-logo_poc9mEM.original.png width=100  style='  margin-left: auto;margin-right: auto; width: 25%; height:25%;'><img  src=https://i.ibb.co/1068C7j/EATEASER.jpg width=100 style='  margin-left: auto;margin-right: auto; width: 10%;height:25%;'></div>"
   ]
  },
  {
   "cell_type": "markdown",
   "id": "03ee9dce",
   "metadata": {},
   "source": [
    "<div style='margin:auto;text-align: center;font-family: \"Times New Roman\", Times, serif; font-weight: bold;'>PROYECTO COMUTACIONAL<br><br>EATEASER - VOZ A TEXTO</div>"
   ]
  },
  {
   "cell_type": "markdown",
   "id": "c329ef59",
   "metadata": {},
   "source": [
    "<div style='width:100%; display:flex;flex-direction:row'>\n",
    "    <div style='width:50%;margin-right:5cm;'>\n",
    "        <p style='font-family: \"Times New Roman\", Times, serif; font-weight: bold;'>ESTUDIANTES</p>\n",
    "<ul style='font-family: \"Times New Roman\", Times, serif;'>\n",
    "    <li>Adilem Dobras 21911633</li><li>Roberto Echevarria 21823680</li><li>Carlos Gonzales 22067726</li><li>Juan Carlos Rondeau 21816176</li></ul> </div>\n",
    "\n",
    "</div>"
   ]
  },
  {
   "cell_type": "markdown",
   "id": "fb3dfd23",
   "metadata": {},
   "source": [
    "<h2 style=\"font-size: 19px;color:#6DA0FF;font-family:Georgia, Times, 'Times New Roman', serif;letter-spacing: 3px;font-weight: normal\">1. Importamos las librerias</h2>"
   ]
  },
  {
   "cell_type": "code",
   "execution_count": 1,
   "id": "6c95a30f-b9b3-420e-b095-bc255ba15e7c",
   "metadata": {},
   "outputs": [
    {
     "data": {
      "text/plain": [
       "'\\n!pip install pytube\\n!pip install SpeechRecognition\\n!pip install pydub\\n!pip install moviepy\\n!pip install beautifulsoup4\\n!pip install nltk\\n'"
      ]
     },
     "execution_count": 1,
     "metadata": {},
     "output_type": "execute_result"
    }
   ],
   "source": [
    "\"\"\"\n",
    "!pip install pytube\n",
    "!pip install SpeechRecognition\n",
    "!pip install pydub\n",
    "!pip install moviepy\n",
    "!pip install beautifulsoup4\n",
    "!pip install nltk\n",
    "\"\"\""
   ]
  },
  {
   "cell_type": "code",
   "execution_count": 2,
   "id": "d5e13fba",
   "metadata": {},
   "outputs": [
    {
     "name": "stderr",
     "output_type": "stream",
     "text": [
      "C:\\Users\\Carlow\\.conda\\envs\\EatEaser\\lib\\site-packages\\pydub\\utils.py:170: RuntimeWarning: Couldn't find ffmpeg or avconv - defaulting to ffmpeg, but may not work\n",
      "  warn(\"Couldn't find ffmpeg or avconv - defaulting to ffmpeg, but may not work\", RuntimeWarning)\n"
     ]
    }
   ],
   "source": [
    "from pytube import YouTube\n",
    "import speech_recognition as sr\n",
    "from pydub import AudioSegment\n",
    "import moviepy.editor as mp\n",
    "from bs4 import BeautifulSoup\n",
    "import glob\n",
    "import os\n",
    "import re\n",
    "from os import listdir\n",
    "from nltk.stem import PorterStemmer\n",
    "from nltk.tokenize import word_tokenize\n",
    "import requests\n",
    "from pydub.silence import split_on_silence\n",
    "import pathlib"
   ]
  },
  {
   "cell_type": "markdown",
   "id": "c1bce916",
   "metadata": {},
   "source": [
    "<h2 style=\"font-size: 19px;color:#6DA0FF;font-family:Georgia, Times, 'Times New Roman', serif;letter-spacing: 3px;font-weight: normal\">2. Inicio del programa</h2>"
   ]
  },
  {
   "cell_type": "markdown",
   "id": "80f5340a",
   "metadata": {},
   "source": [
    "<h3  style='font-family: \"Times New Roman\", Times, serif; font-weight: bold;text-align:center;font-size:14px'>CLASE CONTROLADORVIDEO</h3><p style='font-family: \"Times New Roman\", Times, serif; font-size:14px'>En esta clase se realizará los ajustes para manejar el video recibido y manipularlo.</p>\n"
   ]
  },
  {
   "cell_type": "code",
   "execution_count": 3,
   "id": "5bb88615",
   "metadata": {},
   "outputs": [],
   "source": [
    "class ControladorVideo:\n",
    "    def __init__(self,enlace): \n",
    "        self._idvideo = self.reenumerar()\n",
    "        self.enlacevideo=enlace\n",
    "        self.yt=YouTube(self.enlacevideo)\n",
    "        self.nombrevideo=''\n",
    "        self.titulovideo=self.yt.title\n",
    "        self.autorvideo=self.yt.author\n",
    "        self.fechavideo=self.yt.publish_date\n",
    "        self.duracionvideo=self.yt.length\n",
    "    \"\"\"|DESCARGAR VIDEO URL: descarga el video de youtube\n",
    "       |return: devuelve una ruta absoluta\"\"\"\n",
    "    def descargarVideoURL(self):\n",
    "        recetasVideos = 'recetasvideos/'\n",
    "        #aqui creo un nuevo id para el nuevo video\n",
    "        self._idvideo= self._idvideo+1\n",
    "        #esta sera el archivo del video y su nuevo nombre\n",
    "        nombre='receta'+str(self._idvideo)\n",
    "        #le pedimos al pytube que solo nos descargue el audio y lo descargamos\n",
    "        t=self.yt.streams.filter(file_extension='mp4').first().download(output_path=recetasVideos,filename=nombre+'.mp4')\n",
    "        #devolvemos el nombre\n",
    "        return nombre\n",
    "    \"\"\"|PARSEO VIDEO: pasa el video de .mp4 a .wav\n",
    "       |nombre: es un string que se colocara el nombre del video\n",
    "       |return: devuelve el nuevo nombre del audio en .wav\"\"\"\n",
    "    def parseoVideo(self,nombre):\n",
    "        recetasVideos = 'recetasvideos/'\n",
    "        #tomamos el video en mp4 \n",
    "        track = mp.VideoFileClip(recetasVideos+nombre+'.mp4')\n",
    "        #cambiamos el video a .wav\n",
    "        nombre_wav=\"{}.wav\".format(nombre)\n",
    "        track.audio.write_audiofile(recetasVideos+nombre_wav)\n",
    "        track.close()\n",
    "        return nombre+'.wav'\n",
    "    def reenumerar(self):\n",
    "        contador = 0\n",
    "        for path in pathlib.Path(\"./recetasvideos\").iterdir():\n",
    "            if path.is_file():\n",
    "                contador += 1\n",
    "        return contador\n",
    "    \"\"\"|SPEECH TEXT:Transforma el audio a texto\n",
    "       |nombre: es un string que se colocara el nombre del video\n",
    "       |return: devuelve un string con el texto devuelto\"\"\"\n",
    "    def speech_text(self,nombre):\n",
    "        recetasVideos = 'recetasvideos/'\n",
    "        #instanciamos el recognizer\n",
    "        r = sr.Recognizer()\n",
    "        audio = sr.AudioFile(recetasVideos+nombre)\n",
    "        with audio as source:\n",
    "            audio_file = r.record(source)\n",
    "        #transcribimos el audio a texto\n",
    "        result = r.recognize_google(audio_file, language = 'es-ES')\n",
    "        return result\n",
    "        "
   ]
  },
  {
   "cell_type": "markdown",
   "id": "d3b297ab",
   "metadata": {
    "tags": []
   },
   "source": [
    "<h3  style='font-family: \"Times New Roman\", Times, serif; font-weight: bold;text-align:center;font-size:14px'>CLASE DEPURADOR</h3><p style='font-family: \"Times New Roman\", Times, serif; font-size:14px'>En esta clase se realizará el proceso de extraccion, transformacion y carga de nuestro programa EATEASER.</p>\n"
   ]
  },
  {
   "cell_type": "code",
   "execution_count": 4,
   "id": "7d0598a3",
   "metadata": {},
   "outputs": [],
   "source": [
    "#si el video es mayor de 3 minutos no funciona\n",
    "#si el video es en ingles no funciona\n",
    "class Depurador:\n",
    "    def __init__(self): \n",
    "        self.rec=RecursosAdicionales()\n",
    "    \"\"\"|EXTRACCION: proceso etl donde extraemos al informacion del video \n",
    "       |enlace: es un string que se colocara el enlace del video\"\"\"\n",
    "    def extraccion(self,enlace):\n",
    "        #instanciamos el controlador de videos\n",
    "        cv=ControladorVideo(enlace)\n",
    "        #paso 1: descargamos el video\n",
    "        cv.nombrevideo=cv.descargarVideoURL()\n",
    "        #paso 2: pasamos el video a .wav\n",
    "        nombre=cv.parseoVideo(cv.nombrevideo)\n",
    "        #paso 3: pasamos el .wav a texto\n",
    "        result=cv.speech_text(nombre)\n",
    "        #paso 4: escribimos el texto recibido en un txt\n",
    "        resultado=self.rec.escritura(cv.nombrevideo,\"Titulo:\"+cv.titulovideo+\"\\n\"+\"Autor:\"+cv.autorvideo+\"\\n\"+\"Fecha Publicacion:\"+str(cv.fechavideo)+\"\\n\"+\"Entradilla:\"+result)\n",
    "        #paso 5: eliminamos los mp4\n",
    "        self.rec.eliminacionMp4()\n",
    "        return resultado     \n",
    "    def transformacion(self):\n",
    "        print()\n",
    "    def carga(self):\n",
    "        print()"
   ]
  },
  {
   "cell_type": "code",
   "execution_count": 5,
   "id": "c910592f",
   "metadata": {},
   "outputs": [],
   "source": [
    "#aqui iran lecturas-escrituras-guardar-eliminar cosas en bases de datos\n",
    "class RecursosAdicionales:\n",
    "    \"\"\"|ESCRITURA: escribe textos txt\n",
    "       |nombre: nombre del \n",
    "       |return: devuelve el audio en texto\"\"\"\n",
    "    #yo siento que en vez de cambiar de carpeta los textos...deberiamos eliminar los mp4\n",
    "    #y si lo mas factible aqui es que guardemos el video por su nombre?\n",
    "    #creo que no debemos contar los files porque cansan el programa\n",
    "    \n",
    "    def escritura(self,nombre,texto):\n",
    "        recetasTextos = './recetastextos/'\n",
    "        if not(os.path.exists(recetasTextos)):\n",
    "            os.mkdir(recetasTextos)\n",
    "        f = open(recetasTextos+nombre+'.txt', 'w')\n",
    "        f.write(texto)\n",
    "        f = open(recetasTextos+nombre+'.txt', \"r\")\n",
    "        print(f.read())\n",
    "        f.close()\n",
    "    def eliminacionMp4(self):\n",
    "        recetasVideos = './recetasvideos/'\n",
    "        py_files = glob.glob(recetasVideos+'*.mp4')\n",
    "        for py_file in py_files:\n",
    "            try:\n",
    "                os.remove(py_file)\n",
    "            except OSError as e:\n",
    "                print(f\"Error:{ e.strerror}\")      \n",
    "        "
   ]
  },
  {
   "cell_type": "code",
   "execution_count": 6,
   "id": "e747077e",
   "metadata": {},
   "outputs": [],
   "source": [
    "class WebScrap:\n",
    "    def __init__(self): \n",
    "        self.headers = {'User-Agent': 'Mozilla/5.0 (Macintosh; Intel Mac OS X 10_10_1) AppleWebKit/537.36 (KHTML, like Gecko) Chrome/39.0.2171.95 Safari/537.36'}\n",
    "    def request(self, url):\n",
    "        request1 = requests.get(url, headers=self.headers)\n",
    "        html = request1.content\n",
    "        soup = BeautifulSoup(html, 'html.parser')\n",
    "        return soup\n",
    "    def verificar_alimento(self,alimento):\n",
    "        soup = self.request( 'https://www.themealdb.com/api/json/v1/1/search.php?s='+alimento)\n",
    "        print(soup)\n",
    "        "
   ]
  },
  {
   "cell_type": "markdown",
   "id": "f517c7a4",
   "metadata": {},
   "source": [
    "<h2 style=\"font-size: 19px;color:#6DA0FF;font-family:Georgia, Times, 'Times New Roman', serif;letter-spacing: 3px;font-weight: normal\">3. Main</h2>"
   ]
  },
  {
   "cell_type": "code",
   "execution_count": 7,
   "id": "f92c5289",
   "metadata": {},
   "outputs": [
    {
     "name": "stdout",
     "output_type": "stream",
     "text": [
      "MoviePy - Writing audio in recetasvideos/receta5.wav\n"
     ]
    },
    {
     "name": "stderr",
     "output_type": "stream",
     "text": [
      "                                                                      \r"
     ]
    },
    {
     "name": "stdout",
     "output_type": "stream",
     "text": [
      "MoviePy - Done.\n",
      "Titulo:¿Es esta la mejor receta de Pasta Italiana? Increíble sabor | Fetuccini con Salsa Alfredo\n",
      "Autor:Platos Fáciles con Tamara\n",
      "Fecha Publicacion:2022-03-06 00:00:00\n",
      "Entradilla:hola chicos bienvenidos a otro día más a mi canal hoy es traigo una receta de pasta deliciosa con salsa Alfredo no os la perdáis porque vais a ver qué es muy fácil de preparar empezamos poniendo una cazuela con abundante agua fuego alto cuando el agua comience a hervir echamos la sal e incorporamos la pasta en este caso estoy utilizando fetuccini que suele llevar la pasta con salsa Alfredo pero se puede sustituir por otras clases de pasta ya sea larga o corta cuando hayamos añadido la pasta y el agua arranque a hervir de nuevo empezamos a contar los minutos y cocinamos el tiempo que recomienda el fabricante para que quede al dente pasos este tiempo retiramos la cazuela del fuego antes de escurrir la pasta reservamos un poco del agua de cocción por si hubiera que aligerar la salsa más adelante ahora ya si escurrimos la pasta en el fregadero con un colador y reservamos el siguiente paso es preparar la salsa Alfredo para ello ponemos en la misma CA utilizamos antes la mantequilla cortada en daditos ponemos el fuego potencia entre media y alta cuando la mantequilla esté fundida agregamos un diente de ajo troceado y lo rehogamos durante un par de minutos a continuación agregamos la nata para cocinar la pimienta negra molida y el queso parmesano primero voy a añadir la mitad del queso y removemos bien hasta que te se funda y seguiré bien con la nata si no encontráis queso parmesano podéis utilizar grana padano ya que es muy parecido cuando se haya integrado todo añadimos el resto del queso parmesano rallado y seguimos removiendo continuamente hasta que se incorpore bajamos el fuego a baja potencia y cocinamos durante 2 o 3 minutos más sin dejar de remover en todo momento y ya tendríamos la salsa Alfredo lista agregamos la pasta y revolvemos para que se impregne bien con la sal si ves que queda muy espesa para vuestro gusto podéis ir agregando poco a poco el agua de la cocción que reservamos anteriormente hasta encontrar el espesor deseado yo en este caso no la agregué ahora ya solo queda servir recién hechos antes de servir cada plato espolvoreamos por encima un poco de perejil picadito y pimienta negra recién molida quede con un aspecto delicioso y os aseguro que tiene un sabor increíble está receta da para tres o cuatro raciones ya que este tipo de recetas de pasta suelen llenar bastante si te ha gustado la receta dale a Me Gusta déjame tu comentario y comparte en tus redes sociales para que tus familiares y amigos también puedan hacer este plato nos vemos en el siguiente vídeo hasta la próxima\n",
      "MoviePy - Writing audio in recetasvideos/receta6.wav\n"
     ]
    },
    {
     "name": "stderr",
     "output_type": "stream",
     "text": [
      "                                                                      \r"
     ]
    },
    {
     "name": "stdout",
     "output_type": "stream",
     "text": [
      "MoviePy - Done.\n",
      "Titulo:Patatas Mayordomo | Si las pruebas no querrás prepararlas de otra manera\n",
      "Autor:Platos Fáciles con Tamara\n",
      "Fecha Publicacion:2022-01-30 00:00:00\n",
      "Entradilla:hola chicos bienvenidos otro día más a mi canal hoy vamos a preparar unas deliciosas y facilísimas patatas mayordomo lo primero que vamos a hacer es pelar las patatas las lavamos y las cortamos en rodajas gruesas pero que no pasen el medio centímetro de grosor también cortamos las cebollas en juliana a continuación pasamos a pochar la cebolla para hacerlo echamos la mantequilla en una cacerola baja y la ponemos a calentar a fuego entre medio y alto la removemos y una vez que esté completamente derretida echamos la cebolla y la rehogamos durante unos minutos cuando esté blandita y ligeramente doradita añadimos las patatas en este momento aprovechamos para sazonar las con sal al gusto un poco de pimienta recién molida y perejil picado si podéis utilizar fresco mucho mejor revolvemos muy bien para que todos los ingredientes se mezclen una vez que esté todo mezclado colocamos las patatas de manera que queden repartidas por todo el fondo de la cazuela a continuación vertemos la leche movemos un poco la cazuela para que se sienten las patatas con la leche y ponemos una tapa cocinamos a fuego medio de 25 a 30 minutos pasados aproximadamente 10 minutos destapamos y damos la vuelta a las patatas este es el momento perfecto porque las patatas aún están sin hacer y evitaremos que se partan cuando ya hemos dado la vuelta a las patatas las volvemos a dejar extendidas por todo el fondo y tardamos ahora solo tenemos que cocine moviendo de vez en cuando la cazuela para que no se pegue nada transcurrido el tiempo de cocción pinchamos para comprobar si las patatas están tiernas y las retiramos del fuego por último decoramos con un poco más de perejil y ya las tenemos listas para servir como se puede ver quedan con una pinta deliciosa están súper blanditas y cremosas y tienen un sabor buenísimo espero que te haya gustado la receta si es así dale a Me Gusta déjame un comentario y comparte en tus redes sociales para que tus familiares y amigos también la puedan hacer nos vemos en el siguiente vídeo hasta la próxima\n",
      "MoviePy - Writing audio in recetasvideos/receta7.wav\n"
     ]
    },
    {
     "name": "stderr",
     "output_type": "stream",
     "text": [
      "                                                                      \r"
     ]
    },
    {
     "name": "stdout",
     "output_type": "stream",
     "text": [
      "MoviePy - Done.\n",
      "Titulo:SANGRIA - Deliciosa y Refrescante al Estilo Tanto Monta\n",
      "Autor:Tanto Monta En La Cocina\n",
      "Fecha Publicacion:2021-08-03 00:00:00\n",
      "Entradilla:con este calor tan increíble que está haciendo usted antoja algo rico y refrescante por tal motivo el día de hoy te voy a enseñar a hacer sangría pero no cualquiera se cría y hablamos un poquito y la vamos a hacer al estilo de tanto monta tienes novio el canal te pido suscríbete al mismo y no se te olvide que te bajito de la descripción del vídeo están todos los ingredientes mi nombre Sandra y una vez más te doy la bienvenida tanto monta en la cocina para esta receta vamos a necesitar una taza de jugo de naranja de preferencia natural es súper superfácil esta receta y deveras te queda exquisita en una jarra lo suficientemente grande que lo que cueste limpia vamos a poner nuestra casa y te jugo de naranja vamos a necesitar también una larga que lo que con la tenemos bien lavada y lo único que tenemos que hacer es cortarla en rebanadas finas ya que tenemos nuestras rebanadas finas sabes lo que me gusta hacer es partirla en cuatro porque hacemos esto para que nos queden estos pedacitos que es lo que vamos a disfrutar cuando estemos tomándonos atrás Ángel ya íbamos a poner la naranja en la caca así seguimos con toda la naranja vamos a necesitar también una manzana la manzana puede ser la que tú quieras la que tú tengas en casa y lo único que tenemos que hacer es cortarla en trocitos pequeños es lo que copia está tu gusto el tamaño pero a mí se me hace más rico y más conveniente y hacer esto lo que con lo vamos a servir en un bar te repito te queda riquísima y como puedes ver es súper súper fácil de preparar y es que tenemos toda nuestra manzana en pedacitos igual la conoce añadir a nuestra barra en este vamos añadir media botella de vino tinto el vino tinto que sea de preferencia y vamos a añadir media taza de licor de naranja o Grand Marnier escrito que que te prometo va a ser que te quede increíble y ahora lo único que tenemos que hacer es revólver la muy bien para que se incorporen todos los sabores le vamos a llevar al refrigerador y vamos a dejar a que se enfríe completamente y te enseño como la vamos a subir y que está lo suficientemente fría en un vaso ponemos simplemente un par de kilitos y servimos nuestra fruta y ahora servimos nuestra sangría qué cosa tan rica\n",
      "MoviePy - Writing audio in recetasvideos/receta8.wav\n"
     ]
    },
    {
     "name": "stderr",
     "output_type": "stream",
     "text": [
      "                                                                      \r"
     ]
    },
    {
     "name": "stdout",
     "output_type": "stream",
     "text": [
      "MoviePy - Done.\n",
      "Titulo:Jugo de Apio y Limon / EN AYUNAS\n",
      "Autor:Tanto Monta En La Cocina\n",
      "Fecha Publicacion:2020-09-08 00:00:00\n",
      "Entradilla:hacer un vídeo muy cortito muy interesante vamos a hacer un cubo de apio con limón al igual que siempre vas a ver qué cosa tan rica y fácil de preparar como todos sabemos en la que tiene muchos beneficios entre ellos tiene muchísimos minerales alcalinos tiene vitaminas A B1 B2 B6 vitamina C es bueno para la hipertensión ayuda un poquito para bajar de peso te sirve para el estreñimiento por su contenido en fibra si sirve también como diurético en fin son muchos los beneficios yo no sé nuestro bloque ni pretendo serlo simplemente quiero compartir contigo y está receta que una nutriologa pues que me da mi nombre es Sandra y una vez más te doy la bienvenida tanto monta en la cocina donde quiero compartir contigo recetas fáciles sabores nuevos problemas importantes para compartirlo con toda la familia por esta receta vamos a utilizar 4 tallos de apio ya los tengo perfectamente bien lavados pero de todos modos también me gusta cortar aparte cita igual si no quieres no tienes que hacer simplemente lo cortamos en pedazos más o menos pequeñas para que nos ayude un poquito en el Ecuador ya que tenemos nuestro apio picado lo ponemos en un recipiente y vamos a necesitar también el juego de dos limones ahora simplemente lo que vamos a hacer es poner el apio en la licuadora ponemos el fuego de los dos limones y voy a poner aproximadamente 3 tazas de agua y Loli cuándo es muy bien ya que quedó bien licuado a mucha gente le gusta colarlo para que te quede simplemente lo que es el juego a mí la verdad no me gusta hacer eso porque estamos desperdiciando todo esto que viene a ser la fiesta esto y es opcional como te acabo de a mí la verdad no me gusta colarlo porque perdemos toda la pierna entonces yo siemplemente lo que hago lo pongo en una jarra lo llevo el refrigerador así lo tengo ya listo cada vez que lo necesita para servirlo me gusta acompañarlo con unos cubitos de hielo\n",
      "MoviePy - Writing audio in recetasvideos/receta9.wav\n"
     ]
    },
    {
     "name": "stderr",
     "output_type": "stream",
     "text": [
      "                                                                      \r"
     ]
    },
    {
     "name": "stdout",
     "output_type": "stream",
     "text": [
      "MoviePy - Done.\n",
      "Titulo:Dulce de Leche / El Postre Mas Facil de Preparar\n",
      "Autor:Tanto Monta En La Cocina\n",
      "Fecha Publicacion:2020-04-07 00:00:00\n",
      "Entradilla:hola tanto monta seguimos en cuarentena y por tal motivo quiero hacerles vídeos que sean muy fáciles de preparar pero sobre todo con ingredientes que ya tengamos tanto la despensa con el refrigerador y vamos a hacer un dulce de leche es un postre riquísimo y te lo prometo con un solo ingrediente tiene nuevo en el canal que pido suscríbete al mismo y así tú también disfrutes de recetas fáciles y sabores nuevos mi nombre es Sandra y te doy la bienvenida tanto monta en la cochera por esta receta vamos a utilizar una lata de leche condensada pues eso es de la marca que tú quieras estáis de 14 onzas o 396 gramos en una olla de tamaño mediano con suficiente agua de leche condensada bajar a temperatura media y lo vamos a dejar a ti cubierto por aproximadamente 3 horas vamos a estar checando de que el agua no baje del nivel de la lata si es necesario ponemos un poquito más porque no te aburres exactamente 3 horas ahora vamos a pagar y con mucho cuidado de no quemarnos pero vamos a sacar yo lo voy a poner en un plato para que empiece enfriar por lo menos tenemos que dejar yo confío una media hora qué cosa tan rica nos quedó y eso lo podemos servir sobre nieve fruta pastel lo que tú quieras una cosa si te digo ya cuando enfríe vais a estar espesar un poquito más pero quieres igual así de líquida simplemente lo puedes volver a calentar vamos a tratar el que tenemos en nuestra despensa para no tener que ir ahora que no nos despedimos el igual que siempre nos vemos en el próximo vídeo y nos vemos el martes\n",
      "MoviePy - Writing audio in recetasvideos/receta10.wav\n"
     ]
    },
    {
     "name": "stderr",
     "output_type": "stream",
     "text": [
      "                                                                      \r"
     ]
    },
    {
     "name": "stdout",
     "output_type": "stream",
     "text": [
      "MoviePy - Done.\n",
      "Titulo:Risotto de setas fácil con arroz integral | Cenas vegetarianas saludables\n",
      "Autor:Avena y Aguacate\n",
      "Fecha Publicacion:2020-01-06 00:00:00\n",
      "Entradilla:hola a todos y bienvenidos a avena y aguacate este mes os voy a traer todas las semanas recetas vegetarianas riquísimas saludables económicas y muy fáciles de preparar perfectas para el lunes en carne hoy os traigo mi receta de risotto de setas con arroz integral cremoso buenísimo y encantará a toda la familia para esta receta vamos a usar arroz redondo integral que he dejado toda la noche en remojo para reducir el tiempo de cocción los tradicionales utilizan arroz arborio o carnaroli pero yo prefiero usar arroz integral porque conserva toda su fibra y todos sus nutrientes empezamos calentando aceite de oliva en una cazuela a fuego medio-alto y salteamos medio kg de setas la mía puedes elegir tu setas favoritas es una receta muy versátil en cuanto estén tiernas las retiramos junto con su jugo y reservamos añadimos un poco más de aceite a la cazuela y doramos una cebolla picada incorporamos 200g de arroz removemos unos segundos para que se impregne de los sabores y vertemos un chorrito de vino blanco si prefieres mañana irá alcohol no pasa nada salta directamente al siguiente paso esperamos a que se evapore el alcohol y se haya absorbido prácticamente todo el líquido y vamos añadiendo el caldo de verduras cazo acaso removiendo muy a menudo no añadiremos más caldo hasta que se haya absorbido todo el anterior el tiempo de cocción y la cantidad de caldo que terminemos usando va a depender del tipo de arroz pero vamos a intentar dejar valiente la casa os va de lujo apartamos la cazuela del fuego y añadimos las setas reservadas con su cubo un par de nueces de mantequilla y unos 25 g de parmesano rallado de verdad es que no puedo ver cosa más rica que la cremoso delicioso alucinante podéis servirlo de inmediato o congelarlo espero que probéis a preparar la receta y si lo hacéis subido una foto a Instagram y mencionarme porque ya sabéis que me encanta ver vuestras versiones y si aún no lo habéis hecho seguirme en Instagram arroba avena y aguacate porque durante este mes estaré publicando en stories todos los días una nueva receta de batido de fruta o verdura saludables y no os olvidéis de pulsar el botón suscribirse porque os esperan un montón de recetas riquísimas cómo estás hasta el próximo vídeo pues no había grabado así que repetir bueno el tiempo de estoy grabando si vale vale espero que\n",
      "MoviePy - Writing audio in recetasvideos/receta11.wav\n"
     ]
    },
    {
     "name": "stderr",
     "output_type": "stream",
     "text": [
      "                                                                      \r"
     ]
    },
    {
     "name": "stdout",
     "output_type": "stream",
     "text": [
      "MoviePy - Done.\n",
      "Titulo:Magdalenas de calabaza saludables y sin azúcar\n",
      "Autor:Avena y Aguacate\n",
      "Fecha Publicacion:2019-10-19 00:00:00\n",
      "Entradilla:hola a todos y bienvenidos a un nuevo vídeo de avena y aguacate hoy volvemos a preparar juntos un desayuno saludable magdalenas de calabaza el otoño es la temporada desde vegetal tan nutritivo rico en fibra potasio y vitaminas A y B por lo que es bueno para la piel la vista y el sistema cardiovascular así que si queréis aprender a preparar estas magdalenas tan saludables que hagas un ratito conmigo ahora vamos a mear las magdalenas a 180 grados durante 20 o 25 minutos fáciles preparar estás magdalenas de calabaza que están riquísimas y son perfectas para desayunos o meriendas tenéis que probarlas porque sé que os van a encantar si él no me seguís en Instagram y estáis suscritos a mi blog tenéis los enlaces justo debajo del vídeo allí encontrareis todas mis recetas y un montón de contenido para inspiraros a llevar una vida más saludable y suscribiros a mi canal para seguir viendo vídeos de recetas cómo está hasta la próxima estás magdalenas tan nutritivas no está soldando las magdalenas durante 180 no que están riquísimas no y un montón de contenido nuevo que se tirará\n",
      "MoviePy - Writing audio in recetasvideos/receta12.wav\n"
     ]
    },
    {
     "name": "stderr",
     "output_type": "stream",
     "text": [
      "                                                                      \r"
     ]
    },
    {
     "name": "stdout",
     "output_type": "stream",
     "text": [
      "MoviePy - Done.\n",
      "Titulo:Bombones de avellana y chocolate | Ferrero Rocher saludables | Trufas sabor Nutella sin azúcar\n",
      "Autor:Avena y Aguacate\n",
      "Fecha Publicacion:2019-10-12 00:00:00\n",
      "Entradilla:hola a todos y bienvenidos a una nueva receta de avena y aguacate hoy os traigo un dulce saludable con el que sorprender a invitados o también para picar cuando os apetezca un capricho de lo más sano bombones de cacao y avellanas como todos los frutos secos son fuente de grasas saludables que nos protegen frente a enfermedades además de ser ricas en antioxidantes y minerales centros de avellanas más grandes así daremos un toque crujiente vamos a dejar enfriar los bombones en la nevera aproximadamente media hora si ya hemos estado estos son buenas dale me gusta y suscríbete a mi canal para no perderte ninguna de mis recetas saludables hasta la\n",
      "MoviePy - Writing audio in recetasvideos/receta13.wav\n"
     ]
    },
    {
     "name": "stderr",
     "output_type": "stream",
     "text": [
      "                                                                      \r"
     ]
    },
    {
     "name": "stdout",
     "output_type": "stream",
     "text": [
      "MoviePy - Done.\n",
      "Titulo:Scones de limón con harina integral | Receta fácil\n",
      "Autor:Avena y Aguacate\n",
      "Fecha Publicacion:2019-09-21 00:00:00\n",
      "Entradilla:hola a todos y bienvenidos a una nueva receta dulce y saludable de avena y aguacate hoy vamos a preparar escols de limón un dulce de origen inglés pero vamos a hacerlo en su versión más saludable integral con avena y sin nada de azúcar los scouts son muy sencillos pero para conseguir su inconfundible textura la receta tiene unas particularidades técnicas que vamos a ver paso a paso para preparar estos auténticos es importante usar mantequilla muy fría no le la mantequilla es una grasa láctea de buena calidad incorpora los trozos de mantequilla con un tenedor hasta que quede una textura como de migas de pan vamos a mear los escobas a 180 grados entre 12 y 14 minutos hasta que los bordes epicenas tarde heladitos si es así dale a Me Gusta y no os olvidéis de suscribiros para seguir viendo recetas tan saludables como riquísimas hasta la próxima\n",
      "MoviePy - Writing audio in recetasvideos/receta14.wav\n"
     ]
    },
    {
     "name": "stderr",
     "output_type": "stream",
     "text": [
      "                                                                      \r"
     ]
    },
    {
     "name": "stdout",
     "output_type": "stream",
     "text": [
      "MoviePy - Done.\n",
      "Titulo:Brownie saludable de avena y aguacate | Receta fit sin gluten y sin azúcar\n",
      "Autor:Avena y Aguacate\n",
      "Fecha Publicacion:2019-09-08 00:00:00\n",
      "Entradilla:hola a todos y bienvenidos a una receta más de avena y aguacate y esta vez de verdad porque por primera vez vamos a preparar una receta con avena y aguacate como ingredientes aguacate que son muy saludables y nutritivos sin azúcar y aptos para celíacos se utilizan avena certificada sin gluten este brownie de avena y aguacate triunfará hasta entre los más golosos y pueden disfrutar de él tanto adultos como niños si os ha gustado está receta dame like y si queréis seguir recibiendo recetas saludables tan ricas como está suscribiros a mi canal hasta la presión\n",
      "MoviePy - Writing audio in recetasvideos/receta15.wav\n"
     ]
    },
    {
     "name": "stderr",
     "output_type": "stream",
     "text": [
      "                                                                      \r"
     ]
    },
    {
     "name": "stdout",
     "output_type": "stream",
     "text": [
      "MoviePy - Done.\n",
      "Titulo:Galletas de mantequilla de cacahuete saludables y veganas | Receta sana sin azúcar\n",
      "Autor:Avena y Aguacate\n",
      "Fecha Publicacion:2019-08-09 00:00:00\n",
      "Entradilla:bienvenidas a través de receta de avena y aguacate hoy vamos a preparar unas galletas veganas de crema de cacahuete que también son aptas para alérgicos a los lácteos y al huevo y como siempre son muy saludables integrales y sin azúcar también puedes ayudarte con las manos ya tenemos la masa y ahora vamos a dejarla enfriar como hora y media a 2 horas en la nevera o unos 30 o 40 minutos en el congelador las galletas unos 10 minutos a 180 grados es importante que las dejes con cuidado en la rejilla para que se enfríen y se endurezca estás galletas y los riquísimas que están son perfectas para una merienda saludable o para un tentempié de media mañana\n"
     ]
    }
   ],
   "source": [
    "#y si tambien vemos si le permitimos al usuario que meta videos?\n",
    "dep=Depurador()\n",
    "if __name__ == '__main__':\n",
    "    #dep.extraccion('https://www.youtube.com/watch?v=6PzQY1E2s2g&list=PLxHmjpcgU5ArC2rY5cpoIcZoVKB_0UHfR&ab_channel=PlatosF%C3%A1cilesconTamara')\n",
    "    #dep.extraccion('https://www.youtube.com/watch?v=PsqR5M8rdjA&list=LL&index=9&t=4s')\n",
    "    #dep.extraccion('https://www.youtube.com/watch?v=xfYcM_jHgPY')\n",
    "    #dep.extraccion('https://www.youtube.com/watch?v=wiCfqc5W-yo')\n",
    "    #error#dep.extraccion('https://www.youtube.com/watch?v=3DnPkf9rP_0')\n",
    "    #error#dep.extraccion('https://www.youtube.com/watch?v=xVsgKMZFCZY')\n",
    "    dep.extraccion('https://www.youtube.com/watch?v=rpCe0RPMY94')\n",
    "    dep.extraccion('https://www.youtube.com/watch?v=rv4gLMa-FYk')\n",
    "    dep.extraccion('https://www.youtube.com/watch?v=VS8zYxBj4r8')\n",
    "    dep.extraccion('https://www.youtube.com/watch?v=o99JXrEkZoo')\n",
    "    dep.extraccion('https://www.youtube.com/watch?v=lKkg5L23b3M')\n",
    "    dep.extraccion('https://www.youtube.com/watch?v=PsqR5M8rdjA&t=14s')\n",
    "    dep.extraccion('https://www.youtube.com/watch?v=IvZaAL6qYe0&t=29s')\n",
    "    dep.extraccion('https://www.youtube.com/watch?v=SIMQBuuyE9M')\n",
    "    dep.extraccion('https://www.youtube.com/watch?v=_YoZfg7R8Hk')\n",
    "    dep.extraccion('https://www.youtube.com/watch?v=Zv7KdlOBk7Y')\n",
    "    dep.extraccion('https://www.youtube.com/watch?v=mFcN4btaZyI&t=2s')\n",
    "    \n",
    "    \n",
    "    "
   ]
  }
 ],
 "metadata": {
  "kernelspec": {
   "display_name": "Python 3 (ipykernel)",
   "language": "python",
   "name": "python3"
  },
  "language_info": {
   "codemirror_mode": {
    "name": "ipython",
    "version": 3
   },
   "file_extension": ".py",
   "mimetype": "text/x-python",
   "name": "python",
   "nbconvert_exporter": "python",
   "pygments_lexer": "ipython3",
   "version": "3.9.13"
  }
 },
 "nbformat": 4,
 "nbformat_minor": 5
}
