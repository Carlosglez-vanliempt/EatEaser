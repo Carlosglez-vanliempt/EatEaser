{
 "cells": [
  {
   "cell_type": "markdown",
   "id": "f8318545",
   "metadata": {},
   "source": [
    "<div style='width=100%; display:flex;flex-direction:row'><img  src=https://universidadeuropea.com/resources/media/images/universidad-europea-logo_poc9mEM.original.png width=100  style='  margin-left: auto;margin-right: auto; width: 25%; height:25%;'><img  src=https://i.ibb.co/1068C7j/EATEASER.jpg width=100 style='  margin-left: auto;margin-right: auto; width: 10%;height:25%;'></div>"
   ]
  },
  {
   "cell_type": "markdown",
   "id": "03ee9dce",
   "metadata": {},
   "source": [
    "<div style='margin:auto;text-align: center;font-family: \"Times New Roman\", Times, serif; font-weight: bold;'>PROYECTO COMUTACIONAL<br><br>EATEASER - VOZ A TEXTO</div>"
   ]
  },
  {
   "cell_type": "markdown",
   "id": "c329ef59",
   "metadata": {},
   "source": [
    "<div style='width:100%; display:flex;flex-direction:row'>\n",
    "    <div style='width:50%;margin-right:5cm;'>\n",
    "        <p style='font-family: \"Times New Roman\", Times, serif; font-weight: bold;'>ESTUDIANTES</p>\n",
    "<ul style='font-family: \"Times New Roman\", Times, serif;'>\n",
    "    <li>Adilem Dobras 21911633</li><li>Roberto Echevarria 21823680</li><li>Carlos Gonzales 22067726</li><li>Juan Carlos Rondeau 21816176</li></ul> </div>\n",
    "\n",
    "</div>"
   ]
  },
  {
   "cell_type": "markdown",
   "id": "fb3dfd23",
   "metadata": {},
   "source": [
    "<h2 style=\"font-size: 19px;color:#6DA0FF;font-family:Georgia, Times, 'Times New Roman', serif;letter-spacing: 3px;font-weight: normal\">1. Importamos las librerias</h2>"
   ]
  },
  {
   "cell_type": "code",
   "execution_count": 1,
   "id": "d5e13fba",
   "metadata": {},
   "outputs": [
    {
     "name": "stderr",
     "output_type": "stream",
     "text": [
      "C:\\Users\\thena\\.conda\\envs\\EatEaser\\lib\\site-packages\\pydub\\utils.py:170: RuntimeWarning: Couldn't find ffmpeg or avconv - defaulting to ffmpeg, but may not work\n",
      "  warn(\"Couldn't find ffmpeg or avconv - defaulting to ffmpeg, but may not work\", RuntimeWarning)\n"
     ]
    }
   ],
   "source": [
    "import glob\n",
    "import os\n",
    "import re\n",
    "import requests\n",
    "import pathlib\n",
    "import sys\n",
    "\n",
    "try:\n",
    "    from pytube import YouTube\n",
    "    from pytube import Playlist\n",
    "except ModuleNotFoundError:\n",
    "    !pip install pytube\n",
    "try:\n",
    "    import speech_recognition as sr\n",
    "except ModuleNotFoundError:\n",
    "    !pip install SpeechRecognition\n",
    "try:\n",
    "    from pydub import AudioSegment\n",
    "    from pydub.silence import split_on_silence\n",
    "except:\n",
    "    !pip install pydub\n",
    "try:\n",
    "    import moviepy.editor as mp\n",
    "except:\n",
    "    !pip install moviepy\n",
    "try:\n",
    "    from bs4 import BeautifulSoup\n",
    "except:\n",
    "    !pip install beautifulsoup4\n",
    "try:\n",
    "    from nltk.stem import PorterStemmer\n",
    "    from nltk.tokenize import word_tokenize\n",
    "except:\n",
    "    !pip install nltk  "
   ]
  },
  {
   "cell_type": "markdown",
   "id": "c1bce916",
   "metadata": {},
   "source": [
    "<h2 style=\"font-size: 19px;color:#6DA0FF;font-family:Georgia, Times, 'Times New Roman', serif;letter-spacing: 3px;font-weight: normal\">2. Inicio del programa</h2>"
   ]
  },
  {
   "cell_type": "markdown",
   "id": "80f5340a",
   "metadata": {},
   "source": [
    "<h3  style='font-family: \"Times New Roman\", Times, serif; font-weight: bold;text-align:center;font-size:14px'>CLASE CONTROLADORVIDEO</h3><p style='font-family: \"Times New Roman\", Times, serif; font-size:14px'>En esta clase se realizará los ajustes para manejar el video recibido y manipularlo.</p>\n"
   ]
  },
  {
   "cell_type": "code",
   "execution_count": 2,
   "id": "5bb88615",
   "metadata": {},
   "outputs": [],
   "source": [
    "class ControladorVideo:\n",
    "    def __init__(self,enlace): \n",
    "        self._idvideo = self.reenumerar()\n",
    "        self.enlacevideo=enlace\n",
    "        self.yt=YouTube(self.enlacevideo)\n",
    "        self.nombrevideo=''\n",
    "        self.titulovideo=self.yt.title\n",
    "        self.autorvideo=self.yt.author\n",
    "        self.fechavideo=self.yt.publish_date\n",
    "        self.duracionvideo=self.yt.length\n",
    "    \"\"\"|DESCARGAR VIDEO URL: descarga el video de youtube\n",
    "       |return: devuelve una ruta absoluta\"\"\"\n",
    "    def descargarVideoURL(self):\n",
    "        recetasVideos = 'recetasvideos/'\n",
    "        #aqui creo un nuevo id para el nuevo video\n",
    "        self._idvideo= self._idvideo+1\n",
    "        #esta sera el archivo del video y su nuevo nombre\n",
    "        nombre='receta'+str(self._idvideo)\n",
    "        #le pedimos al pytube que solo nos descargue el audio y lo descargamos\n",
    "        t=self.yt.streams.filter(file_extension='mp4').first().download(output_path=recetasVideos,filename=nombre+'.mp4')\n",
    "        #devolvemos el nombre\n",
    "        return nombre\n",
    "    \"\"\"|PARSEO VIDEO: pasa el video de .mp4 a .wav\n",
    "       |nombre: es un string que se colocara el nombre del video\n",
    "       |return: devuelve el nuevo nombre del audio en .wav\"\"\"\n",
    "    def parseoVideo(self,nombre):\n",
    "        recetasVideos = 'recetasvideos/'\n",
    "        #tomamos el video en mp4 \n",
    "        track = mp.VideoFileClip(recetasVideos+nombre+'.mp4')\n",
    "        #cambiamos el video a .wav\n",
    "        nombre_wav=\"{}.wav\".format(nombre)\n",
    "        track.audio.write_audiofile(recetasVideos+nombre_wav)\n",
    "        track.close()\n",
    "        return nombre\n",
    "    \"\"\"|REENUMERAR: Devuelve cual es el id del siguiente video.\n",
    "       |primer for: recorre cada carpeta de /recetastextos\n",
    "       |segundo for: cuenta cada archivo dentro de /recetastextos/* \"\"\"\n",
    "    def reenumerar(self):\n",
    "        contador = 0\n",
    "        for item in pathlib.Path(\"./recetastextos/\").iterdir():\n",
    "            if item.is_file():\n",
    "                contador += 1\n",
    "            elif item.is_dir():\n",
    "                for subitem in item.iterdir():\n",
    "                    if subitem.is_file():                     \n",
    "                        contador += 1\n",
    "        return contador\n",
    "    \"\"\"|SPEECH TEXT:Transforma el audio a texto\n",
    "       |nombre: es un string que se colocara el nombre del video\n",
    "       |return: devuelve un string con el texto devuelto\"\"\"\n",
    "    def speech_text(self,nombre):\n",
    "        recetasVideos = 'recetasvideos/'\n",
    "        #instanciamos el recognizer\n",
    "        r = sr.Recognizer()\n",
    "        audio = sr.AudioFile(recetasVideos+nombre)\n",
    "        with audio as source:\n",
    "            audio_file = r.record(source)\n",
    "        #transcribimos el audio a texto\n",
    "        result = r.recognize_google(audio_file, language = 'es-ES')\n",
    "        return result\n",
    "        "
   ]
  },
  {
   "cell_type": "markdown",
   "id": "d3b297ab",
   "metadata": {
    "tags": []
   },
   "source": [
    "<h3  style='font-family: \"Times New Roman\", Times, serif; font-weight: bold;text-align:center;font-size:14px'>CLASE DEPURADOR</h3><p style='font-family: \"Times New Roman\", Times, serif; font-size:14px'>En esta clase se realizará el proceso de extraccion, transformacion y carga de nuestro programa EATEASER.</p>\n"
   ]
  },
  {
   "cell_type": "code",
   "execution_count": 3,
   "id": "7d0598a3",
   "metadata": {},
   "outputs": [],
   "source": [
    "#si el video es mayor de 3 minutos no funciona\n",
    "#si el video es en ingles no funciona\n",
    "class Depurador:\n",
    "    def __init__(self): \n",
    "        self.rec=RecursosAdicionales()\n",
    "    \"\"\"|VIDEO: proceso etl donde extraemos al informacion del video \n",
    "       |enlace: es un string que se colocara el enlace del video\"\"\"\n",
    "    def video(self,enlace):\n",
    "        try:\n",
    "            #instanciamos el controlador de videos\n",
    "            cv=ControladorVideo(enlace)\n",
    "            #paso 1: descargamos el video\n",
    "            cv.nombrevideo=cv.descargarVideoURL()\n",
    "            #paso 2: pasamos el video a .wav\n",
    "            nombre=cv.parseoVideo(cv.nombrevideo)\n",
    "            #paso 3: pasamos el .wav a texto\n",
    "            try:                \n",
    "                num_segm=self.rec.segcionarXsilencios(nombre)\n",
    "                result=\"\"\n",
    "                for i in range(num_segm):\n",
    "                    result=result+str(cv.speech_text(\"../temp_audios/{}_extracto{}.wav\".format(nombre,i+1)))\n",
    "                    result=result+\" \"\n",
    "                #paso 4: escribimos el texto recibido en un txt\n",
    "                self.rec.eliminacionWav_Audios(\"temp_audios\")\n",
    "                try:\n",
    "                    quitarEmojis = dict.fromkeys(range(0x10000, sys.maxunicode + 1), 'NULL')\n",
    "                    tituloSinEmojis=cv.titulovideo.translate(quitarEmojis)\n",
    "                    autorSinEmojis=cv.autorvideo.translate(quitarEmojis)\n",
    "                    resultado=self.rec.escritura(cv.nombrevideo,\"Titulo:\"+tituloSinEmojis+\"\\n\"+\"Autor:\"+autorSinEmojis+\"\\n\"+\"Fecha Publicacion:\"+str(cv.fechavideo)+\"\\n\"+\"Entradilla:\"+result)\n",
    "                    self.rec.eliminacionMp4()\n",
    "                except Exception as e:\n",
    "                    print(repr(e))\n",
    "                    print(\"No se ha podido eliminar los caracteres corruptos el video: \"+ cv.nombrevideo + \" - \"+ cv.titulovideo)\n",
    "                    #paso 5: eliminamos los mp4\n",
    "                    self.rec.eliminacionMp4()\n",
    "                    return resultado   \n",
    "            except Exception as e:\n",
    "                print(repr(e))\n",
    "                print(\"No se ha podido transcribir el video: \"+ cv.nombrevideo + \" - \"+ cv.titulovideo+\" - \"+cv.enlacevideo)\n",
    "                self.rec.eliminacionMp4()\n",
    "                self.rec.eliminacionWav_Audios(\"temp_audios\")\n",
    "\n",
    "                return None\n",
    "        except Exception as e:\n",
    "            print(repr(e))\n",
    "            print(\"No se ha podido descargar el video: \"+ cv.nombrevideo + \" - \"+ cv.titulovideo)\n",
    "            return None\n",
    "    def lista(self, enlace):\n",
    "        playlist_urls = Playlist(enlace)\n",
    "        for url in playlist_urls:\n",
    "            self.video(url)\n",
    "    def transformacion(self):\n",
    "        print()\n",
    "    def carga(self):\n",
    "        print()"
   ]
  },
  {
   "cell_type": "code",
   "execution_count": 4,
   "id": "c910592f",
   "metadata": {},
   "outputs": [],
   "source": [
    "#aqui iran lecturas-escrituras-guardar-eliminar cosas en bases de datos\n",
    "class RecursosAdicionales:\n",
    "    \"\"\"|ESCRITURA: escribe textos txt\n",
    "       |nombre: nombre del \n",
    "       |return: devuelve el audio en texto\"\"\"\n",
    "    #yo siento que en vez de cambiar de carpeta los textos...deberiamos eliminar los mp4\n",
    "    #y si lo mas factible aqui es que guardemos el video por su nombre?\n",
    "    #creo que no debemos contar los files porque cansan el programa\n",
    "    \n",
    "    def escritura(self,nombre,texto):\n",
    "        recetasTextos = './recetastextos/'\n",
    "        if not(os.path.exists(recetasTextos)):\n",
    "            os.mkdir(recetasTextos)\n",
    "        f = open(recetasTextos+nombre+'.txt', 'w')\n",
    "        f.write(texto)\n",
    "        f = open(recetasTextos+nombre+'.txt', \"r\")\n",
    "        print(f.read())\n",
    "        f.close()\n",
    "    def eliminacionMp4(self):\n",
    "        recetasVideos = './recetasvideos/'\n",
    "        py_files = glob.glob(recetasVideos+'*.mp4')\n",
    "        for py_file in py_files:\n",
    "            try:\n",
    "                os.remove(py_file)\n",
    "            except OSError as e:\n",
    "                print(f\"Error:{ e.strerror}\")\n",
    "                \n",
    "    def eliminacionWav_Audios(self, path):\n",
    "        url = './'+path+'/'\n",
    "        py_files = glob.glob(url+'*.wav')\n",
    "        for py_file in py_files:\n",
    "            try:\n",
    "                os.remove(py_file)\n",
    "            except OSError as e:\n",
    "                print(f\"Error:{ e.strerror}\") \n",
    "    \n",
    "    def segcionarXsilencios(self,audio):\n",
    "        import numpy as np\n",
    "        from pydub import AudioSegment as aseg\n",
    "\n",
    "        audio1=aseg.from_wav(\"./recetasvideos/\"+audio+\".wav\")\n",
    "        # this is an array\n",
    "        samples = audio1.get_array_of_samples()\n",
    "        segundo=88521\n",
    "        index=[]\n",
    "        for i in range(0,len(samples),int(segundo/5)):\n",
    "            dataSeg = samples[i:int(segundo/5)+i]\n",
    "            media=np.mean(dataSeg)\n",
    "            var=np.var(dataSeg)\n",
    "            if -10<=media<=10 and var<=1900:\n",
    "                index.append(i)\n",
    "\n",
    "        borrar=[]\n",
    "        guardado=0\n",
    "        for i in range(len(index)-1):\n",
    "            if index[i+1]<=index[i]+(20*segundo):\n",
    "                if i==0:\n",
    "                    tiempo=(index[i])/segundo\n",
    "                else:\n",
    "                    tiempo=(index[i+1]-guardado)/segundo\n",
    "                if tiempo<=120:\n",
    "                    borrar.append(i)\n",
    "                else:\n",
    "                    print(\"guardados: \" + str(index[i]/segundo))\n",
    "                    guardado=index[i]\n",
    "            else:\n",
    "                guardado=index[i]\n",
    "\n",
    "        final=np.delete(index, borrar, axis=0) \n",
    "        print(\"------------------------------------------------\")\n",
    "        print(final)\n",
    "        print(\"------------------------------------------------\")\n",
    "        extractos=[]\n",
    "        for i in range(len(final)):\n",
    "            if i==0:\n",
    "                extractos.append(samples[:final[i]])\n",
    "            else:\n",
    "                extractos.append(samples[final[i-1]:final[i]])\n",
    "        for i in range(len(extractos)):\n",
    "            nombre=\"\"\n",
    "            new_sound = audio1._spawn(extractos[i])\n",
    "            nombre=\"temp_audios/{}_extracto{}.wav\".format(audio,i+1)\n",
    "            new_sound.export(nombre,format=\"wav\")\n",
    "        return len(final)"
   ]
  },
  {
   "cell_type": "code",
   "execution_count": 5,
   "id": "e747077e",
   "metadata": {},
   "outputs": [],
   "source": [
    "class WebScrap:\n",
    "    def __init__(self): \n",
    "        self.headers = {'User-Agent': 'Mozilla/5.0 (Macintosh; Intel Mac OS X 10_10_1) AppleWebKit/537.36 (KHTML, like Gecko) Chrome/39.0.2171.95 Safari/537.36'}\n",
    "    def request(self, url):\n",
    "        request1 = requests.get(url, headers=self.headers)\n",
    "        html = request1.content\n",
    "        soup = BeautifulSoup(html, 'html.parser')\n",
    "        return soup\n",
    "    def verificar_alimento(self,alimento):\n",
    "        soup = self.request( 'https://www.themealdb.com/api/json/v1/1/search.php?s='+alimento)\n",
    "        print(soup)\n",
    "        "
   ]
  },
  {
   "cell_type": "markdown",
   "id": "f517c7a4",
   "metadata": {},
   "source": [
    "<h2 style=\"font-size: 19px;color:#6DA0FF;font-family:Georgia, Times, 'Times New Roman', serif;letter-spacing: 3px;font-weight: normal\">3. Main</h2>"
   ]
  },
  {
   "cell_type": "code",
   "execution_count": 6,
   "id": "f92c5289",
   "metadata": {},
   "outputs": [
    {
     "name": "stdout",
     "output_type": "stream",
     "text": [
      "MoviePy - Writing audio in recetasvideos/receta24.wav\n"
     ]
    },
    {
     "name": "stderr",
     "output_type": "stream",
     "text": [
      "                                                                      \r"
     ]
    },
    {
     "name": "stdout",
     "output_type": "stream",
     "text": [
      "MoviePy - Done.\n",
      "------------------------------------------------\n",
      "[ 548824 9276896]\n",
      "------------------------------------------------\n",
      "Titulo:Churrasco a la plancha con sorpresa / Carne a la plancha - Paulina Cocina\n",
      "Autor:Paulina Cocina\n",
      "Fecha Publicacion:2015-06-03 00:00:00\n",
      "Entradilla:la gente un poquito dice la plancha una forma de alegrar un vicio a la plancha también un poco rara pero qué buenísimo confía en mí esta noche para saber más así que está pido esta pasta pero me vas a mandar un mensaje puedes hacer la Paulina gracias gracias gracias nunca más vuelvo a desconfiar en voz presta atención TSP entonces qué vas a comer todavía no están las planchas recaliente como si tienes un momento le vas a poner el pollito de lado de la mesa de café mientras está haciendo le pones por arriba y eso no es el tiempo que dejes tu churrasco un poco jugado todo entonces lo estoy dejando un minuto fuerte y luego bajo el fuego medio otro minuto y lo vemos prontito de cada lado cuenta y lo terminamos de cocina \n",
      "MoviePy - Writing audio in recetasvideos/receta25.wav\n"
     ]
    },
    {
     "name": "stderr",
     "output_type": "stream",
     "text": [
      "                                                                      \r"
     ]
    },
    {
     "name": "stdout",
     "output_type": "stream",
     "text": [
      "MoviePy - Done.\n",
      "------------------------------------------------\n",
      "[  495712  7258640 12162648]\n",
      "------------------------------------------------\n",
      "Titulo:Cómo hacer tortitas ¡RÁPIDO!: Tortitas de maíz / Choclo  - Paulina Cocina\n",
      "Autor:Paulina Cocina\n",
      "Fecha Publicacion:2015-07-01 00:00:00\n",
      "Entradilla:vamos a hacer tortitas de coco tortilla de choclo no de coco particularidad que se pueden hacer dulces o saladas quieres una pasta ING agregamos el huevo y pequeñito la mezcla bien bien yo cereales salpimienta y el queso racha si son las dulces en esta parte le pones el azúcar y el queso que se rifa si quieres vas a poner chorrito de aceite en una sartén y no me gusta escuchar más a empezar a poner la mezcla de las tortitas a todo medio a maravisa así se van haciendo las tortitas cuando las ves doraditas de un lado las das vueltas ya y las vas pasando importante hacerlo fuego medio a fuego fuerte se van a quemar a fuego suave se van a acercar las ponemos aquí en una fuentecita en mi caso le tiramos por arriba ciboulette picado si no le dieras Canena si son las dulces a ver si te puedo mostrar cómo están las tortitas esponjosas y estás súper húmedas rebuenas \n",
      "MoviePy - Writing audio in recetasvideos/receta26.wav\n"
     ]
    },
    {
     "name": "stderr",
     "output_type": "stream",
     "text": [
      "                                                                      \r"
     ]
    },
    {
     "name": "stdout",
     "output_type": "stream",
     "text": [
      "MoviePy - Done.\n",
      "guardados: 127.99855401543137\n",
      "------------------------------------------------\n",
      "[  318672 11330560 12941624 16960432]\n",
      "------------------------------------------------\n",
      "UnknownValueError()\n",
      "No se ha podido transcribir el video: receta26 - Receta de Sopa Paraguaya - Paulina Cocina T04 #10 - https://www.youtube.com/watch?v=XMur7aWyCH8\n",
      "MoviePy - Writing audio in recetasvideos/receta26.wav\n"
     ]
    },
    {
     "name": "stderr",
     "output_type": "stream",
     "text": [
      "                                                                      \r"
     ]
    },
    {
     "name": "stdout",
     "output_type": "stream",
     "text": [
      "MoviePy - Done.\n",
      "------------------------------------------------\n",
      "[ 336376 5470536 9666384]\n",
      "------------------------------------------------\n",
      "Titulo:Pastel de Verduras (Strata): absolutamente GENIAL- Paulina Cocina\n",
      "Autor:Paulina Cocina\n",
      "Fecha Publicacion:2015-04-15 00:00:00\n",
      "Entradilla:estoy firmando hacer una receta de verduras que me robó el corazón nunca nunca es fácil de verdura se trata de verduras le van cantar señora y si lo Pokémon y familia sonriendo a la cámara es típico como si fuera una tarta pero como quieras es tonto te van a cantar en la señora ingredientes para una fuente mediana son un paquete de espinaca una cebolla cuatro o cinco tomates secos unos 3 pancitos como los que te voy a mostrar o el equivalente en volumen de los ciegos tenga tres huevos sal pimienta y un chorrito de aceite guarnición para usar como plato único final Cataluña y los tomates secos que los tengo hidratando hace un ratito en aguas tibias siguiente que hacemos es en 1 1 8 vamos a poner un chorrito de aceite y le ponemos cuando esté caliente la Santiago por un ratito transparente transparente agregamos las espinacas picaditas parecen muchas pero en realidad ahora vas a ver que no segundito se reduce ya vamos a dejar muy poquito al fuego las espinacas cuando les cambian el color y se ponen así de Cervera de divino restaurante ahí le vamos a regar los tomates picados sal y pimienta lo revolvemos bien \n",
      "MoviePy - Writing audio in recetasvideos/receta27.wav\n"
     ]
    },
    {
     "name": "stderr",
     "output_type": "stream",
     "text": [
      "                                                                      \r"
     ]
    },
    {
     "name": "stdout",
     "output_type": "stream",
     "text": [
      "MoviePy - Done.\n",
      "guardados: 173.39804114277968\n",
      "------------------------------------------------\n",
      "[  584232 15349368 15774264]\n",
      "------------------------------------------------\n",
      "UnknownValueError()\n",
      "No se ha podido transcribir el video: receta27 - Papas a la Crema Gratinadas (patatas) - Paulina Cocina T04 #05 - https://www.youtube.com/watch?v=jst9IhRfHnU\n",
      "MoviePy - Writing audio in recetasvideos/receta27.wav\n"
     ]
    },
    {
     "name": "stderr",
     "output_type": "stream",
     "text": [
      "                                                                      \r"
     ]
    },
    {
     "name": "stdout",
     "output_type": "stream",
     "text": [
      "MoviePy - Done.\n",
      "guardados: 200.99772935235706\n",
      "------------------------------------------------\n",
      "[  407192 17792520 17863336]\n",
      "------------------------------------------------\n",
      "UnknownValueError()\n",
      "No se ha podido transcribir el video: receta27 - Pollo a la Mostaza en 8 pasos sencillos - Paulina Cocina - https://www.youtube.com/watch?v=ciSwx4QxKvk\n",
      "MoviePy - Writing audio in recetasvideos/receta27.wav\n"
     ]
    },
    {
     "name": "stderr",
     "output_type": "stream",
     "text": [
      "                                                                      \r"
     ]
    },
    {
     "name": "stdout",
     "output_type": "stream",
     "text": [
      "MoviePy - Done.\n",
      "------------------------------------------------\n",
      "[ 6355736 10197504]\n",
      "------------------------------------------------\n",
      "Titulo:Sopa de Calabaza y Jengibre ¡Light! - Paulina Cocina T03 #14\n",
      "Autor:Paulina Cocina\n",
      "Fecha Publicacion:2014-09-12 00:00:00\n",
      "Entradilla:sean bienvenidos al cine una sopa de calabaza frita fácil Purísima ingredientes una calabaza media cebolla una rodaja de jengibre gorda una cucharadita de curry media cucharadita de cúrcuma una cucharada de manteca sal pimienta y aceite le pongo con la cáscara solo le quitó el culito en cuadraditos no importa el tamaño está papá también portada pedacitos tamaño calentando más cerca siempre con un chorrito de aceite para que no sé que me ibas a poner ahí a saltear la cebolla cuando la cebolla esté transparente cita y agregar la papa y la calabaza calabaza y también la manchita depresible saltear buen rato revólver trabajo hasta que esté un poco gracias laskuri hasta arriba más que eso y la pones a hervir \n",
      "MoviePy - Writing audio in recetasvideos/receta28.wav\n"
     ]
    },
    {
     "name": "stderr",
     "output_type": "stream",
     "text": [
      "                                                                      \r"
     ]
    },
    {
     "name": "stdout",
     "output_type": "stream",
     "text": [
      "MoviePy - Done.\n",
      "------------------------------------------------\n",
      "[513416]\n",
      "------------------------------------------------\n",
      "UnknownValueError()\n",
      "No se ha podido transcribir el video: receta28 - Como cocer pasta (y que quede BIEN!) - Paulina Cocina - https://www.youtube.com/watch?v=rA6AN3RGRFc\n",
      "MoviePy - Writing audio in recetasvideos/receta28.wav\n"
     ]
    },
    {
     "name": "stderr",
     "output_type": "stream",
     "text": [
      "                                                                      \r"
     ]
    },
    {
     "name": "stdout",
     "output_type": "stream",
     "text": [
      "MoviePy - Done.\n",
      "------------------------------------------------\n",
      "[  513416  5913136  9967352 12870808]\n",
      "------------------------------------------------\n",
      "UnknownValueError()\n",
      "No se ha podido transcribir el video: receta28 - Pescado fácil a la Sal - Paulina Cocina - https://www.youtube.com/watch?v=QtaHG8Sd2SI\n",
      "MoviePy - Writing audio in recetasvideos/receta28.wav\n"
     ]
    },
    {
     "name": "stderr",
     "output_type": "stream",
     "text": [
      "                                                                    \r"
     ]
    },
    {
     "name": "stdout",
     "output_type": "stream",
     "text": [
      "MoviePy - Done.\n",
      "------------------------------------------------\n",
      "[]\n",
      "------------------------------------------------\n",
      "Titulo:Cómo hacer huevos revueltos (¡y que queden GENIALES!) / Recetas con huevo - Paulina Cocina\n",
      "Autor:Paulina Cocina\n",
      "Fecha Publicacion:2015-08-28 00:00:00\n",
      "Entradilla:\n",
      "MoviePy - Writing audio in recetasvideos/receta29.wav\n"
     ]
    },
    {
     "name": "stderr",
     "output_type": "stream",
     "text": [
      "                                                                      \r"
     ]
    },
    {
     "name": "stdout",
     "output_type": "stream",
     "text": [
      "MoviePy - Done.\n",
      "------------------------------------------------\n",
      "[  655048  5806912 13525856]\n",
      "------------------------------------------------\n",
      "Titulo:Filetes rusos paso a paso / Recetas con carne picada o molida - Paulina Cocina\n",
      "Autor:Paulina Cocina\n",
      "Fecha Publicacion:2015-08-26 00:00:00\n",
      "Entradilla:Lenin Trotsky Dostoievski Tolstói fin de rusos para todos chicos filetes rusos la milanesa de Nadia Comaneci entre hamburguesa y noviembre el mes posterior a la Revolución de Octubre de rusos todo el mundo ni sabemos ya rosa pero si son filetes vosotros tío raro pero bueno no solo uso muchos son buenos así que probarlas filetes rusos precio balalaika que lo primero que hacemos es rayar la cebosa bien pasadita porque rosada y no picada podrás olvidar a Marta entonces tenemos aquí en un bol nuestra carne picada ancianos a mezclar con la papá la papá simplemente es minutos de papá cocida y bien aplastar y casi nadie solo vamos a mezclar nuestra cebollita Ratjada no mezclar bien vamos a condimentar bien con sal y pimienta paso siguiente vamos a agregar el huevo y vamos a unir bien todo esto que que debieron ido bien integrado que lo tenemos así vamos a ir formando una especie de Bogotá una bola y las aplastamos hasta que queden como una hamburguesita paso siguiente las vamos a pasar por pan rallado es un rebozado como de la planta eh es una pasada rápido por pan razón para que le dé un poquito de crocante pero nada incluso algunos están los filetes rusos se pasan por pasado entonces una vez que las tenemos bien así las seguimos como siempre en aceite súper frente a la puerta dorada de ambas partes tienen razón tienen razón pero es que me gusta mucho lo siento un montón me encanta hacer con un hilito de aceite no pasa nada si la suerte macizo más ricas citas pero no pasa nada si las hacen con un besito y también las pueden hacer al horno se pueden hacer al horno perdona pero no quedan igual entonces vamos sacando y quiero mostrarte como está \n",
      "MoviePy - Writing audio in recetasvideos/receta30.wav\n"
     ]
    },
    {
     "name": "stderr",
     "output_type": "stream",
     "text": [
      "                                                                      \r"
     ]
    },
    {
     "name": "stdout",
     "output_type": "stream",
     "text": [
      "MoviePy - Done.\n",
      "------------------------------------------------\n",
      "[  601936  4284368 10764032]\n",
      "------------------------------------------------\n",
      "UnknownValueError()\n",
      "No se ha podido transcribir el video: receta30 - Papas chips ¡SIN aceite! / Recetas con papas- Paulina Cocina - https://www.youtube.com/watch?v=75qssKMIgm4\n",
      "MoviePy - Writing audio in recetasvideos/receta30.wav\n"
     ]
    },
    {
     "name": "stderr",
     "output_type": "stream",
     "text": [
      "                                                                      \r"
     ]
    },
    {
     "name": "stdout",
     "output_type": "stream",
     "text": [
      "MoviePy - Done.\n",
      "------------------------------------------------\n",
      "[]\n",
      "------------------------------------------------\n",
      "Titulo:Pollo a la cacerola ¡FÁCIL! / Recetas con pechuga de pollo - Paulina Cocina\n",
      "Autor:Paulina Cocina\n",
      "Fecha Publicacion:2015-08-27 00:00:00\n",
      "Entradilla:\n",
      "MoviePy - Writing audio in recetasvideos/receta31.wav\n"
     ]
    },
    {
     "name": "stderr",
     "output_type": "stream",
     "text": [
      "                                                                    \r"
     ]
    },
    {
     "name": "stdout",
     "output_type": "stream",
     "text": [
      "MoviePy - Done.\n",
      "------------------------------------------------\n",
      "[17704]\n",
      "------------------------------------------------\n",
      "UnknownValueError()\n",
      "No se ha podido transcribir el video: receta31 - Puré de coliflor y papas / Recetas de verduras para NIÑOS - Paulina Cocina - https://www.youtube.com/watch?v=7fhtGPRZyQ8\n",
      "MoviePy - Writing audio in recetasvideos/receta31.wav\n"
     ]
    },
    {
     "name": "stderr",
     "output_type": "stream",
     "text": [
      "                                                                      \r"
     ]
    },
    {
     "name": "stdout",
     "output_type": "stream",
     "text": [
      "MoviePy - Done.\n",
      "------------------------------------------------\n",
      "[ 655048 7276344]\n",
      "------------------------------------------------\n",
      "Titulo:Receta gazpacho andaluz, con Anabel Cherubito - Paulina Cocina\n",
      "Autor:Paulina Cocina\n",
      "Fecha Publicacion:2015-09-02 00:00:00\n",
      "Entradilla:la renuncia la máquina una vez más tiempo gazpacho Ana chiringuito invitada hermosa buena Oz igual vamos a recordar este día para siempre como el día en que se nos perdió en proteínas y el pepino te quedan la verdulería en el tomate el pepino con la piel el ají y el ajo con un poquito de agua \n",
      "MoviePy - Writing audio in recetasvideos/receta32.wav\n"
     ]
    },
    {
     "name": "stderr",
     "output_type": "stream",
     "text": [
      "                                                                      \r"
     ]
    },
    {
     "name": "stdout",
     "output_type": "stream",
     "text": [
      "MoviePy - Done.\n",
      "------------------------------------------------\n",
      "[  442600  5204976 14340240]\n",
      "------------------------------------------------\n",
      "Titulo:CÓMO HACER PATACONES ¡ECONÓMICOS! RECETA COLOMBIANA (TOSTONES)\n",
      "Autor:Paulina Cocina\n",
      "Fecha Publicacion:2015-09-09 00:00:00\n",
      "Entradilla:eso no es una banana es un plátano macho te va a quedar la buscaba como lengua de gato Anthos A7 cocina típico de la cocina latinoamericana típico de la cocina caribeña y hay una forma que es fantástica para probarlo por primera vez que son los patacones te voy a dar la receta es super simple y me está doliendo años de Venezuela de Colombia se están riendo de mí acá en Argentina no sabemos ni lo que conozca tacones muy pedido esto por esto porque me encanta eso que lo primero no es fácil pelar un plátano macho no se pela así con una gana hacemos corta si íbamos haciendo cortes profundos cortes toda la cáscara así con el coche eso y luego lo vamos sacando de esta manera así se pela un plátano macho la cáscara está como muy alergia entonces qué pena de esta manera importante para estar los patacones con el plátano maduro se hace otro tipo de comida pero no hemos pegado cortarlo en rodajas cositas así más o menos que tenemos que estar todas vamos a poner aceite bien caliente no vamos a hacer ponemos y los primos hasta que sí poquito todo el aliento no tanto solo un poquito lo vamos sacando y ahora que lo tenemos así acá viene el kit de la cuestión paso el culete de un vaso y lo vamos a mojar con agua con el agua que hacemos aplastar el patacón se te va a pegar todo te vas a poner las horas ya estamos aquí y ahora que lo tenemos aquí seguimos ahora sí hasta que esté bien dorado o lo haríamos consiguió picado en su defecto pero con cilantro quedan maravilloso y ahí tener las super hero que a ver si te gusta cómo están por ahí \n",
      "MoviePy - Writing audio in recetasvideos/receta33.wav\n"
     ]
    },
    {
     "name": "stderr",
     "output_type": "stream",
     "text": [
      "                                                                    \r"
     ]
    },
    {
     "name": "stdout",
     "output_type": "stream",
     "text": [
      "MoviePy - Done.\n",
      "------------------------------------------------\n",
      "[0]\n",
      "------------------------------------------------\n",
      "UnknownValueError()\n",
      "No se ha podido transcribir el video: receta33 - Empanadas de jamón y queso: un TRUCO / Recetas argentinas- Paulina Cocina - https://www.youtube.com/watch?v=OfFv4YDgK3Y\n",
      "MoviePy - Writing audio in recetasvideos/receta33.wav\n"
     ]
    },
    {
     "name": "stderr",
     "output_type": "stream",
     "text": [
      "                                                                      \r"
     ]
    },
    {
     "name": "stdout",
     "output_type": "stream",
     "text": [
      "MoviePy - Done.\n",
      "------------------------------------------------\n",
      "[  761272  5895432 10675512 15384776 21669696 25299016 27476608]\n",
      "------------------------------------------------\n",
      "Titulo:Bife de chorizo a la plancha: 10 TRUCOS / Recetas de carne - Paulina Cocina\n",
      "Autor:Paulina Cocina\n",
      "Fecha Publicacion:2015-09-30 00:00:00\n",
      "Entradilla:necesito pollito hacer un bife a la plancha te va a venir genial pero si sabes hacerlo porque tiene su ciencia se dice la plancha el Wi-Fi por excelencia chorizo que me encanta que sea así como así que te voy a pasar Raquel estaba la visa se convierta en el 10 minutos por lo menos saber la intensidad del calor y a poco vas a ir entendiendo cuál es la intensidad que no te crezca la práctica la práctica la plancha está bien caliente acortar está Gracita que tiene acá pedacito la ficha que te lo pasas por arriba la plancha esa Gracita va a ser que él dice que iba a ser que se cuesta más falso que le ponemos dices tú sales antes la carne se puede desalar si la está bastante tenéis que ponerlas al exactamente dónde ponerlo activación pasados 5 minutos que pusiste las aldeas al empieza a penetrar una carne y eso está tomando el momento en el que solo doy vuelta es cuando en la superficie empiezan a parecer están gotitas Chiquititas están Greg en ese momento lo doy vuelta y repito la operación minutitos para un lado y después de estos dos minutos cómo saber cuándo está hecho de poquito te vas a dar cuenta cuando está te gusta sino también te estás viendo lado que del otro pero eso también miro cuando le Lourdes tiene te pone blanquito así me gusta a mí sí me gusta punto pues cuando está blandito lo saco bien apunto como a mí me gustan vale chino buenísimo te quiero hija chorizo en total es que los dos minutos estado más unos 3 minutos más o sea unos 5 minutos muy cabreado y nada que más te digo nos aplaste no ves que sea cosa de las películas pinchos para cuenta siempre con una cita o una pala inmediatamente los sacado un risotto trabajo poner chimichurri poner preciosa pero solo le pongo nada hola mi amor voy a comer churrasco hasta otra estación Ventura de Paulina cocina \n",
      "MoviePy - Writing audio in recetasvideos/receta34.wav\n"
     ]
    },
    {
     "name": "stderr",
     "output_type": "stream",
     "text": [
      "                                                                      \r"
     ]
    },
    {
     "name": "stdout",
     "output_type": "stream",
     "text": [
      "MoviePy - Done.\n",
      "------------------------------------------------\n",
      "[]\n",
      "------------------------------------------------\n",
      "Titulo:Salsa de pollo para pastas / Salsas para pastas - Paulina Cocina\n",
      "Autor:Paulina Cocina\n",
      "Fecha Publicacion:2015-10-09 00:00:00\n",
      "Entradilla:\n",
      "MoviePy - Writing audio in recetasvideos/receta35.wav\n"
     ]
    },
    {
     "name": "stderr",
     "output_type": "stream",
     "text": [
      "                                                                      \r"
     ]
    },
    {
     "name": "stdout",
     "output_type": "stream",
     "text": [
      "MoviePy - Done.\n",
      "------------------------------------------------\n",
      "[  247856 18748536 21156280]\n",
      "------------------------------------------------\n",
      "UnknownValueError()\n",
      "No se ha podido transcribir el video: receta35 - Pan casero de lino: SIN harina, sin gluten ¡y adelgaza!. Una receta de pan para celíacos genial. - https://www.youtube.com/watch?v=Jvjfdj5afs0\n",
      "MoviePy - Writing audio in recetasvideos/receta35.wav\n"
     ]
    },
    {
     "name": "stderr",
     "output_type": "stream",
     "text": [
      "                                                                      \r"
     ]
    },
    {
     "name": "stdout",
     "output_type": "stream",
     "text": [
      "MoviePy - Done.\n",
      "------------------------------------------------\n",
      "[  601936  6886856 15969008 18783944]\n",
      "------------------------------------------------\n",
      "Titulo:Pollo a la sal EN 2 PASOS sencillos o cómo hacer pollo al horno SÚPER fácil, queda jugoso!!!\n",
      "Autor:Paulina Cocina\n",
      "Fecha Publicacion:2015-10-14 00:00:00\n",
      "Entradilla:pon mi nombre qué tal chicos hola salva para pegar dentadura y con tirar algo al horno que pesa mucho la sal vosotras al esposo te queda súper cub osito nada más que incluyen trocante por afuera fantástico y directo al horno con eso que te voy a dar que quedar mucho mejor pero sino que vamos a hacer es una mezcla de manteca que este tiempo más con ajo sal pimienta y orégano muy bien ya tenemos el pozo un poquito de Campoamor y lo que vamos a hacer es con la mano que vamos desprendiendo Gabriel de por allí dentro con la misma mano vamos a meter toda esta amanecer carta hasta donde pueda lo que vamos a hacer es agarrar una linda fuente para horno hola estáis cuántos Altamira la cantidad de ustedes y con un fondito de 1 cm 2 cm o menos depende un poco las plantas depende lo ha puesto en serio que hacemos que a estas son los a poner raspadura de no tener pasado esta pasado a ponerte Pósito oposición sobre laurel cómo sacar las patitas para que no se mueva mucho no pasar por esto la sal está bajo del pozo vas a viernes no vienes ya sabes que está bajo del pozo para soñar toda la clase qué vas a soltar su esposo imaginar jugoso pero super pero tanto también ahora sí muchachos horno precalentado enmedio 1 cuando corazón está bien dorado como estoy hablando por la cosa está junto osito aprovecho para dos cosas no pero bueno esto escribe machacarme favor el botoncito no pues si le gusta la receta la van a ver antes que nadie todo contenido exclusivo esta vez no estoy investigando lo que quiere así que si tienen algún tipo especial de receta a llover más te gustaría verlo otro buscar los comentarios porfa qué más podemos hablar en esos 40 minutos sobre este vídeo va a durar esto 40 minutos mensajes del pozo Ayesta contesta y ves a Carla Sánchez tan bonitas que no porque absorbió sitio que casero súper doradito ahí le cortamos una patita y ahora te voy a mostrar estás por algún día sale el sabor pero te aseguro que está muy sabroso con todo eso pero tú si no muchacho \n",
      "MoviePy - Writing audio in recetasvideos/receta36.wav\n"
     ]
    },
    {
     "name": "stderr",
     "output_type": "stream",
     "text": [
      "                                                                      \r"
     ]
    },
    {
     "name": "stdout",
     "output_type": "stream",
     "text": [
      "MoviePy - Done.\n",
      "------------------------------------------------\n",
      "[ 1628768  3700136 13685192]\n",
      "------------------------------------------------\n",
      "Titulo:Carpaccio de calabacín / Ensaladas frías - Paulina Cocina\n",
      "Autor:Paulina Cocina\n",
      "Fecha Publicacion:2015-11-11 00:00:00\n",
      "Entradilla:ensalada de verano cuéntame alguna idea para pasarme también me sirves carpaccio de calabacín teléfono de decir carpaccio no porta nada ensalada está buenísima así que nombre para esto a los cocineros de verdad queremos comer mira cómo está la cosa para cortar con una mandolina pesadísimo que le podríamos a una hija mandolina del alguna oportunidad muy bonito nombre lo vas a coger en una fuente o plato así en lo que pasó la mía se dice en la cabecita y le vamos a poner arriba rachaduras de limón en medio que ponemos también sale porque somos muy pimienta negra y vas a poner bastante limón eso sí como está lo vamos a llevar a la heladera 1 chicos hasta que tengan la otra comida minutos un ratito verdadera no sacando parmesano y toque final obviamente un buen chorro mejor aceite de oliva que tengas ensalada \n",
      "MoviePy - Writing audio in recetasvideos/receta37.wav\n"
     ]
    },
    {
     "name": "stderr",
     "output_type": "stream",
     "text": [
      "                                                                      \r"
     ]
    },
    {
     "name": "stdout",
     "output_type": "stream",
     "text": [
      "MoviePy - Done.\n",
      "------------------------------------------------\n",
      "[389488]\n",
      "------------------------------------------------\n",
      "Titulo:Pasta de verano (¡todo en la licuadora!) / Recetas de verano - Paulina Cocina\n",
      "Autor:Paulina Cocina\n",
      "Fecha Publicacion:2015-11-18 00:00:00\n",
      "Entradilla:cuadro ahora \n",
      "MoviePy - Writing audio in recetasvideos/receta38.wav\n"
     ]
    },
    {
     "name": "stderr",
     "output_type": "stream",
     "text": [
      "                                                                    \r"
     ]
    },
    {
     "name": "stdout",
     "output_type": "stream",
     "text": [
      "MoviePy - Done.\n",
      "------------------------------------------------\n",
      "[]\n",
      "------------------------------------------------\n",
      "Titulo:Huevos Pericos: Recetas para desayunos ¡RIQUÍSIMOS! - Paulina Cocina\n",
      "Autor:Paulina Cocina\n",
      "Fecha Publicacion:2015-11-20 00:00:00\n",
      "Entradilla:\n",
      "MoviePy - Writing audio in recetasvideos/receta39.wav\n"
     ]
    },
    {
     "name": "stderr",
     "output_type": "stream",
     "text": [
      "                                                                      \r"
     ]
    },
    {
     "name": "stdout",
     "output_type": "stream",
     "text": [
      "MoviePy - Done.\n",
      "------------------------------------------------\n",
      "[300968]\n",
      "------------------------------------------------\n",
      "UnknownValueError()\n",
      "No se ha podido transcribir el video: receta39 - Cómo hacer salchichas caseras ¡SIN máquina! - Paulina Cocina - https://www.youtube.com/watch?v=BaQ3FSH1Xsk\n",
      "MoviePy - Writing audio in recetasvideos/receta39.wav\n"
     ]
    },
    {
     "name": "stderr",
     "output_type": "stream",
     "text": [
      "                                                                      \r"
     ]
    },
    {
     "name": "stdout",
     "output_type": "stream",
     "text": [
      "MoviePy - Done.\n",
      "------------------------------------------------\n",
      "[318672]\n",
      "------------------------------------------------\n",
      "Titulo:Cheesecake sin horno en 5 pasos ¡fácil y rápido! - Paulina Cocina\n",
      "Autor:Paulina Cocina\n",
      "Fecha Publicacion:2015-12-02 00:00:00\n",
      "Entradilla:qué chiste \n",
      "MoviePy - Writing audio in recetasvideos/receta40.wav\n"
     ]
    },
    {
     "name": "stderr",
     "output_type": "stream",
     "text": [
      "                                                                    \r"
     ]
    },
    {
     "name": "stdout",
     "output_type": "stream",
     "text": [
      "MoviePy - Done.\n",
      "------------------------------------------------\n",
      "[2921160]\n",
      "------------------------------------------------\n",
      "UnknownValueError()\n",
      "No se ha podido transcribir el video: receta40 - Ensalada fresca de rúcula / Recetas de ensaladas - Paulina Cocina - https://www.youtube.com/watch?v=RXVh_smMC1c\n",
      "MoviePy - Writing audio in recetasvideos/receta40.wav\n"
     ]
    },
    {
     "name": "stderr",
     "output_type": "stream",
     "text": [
      "                                                                      \r"
     ]
    },
    {
     "name": "stdout",
     "output_type": "stream",
     "text": [
      "MoviePy - Done.\n",
      "------------------------------------------------\n",
      "[371784]\n",
      "------------------------------------------------\n",
      "Titulo:Receta de VITEL TONÉ para navidad: Como hacer vitel toné muy fácil - Paulina Cocina\n",
      "Autor:Paulina Cocina\n",
      "Fecha Publicacion:2015-12-16 00:00:00\n",
      "Entradilla:estoy en el equipo Navidad \n",
      "MoviePy - Writing audio in recetasvideos/receta41.wav\n"
     ]
    },
    {
     "name": "stderr",
     "output_type": "stream",
     "text": [
      "                                                                      \r"
     ]
    },
    {
     "name": "stdout",
     "output_type": "stream",
     "text": [
      "MoviePy - Done.\n",
      "------------------------------------------------\n",
      "[]\n",
      "------------------------------------------------\n",
      "Titulo:Duraznos en almíbar en 2 simples pasos - Paulina Cocina\n",
      "Autor:Paulina Cocina\n",
      "Fecha Publicacion:2015-12-18 00:00:00\n",
      "Entradilla:\n",
      "MoviePy - Writing audio in recetasvideos/receta42.wav\n"
     ]
    },
    {
     "name": "stderr",
     "output_type": "stream",
     "text": [
      "                                                                    \r"
     ]
    },
    {
     "name": "stdout",
     "output_type": "stream",
     "text": [
      "MoviePy - Done.\n",
      "------------------------------------------------\n",
      "[3700136]\n",
      "------------------------------------------------\n",
      "UnknownValueError()\n",
      "No se ha podido transcribir el video: receta42 - Helado de frutillas falso, casero, sano y riquísim - https://www.youtube.com/watch?v=DQcjyMtmbq4\n",
      "MoviePy - Writing audio in recetasvideos/receta42.wav\n"
     ]
    },
    {
     "name": "stderr",
     "output_type": "stream",
     "text": [
      "                                                                      \r"
     ]
    },
    {
     "name": "stdout",
     "output_type": "stream",
     "text": [
      "MoviePy - Done.\n",
      "------------------------------------------------\n",
      "[336376]\n",
      "------------------------------------------------\n",
      "UnknownValueError()\n",
      "No se ha podido transcribir el video: receta42 - TORTA DE CHOCOLATE FÁCIL DE 2 INGREDIENTES (¡FUNCIONA!) / TORTA CON HELADO - https://www.youtube.com/watch?v=wpVSY71PoBM\n",
      "MoviePy - Writing audio in recetasvideos/receta42.wav\n"
     ]
    },
    {
     "name": "stderr",
     "output_type": "stream",
     "text": [
      "                                                                      \r"
     ]
    },
    {
     "name": "stdout",
     "output_type": "stream",
     "text": [
      "MoviePy - Done.\n",
      "------------------------------------------------\n",
      "[]\n",
      "------------------------------------------------\n",
      "Titulo:Café frappé ¡en 1 minuto! - Paulina Cocina\n",
      "Autor:Paulina Cocina\n",
      "Fecha Publicacion:2016-02-19 00:00:00\n",
      "Entradilla:\n",
      "MoviePy - Writing audio in recetasvideos/receta43.wav\n"
     ]
    },
    {
     "name": "stderr",
     "output_type": "stream",
     "text": [
      "                                                                      \r"
     ]
    },
    {
     "name": "stdout",
     "output_type": "stream",
     "text": [
      "MoviePy - Done.\n",
      "------------------------------------------------\n",
      "[247856]\n",
      "------------------------------------------------\n",
      "UnknownValueError()\n",
      "No se ha podido transcribir el video: receta43 - RECETA DE HELADO DE MC DONALDS CASERO ¡ES MUY FÁCIL! (Helado casero fácil para Sundae o Mc Flurry) - https://www.youtube.com/watch?v=qU-npk3gf7g\n",
      "MoviePy - Writing audio in recetasvideos/receta43.wav\n"
     ]
    },
    {
     "name": "stderr",
     "output_type": "stream",
     "text": [
      "                                                                      \r"
     ]
    },
    {
     "name": "stdout",
     "output_type": "stream",
     "text": [
      "MoviePy - Done.\n",
      "------------------------------------------------\n",
      "[265560]\n",
      "------------------------------------------------\n",
      "Titulo:Receta de JUGOS concentrados caseros ¡ricos!- Paulina Cocina\n",
      "Autor:Paulina Cocina\n",
      "Fecha Publicacion:2016-03-02 00:00:00\n",
      "Entradilla:tengo una \n",
      "MoviePy - Writing audio in recetasvideos/receta44.wav\n"
     ]
    },
    {
     "name": "stderr",
     "output_type": "stream",
     "text": [
      "                                                                    \r"
     ]
    },
    {
     "name": "stdout",
     "output_type": "stream",
     "text": [
      "MoviePy - Done.\n",
      "------------------------------------------------\n",
      "[]\n",
      "------------------------------------------------\n",
      "Titulo:Hacer estas PAPAS ESPIRAL es fácil / Recetas de papas - Paulina Cocina\n",
      "Autor:Paulina Cocina\n",
      "Fecha Publicacion:2016-03-18 00:00:00\n",
      "Entradilla:\n",
      "MoviePy - Writing audio in recetasvideos/receta45.wav\n"
     ]
    },
    {
     "name": "stderr",
     "output_type": "stream",
     "text": [
      "                                                                      \r"
     ]
    },
    {
     "name": "stdout",
     "output_type": "stream",
     "text": [
      "MoviePy - Done.\n",
      "------------------------------------------------\n",
      "[212448]\n",
      "------------------------------------------------\n",
      "UnknownValueError()\n",
      "No se ha podido transcribir el video: receta45 - Pastel de ATÚN ¡en la licuadora! / Recetas con atún - Paulina Cocina - https://www.youtube.com/watch?v=Vgw4u4yVBNY\n",
      "MoviePy - Writing audio in recetasvideos/receta45.wav\n"
     ]
    },
    {
     "name": "stderr",
     "output_type": "stream",
     "text": [
      "                                                                      \r"
     ]
    },
    {
     "name": "stdout",
     "output_type": "stream",
     "text": [
      "MoviePy - Done.\n",
      "guardados: 242.39726166672315\n",
      "------------------------------------------------\n",
      "[  407192 21457248 21598880]\n",
      "------------------------------------------------\n",
      "UnknownValueError()\n",
      "No se ha podido transcribir el video: receta45 - Masa para pizza SIN horno y SIN levadura: receta de pizza fácil y rápida, - https://www.youtube.com/watch?v=QYjkWjJAB8I\n",
      "MoviePy - Writing audio in recetasvideos/receta45.wav\n"
     ]
    },
    {
     "name": "stderr",
     "output_type": "stream",
     "text": [
      "                                                                      \r"
     ]
    },
    {
     "name": "stdout",
     "output_type": "stream",
     "text": [
      "MoviePy - Done.\n",
      "guardados: 420.1952531037833\n",
      "------------------------------------------------\n",
      "[  230152 37196104 37231512]\n",
      "------------------------------------------------\n",
      "UnknownValueError()\n",
      "No se ha podido transcribir el video: receta45 - Pollo frito o al horno SÚPER crocante / Recetas de pollo - Paulina Cocina - https://www.youtube.com/watch?v=XHf45druNe4\n",
      "MoviePy - Writing audio in recetasvideos/receta45.wav\n"
     ]
    },
    {
     "name": "stderr",
     "output_type": "stream",
     "text": [
      "                                                                        \r"
     ]
    },
    {
     "name": "stdout",
     "output_type": "stream",
     "text": [
      "MoviePy - Done.\n",
      "------------------------------------------------\n",
      "[265560]\n",
      "------------------------------------------------\n",
      "UnknownValueError()\n",
      "No se ha podido transcribir el video: receta45 - TORTA DE MANZANA invertida SIN horno (Tarta de manzana en sartén) - https://www.youtube.com/watch?v=g7cVPgseIVI\n",
      "MoviePy - Writing audio in recetasvideos/receta45.wav\n"
     ]
    },
    {
     "name": "stderr",
     "output_type": "stream",
     "text": [
      "                                                                        \r"
     ]
    },
    {
     "name": "stdout",
     "output_type": "stream",
     "text": [
      "MoviePy - Done.\n",
      "------------------------------------------------\n",
      "[336376]\n",
      "------------------------------------------------\n",
      "Titulo:Cómo hacer PANQUEQUES y panqueques con dulce de leche: 6 TRUCOS de la masa para panqueques\n",
      "Autor:Paulina Cocina\n",
      "Fecha Publicacion:2016-04-27 00:00:00\n",
      "Entradilla:apaga y vámonos \n",
      "MoviePy - Writing audio in recetasvideos/receta46.wav\n"
     ]
    },
    {
     "name": "stderr",
     "output_type": "stream",
     "text": [
      "                                                                      \r"
     ]
    },
    {
     "name": "stdout",
     "output_type": "stream",
     "text": [
      "MoviePy - Done.\n",
      "------------------------------------------------\n",
      "[  354080 24626264]\n",
      "------------------------------------------------\n",
      "RequestError('recognition request failed: Bad Request')\n",
      "No se ha podido transcribir el video: receta46 - Hígado encebollado / Recetas económicas - Paulina Cocina - https://www.youtube.com/watch?v=4GvfMEBN0EM\n",
      "MoviePy - Writing audio in recetasvideos/receta46.wav\n"
     ]
    },
    {
     "name": "stderr",
     "output_type": "stream",
     "text": [
      "                                                                      \r"
     ]
    },
    {
     "name": "stdout",
     "output_type": "stream",
     "text": [
      "MoviePy - Done.\n",
      "------------------------------------------------\n",
      "[265560]\n",
      "------------------------------------------------\n",
      "UnknownValueError()\n",
      "No se ha podido transcribir el video: receta46 - Pasta GRATINADA con queso y jamón muy FÁCIL!  / Recetas de pastas - Paulina Cocina - https://www.youtube.com/watch?v=0v2Gf3q52Og\n",
      "MoviePy - Writing audio in recetasvideos/receta46.wav\n"
     ]
    },
    {
     "name": "stderr",
     "output_type": "stream",
     "text": [
      "                                                                      \r"
     ]
    },
    {
     "name": "stdout",
     "output_type": "stream",
     "text": [
      "MoviePy - Done.\n",
      "------------------------------------------------\n",
      "[]\n",
      "------------------------------------------------\n",
      "Titulo:Tortitas de PAPA... ¡con restos de puré! - Paulina Cocina\n",
      "Autor:Paulina Cocina\n",
      "Fecha Publicacion:2016-06-10 00:00:00\n",
      "Entradilla:\n",
      "MoviePy - Writing audio in recetasvideos/receta47.wav\n"
     ]
    },
    {
     "name": "stderr",
     "output_type": "stream",
     "text": [
      "                                                                      \r"
     ]
    },
    {
     "name": "stdout",
     "output_type": "stream",
     "text": [
      "MoviePy - Done.\n",
      "------------------------------------------------\n",
      "[283264]\n",
      "------------------------------------------------\n",
      "Titulo:Barritas de cereal caseras MUY fáciles: 2 ingredientes, sin horno!!! - Paulina Cocina\n",
      "Autor:Paulina Cocina\n",
      "Fecha Publicacion:2016-06-15 00:00:00\n",
      "Entradilla:tattoo \n",
      "MoviePy - Writing audio in recetasvideos/receta48.wav\n"
     ]
    },
    {
     "name": "stderr",
     "output_type": "stream",
     "text": [
      "                                                                      \r"
     ]
    },
    {
     "name": "stdout",
     "output_type": "stream",
     "text": [
      "MoviePy - Done.\n",
      "------------------------------------------------\n",
      "[247856]\n",
      "------------------------------------------------\n",
      "Titulo:MASA para tarta salada 9-9-9 ¡GENIAL y sin manteca! - Paulina Cocina\n",
      "Autor:Paulina Cocina\n",
      "Fecha Publicacion:2016-06-29 00:00:00\n",
      "Entradilla:Monster cartoon \n",
      "MoviePy - Writing audio in recetasvideos/receta49.wav\n"
     ]
    },
    {
     "name": "stderr",
     "output_type": "stream",
     "text": [
      "                                                                        \r"
     ]
    },
    {
     "name": "stdout",
     "output_type": "stream",
     "text": [
      "MoviePy - Done.\n",
      "------------------------------------------------\n",
      "[194744]\n",
      "------------------------------------------------\n",
      "UnknownValueError()\n",
      "No se ha podido transcribir el video: receta49 - TARTA DE VERDURA HERMOSA! (Pastel de verduras con \"rosas\") - https://www.youtube.com/watch?v=HzYXxz6PNww\n",
      "MoviePy - Writing audio in recetasvideos/receta49.wav\n"
     ]
    },
    {
     "name": "stderr",
     "output_type": "stream",
     "text": [
      "                                                                        \r"
     ]
    },
    {
     "name": "stdout",
     "output_type": "stream",
     "text": [
      "MoviePy - Done.\n",
      "guardados: 846.39043842704\n",
      "------------------------------------------------\n",
      "[74923328 75100368]\n",
      "------------------------------------------------\n",
      "RequestError('recognition request failed: Bad Request')\n",
      "No se ha podido transcribir el video: receta49 - POLLO A LA CREMA en 5 minutos / Recetas de microondas (Y GRAN PIFIE en VIVO!!!) - Paulina Cocina - https://www.youtube.com/watch?v=Mz2oTS9PLBY\n",
      "MoviePy - Writing audio in recetasvideos/receta49.wav\n"
     ]
    },
    {
     "name": "stderr",
     "output_type": "stream",
     "text": [
      "                                                                      \r"
     ]
    },
    {
     "name": "stdout",
     "output_type": "stream",
     "text": [
      "MoviePy - Done.\n",
      "guardados: 260.5970560657923\n",
      "------------------------------------------------\n",
      "[   70816  5382016  9046744 23068312 23103720 31920312 38045896]\n",
      "------------------------------------------------\n",
      "UnknownValueError()\n",
      "No se ha podido transcribir el video: receta49 - Tarta de brocoli / Recetas de tartas saladas - Paulina Cocina - https://www.youtube.com/watch?v=D_kIH6zExBg\n",
      "MoviePy - Writing audio in recetasvideos/receta49.wav\n"
     ]
    },
    {
     "name": "stderr",
     "output_type": "stream",
     "text": [
      "                                                                      \r"
     ]
    },
    {
     "name": "stdout",
     "output_type": "stream",
     "text": [
      "MoviePy - Done.\n",
      "------------------------------------------------\n",
      "[283264]\n",
      "------------------------------------------------\n",
      "Titulo:PIZZETAS de pan lactal: receta para que cocinen los niños - Especial día del niño\n",
      "Autor:Paulina Cocina\n",
      "Fecha Publicacion:2016-08-17 00:00:00\n",
      "Entradilla:vídeo me lo pidió el medio \n",
      "MoviePy - Writing audio in recetasvideos/receta50.wav\n"
     ]
    },
    {
     "name": "stderr",
     "output_type": "stream",
     "text": [
      "                                                                      \r"
     ]
    },
    {
     "name": "stdout",
     "output_type": "stream",
     "text": [
      "MoviePy - Done.\n",
      "------------------------------------------------\n",
      "[106224]\n",
      "------------------------------------------------\n",
      "UnknownValueError()\n",
      "No se ha podido transcribir el video: receta50 - Pasta al vino tinto ¡SORPRENDENTE! / Pasta fácil y rápido - Paulina Cocina - https://www.youtube.com/watch?v=YkxN-8R-fUg\n",
      "MoviePy - Writing audio in recetasvideos/receta50.wav\n"
     ]
    },
    {
     "name": "stderr",
     "output_type": "stream",
     "text": [
      "                                                                        \r"
     ]
    },
    {
     "name": "stdout",
     "output_type": "stream",
     "text": [
      "MoviePy - Done.\n",
      "guardados: 328.9962833677884\n",
      "------------------------------------------------\n",
      "[29123080 29140784 39426808 46685448]\n",
      "------------------------------------------------\n",
      "RequestError('recognition request failed: Bad Request')\n",
      "No se ha podido transcribir el video: receta50 - Pasta Alfredo con pollo SÚPER RÁPIDA / Pastas fáciles - Paulina Cocina - https://www.youtube.com/watch?v=TWPkGsCNN1c\n",
      "MoviePy - Writing audio in recetasvideos/receta50.wav\n"
     ]
    },
    {
     "name": "stderr",
     "output_type": "stream",
     "text": [
      "                                                                        \r"
     ]
    },
    {
     "name": "stdout",
     "output_type": "stream",
     "text": [
      "MoviePy - Done.\n",
      "guardados: 129.39853819997515\n",
      "guardados: 501.79433128862075\n",
      "------------------------------------------------\n",
      "[  159336 11454488 14074680 44419336 46844784]\n",
      "------------------------------------------------\n",
      "UnknownValueError()\n",
      "No se ha podido transcribir el video: receta50 - Pasta ONE POT mediterránea / Recetas de pastas - Paulina Cocina - https://www.youtube.com/watch?v=P2FpmpukWBU\n",
      "MoviePy - Writing audio in recetasvideos/receta50.wav\n"
     ]
    },
    {
     "name": "stderr",
     "output_type": "stream",
     "text": [
      "                                                                        \r"
     ]
    },
    {
     "name": "stdout",
     "output_type": "stream",
     "text": [
      "MoviePy - Done.\n",
      "------------------------------------------------\n",
      "[]\n",
      "------------------------------------------------\n",
      "Titulo:Receta de hamburguesas RELLENAS / 30 minutos - Paulina Cocina\n",
      "Autor:Paulina Cocina\n",
      "Fecha Publicacion:2016-10-07 00:00:00\n",
      "Entradilla:\n",
      "MoviePy - Writing audio in recetasvideos/receta51.wav\n"
     ]
    },
    {
     "name": "stderr",
     "output_type": "stream",
     "text": [
      "                                                                        \r"
     ]
    },
    {
     "name": "stdout",
     "output_type": "stream",
     "text": [
      "MoviePy - Done.\n",
      "------------------------------------------------\n",
      "[21687400 31654752 36151568 40701496 47216568 53767048]\n",
      "------------------------------------------------\n",
      "RequestError('recognition request failed: Bad Request')\n",
      "No se ha podido transcribir el video: receta51 - Pastel de espinacas en 30 MIN. / Recetas de verduras - Paulina Cocina - https://www.youtube.com/watch?v=VL7Ru24dVXs\n",
      "MoviePy - Writing audio in recetasvideos/receta51.wav\n"
     ]
    },
    {
     "name": "stderr",
     "output_type": "stream",
     "text": [
      "                                                                      \r"
     ]
    },
    {
     "name": "stdout",
     "output_type": "stream",
     "text": [
      "MoviePy - Done.\n",
      "------------------------------------------------\n",
      "[]\n",
      "------------------------------------------------\n",
      "Titulo:Receta VITEL TONÉ de pollo / Recetas para navidad - Paulina Cocina\n",
      "Autor:Paulina Cocina\n",
      "Fecha Publicacion:2016-12-02 00:00:00\n",
      "Entradilla:\n",
      "MoviePy - Writing audio in recetasvideos/receta52.wav\n"
     ]
    },
    {
     "name": "stderr",
     "output_type": "stream",
     "text": [
      "                                                                      \r"
     ]
    },
    {
     "name": "stdout",
     "output_type": "stream",
     "text": [
      "MoviePy - Done.\n",
      "guardados: 346.39608680426113\n",
      "------------------------------------------------\n",
      "[       0 30663328 30716440]\n",
      "------------------------------------------------\n",
      "UnknownValueError()\n",
      "No se ha podido transcribir el video: receta52 - Entradas para navidad DE ÚLTIMO MOMENTO / Recetas para fiestas - Paulina Cocina - https://www.youtube.com/watch?v=RtF7k9uDHTI\n",
      "MoviePy - Writing audio in recetasvideos/receta52.wav\n"
     ]
    },
    {
     "name": "stderr",
     "output_type": "stream",
     "text": [
      "                                                                        \r"
     ]
    },
    {
     "name": "stdout",
     "output_type": "stream",
     "text": [
      "MoviePy - Done.\n",
      "guardados: 656.3925848103839\n",
      "------------------------------------------------\n",
      "[       0 58104528 58246160 62725272]\n",
      "------------------------------------------------\n",
      "UnknownValueError()\n",
      "No se ha podido transcribir el video: receta52 - Cómo hacer GERMINADOS  // Germinar lentejas y otras semillas - Paulina Cocina - https://www.youtube.com/watch?v=xTsf5TqCzKo\n",
      "MoviePy - Writing audio in recetasvideos/receta52.wav\n"
     ]
    },
    {
     "name": "stderr",
     "output_type": "stream",
     "text": [
      "                                                                        \r"
     ]
    },
    {
     "name": "stdout",
     "output_type": "stream",
     "text": [
      "MoviePy - Done.\n",
      "guardados: 644.7927158527355\n",
      "------------------------------------------------\n",
      "[       0 57077696 57130808]\n",
      "------------------------------------------------\n",
      "UnknownValueError()\n",
      "No se ha podido transcribir el video: receta52 - Viandas SALUDABLES para niños ft. Anna recetas fáciles y Mamá Sana - Paulina Cocina - https://www.youtube.com/watch?v=DkZi70xs4Y8\n",
      "MoviePy - Writing audio in recetasvideos/receta52.wav\n"
     ]
    },
    {
     "name": "stderr",
     "output_type": "stream",
     "text": [
      "                                                                        \r"
     ]
    },
    {
     "name": "stdout",
     "output_type": "stream",
     "text": [
      "MoviePy - Done.\n",
      "guardados: 594.1932874685103\n",
      "------------------------------------------------\n",
      "[       0 52598584 52917256]\n",
      "------------------------------------------------\n",
      "UnknownValueError()\n",
      "No se ha podido transcribir el video: receta52 - Cómo hacer AREPAS y arepas rellenas ¡LAS AUTÉNTICAS! Receta para celiacos (receta sin gluten) - https://www.youtube.com/watch?v=Gk0AtNJzJ0Y\n",
      "MoviePy - Writing audio in recetasvideos/receta52.wav\n"
     ]
    },
    {
     "name": "stderr",
     "output_type": "stream",
     "text": [
      "                                                                        \r"
     ]
    },
    {
     "name": "stdout",
     "output_type": "stream",
     "text": [
      "MoviePy - Done.\n",
      "guardados: 793.9910303769727\n",
      "------------------------------------------------\n",
      "[       0 70284880 70337992]\n",
      "------------------------------------------------\n",
      "UnknownValueError()\n",
      "No se ha podido transcribir el video: receta52 - Cómo hacer tortilla de papas: ASÍ LA HAGO YO (tortilla española) - https://www.youtube.com/watch?v=zfdzfDGc-1k\n",
      "MoviePy - Writing audio in recetasvideos/receta52.wav\n"
     ]
    },
    {
     "name": "stderr",
     "output_type": "stream",
     "text": [
      "                                                                        \r"
     ]
    },
    {
     "name": "stdout",
     "output_type": "stream",
     "text": [
      "MoviePy - Done.\n",
      "guardados: 841.9904881327594\n",
      "------------------------------------------------\n",
      "[74533840 74746288]\n",
      "------------------------------------------------\n",
      "RequestError('recognition request failed: Bad Request')\n",
      "No se ha podido transcribir el video: receta52 - Cómo hacer tarta de atún PASO A PASO (Receta tipo empanada gallega) - https://www.youtube.com/watch?v=9-vwUyyehNs\n",
      "MoviePy - Writing audio in recetasvideos/receta52.wav\n"
     ]
    },
    {
     "name": "stderr",
     "output_type": "stream",
     "text": [
      "                                                                        \r"
     ]
    },
    {
     "name": "stdout",
     "output_type": "stream",
     "text": [
      "MoviePy - Done.\n",
      "guardados: 781.5911704567278\n",
      "------------------------------------------------\n",
      "[       0 69187232 69328864]\n",
      "------------------------------------------------\n",
      "UnknownValueError()\n",
      "No se ha podido transcribir el video: receta52 - CÓMO HACER GUISO DE LENTEJAS (CON CARNE) - https://www.youtube.com/watch?v=qRHymy7Ue4E\n",
      "MoviePy - Writing audio in recetasvideos/receta52.wav\n"
     ]
    },
    {
     "name": "stderr",
     "output_type": "stream",
     "text": [
      "                                                                        \r"
     ]
    },
    {
     "name": "stdout",
     "output_type": "stream",
     "text": [
      "MoviePy - Done.\n",
      "guardados: 453.794873532834\n",
      "------------------------------------------------\n",
      "[  832088 40170376 40258896 47358200]\n",
      "------------------------------------------------\n",
      "RequestError('recognition request failed: Bad Request')\n",
      "No se ha podido transcribir el video: receta52 - BIFES A LA CRIOLLA: cena rápida, fácil... ¡y sin ensuciar!!! - https://www.youtube.com/watch?v=989XjP0mSyw\n",
      "MoviePy - Writing audio in recetasvideos/receta52.wav\n"
     ]
    },
    {
     "name": "stderr",
     "output_type": "stream",
     "text": [
      "                                                                        \r"
     ]
    },
    {
     "name": "stdout",
     "output_type": "stream",
     "text": [
      "MoviePy - Done.\n",
      "guardados: 754.3914777284486\n",
      "------------------------------------------------\n",
      "[66779488 66832600]\n",
      "------------------------------------------------\n",
      "RequestError('recognition request failed: Bad Request')\n",
      "No se ha podido transcribir el video: receta52 - BUÑUELOS DE VERDURAS FRITOS Y AL HORNO - de espinaca y de zanahoria - https://www.youtube.com/watch?v=vU5-FtXKxCg\n",
      "MoviePy - Writing audio in recetasvideos/receta52.wav\n"
     ]
    },
    {
     "name": "stderr",
     "output_type": "stream",
     "text": [
      "                                                                        \r"
     ]
    },
    {
     "name": "stdout",
     "output_type": "stream",
     "text": [
      "MoviePy - Done.\n",
      "guardados: 592.9933010246157\n",
      "------------------------------------------------\n",
      "[52492360 52917256]\n",
      "------------------------------------------------\n",
      "RequestError('recognition request failed: Bad Request')\n",
      "No se ha podido transcribir el video: receta52 - BOMBAS DE PAPA CON 6 RELLENOS - ¡Una locura! - https://www.youtube.com/watch?v=NwJzb4SXosA\n",
      "MoviePy - Writing audio in recetasvideos/receta52.wav\n"
     ]
    },
    {
     "name": "stderr",
     "output_type": "stream",
     "text": [
      "                                                                        \r"
     ]
    },
    {
     "name": "stdout",
     "output_type": "stream",
     "text": [
      "MoviePy - Done.\n",
      "guardados: 832.9905898035495\n",
      "------------------------------------------------\n",
      "[73737160 73790272]\n",
      "------------------------------------------------\n",
      "RequestError('recognition request failed: Bad Request')\n",
      "No se ha podido transcribir el video: receta52 - 3 TARTAS DE VERDURAS INCREÍBLES - ¡la segunda es riquísima! - https://www.youtube.com/watch?v=Pk9qaWHzJn0\n",
      "MoviePy - Writing audio in recetasvideos/receta52.wav\n"
     ]
    },
    {
     "name": "stderr",
     "output_type": "stream",
     "text": [
      "                                                                        \r"
     ]
    },
    {
     "name": "stdout",
     "output_type": "stream",
     "text": [
      "MoviePy - Done.\n",
      "guardados: 723.9918211497836\n",
      "------------------------------------------------\n",
      "[64088480 64265520]\n",
      "------------------------------------------------\n",
      "RequestError('recognition request failed: Bad Request')\n",
      "No se ha podido transcribir el video: receta52 - SOPA DE CALABAZA: 3 OPCIONES ft. DALMA MARADONA - https://www.youtube.com/watch?v=NEuLgdudHIE\n",
      "MoviePy - Writing audio in recetasvideos/receta52.wav\n"
     ]
    },
    {
     "name": "stderr",
     "output_type": "stream",
     "text": [
      "                                                                        \r"
     ]
    },
    {
     "name": "stdout",
     "output_type": "stream",
     "text": [
      "MoviePy - Done.\n",
      "guardados: 534.9939562363733\n",
      "------------------------------------------------\n",
      "[47358200 47464424]\n",
      "------------------------------------------------\n",
      "RequestError('recognition request failed: Bad Request')\n",
      "No se ha podido transcribir el video: receta52 - ZAPALLITOS RELLENOS - Súper sanos y ricos - https://www.youtube.com/watch?v=T3jbUQT_z1Q\n",
      "MoviePy - Writing audio in recetasvideos/receta52.wav\n"
     ]
    },
    {
     "name": "stderr",
     "output_type": "stream",
     "text": [
      "                                                                        \r"
     ]
    },
    {
     "name": "stdout",
     "output_type": "stream",
     "text": [
      "MoviePy - Done.\n",
      "guardados: 1261.5857480145953\n",
      "------------------------------------------------\n",
      "[   371784 111676832 111783056]\n",
      "------------------------------------------------\n",
      "RequestError('recognition request failed: Bad Request')\n",
      "No se ha podido transcribir el video: receta52 - COCINÁ 1 DÍA PARA COMER SALUDABLE TODA LA SEMANA - El #1000prep VUELACABEZAS🤯 - https://www.youtube.com/watch?v=8QHjLvfg8aw\n",
      "MoviePy - Writing audio in recetasvideos/receta52.wav\n"
     ]
    },
    {
     "name": "stderr",
     "output_type": "stream",
     "text": [
      "                                                                        \r"
     ]
    },
    {
     "name": "stdout",
     "output_type": "stream",
     "text": [
      "MoviePy - Done.\n",
      "------------------------------------------------\n",
      "[56829840]\n",
      "------------------------------------------------\n",
      "RequestError('recognition request failed: Bad Request')\n",
      "No se ha podido transcribir el video: receta52 - 21 ENSALADAS que NO SON lechuga y tomate: la BIBLIA de la ensalada - Paulina Tirapostas E00 - https://www.youtube.com/watch?v=G3JfV4BCuwg\n",
      "MoviePy - Writing audio in recetasvideos/receta52.wav\n"
     ]
    },
    {
     "name": "stderr",
     "output_type": "stream",
     "text": [
      "                                                                      \r"
     ]
    },
    {
     "name": "stdout",
     "output_type": "stream",
     "text": [
      "MoviePy - Done.\n",
      "guardados: 164.998136035517\n",
      "------------------------------------------------\n",
      "[       0 14605800 15154624]\n",
      "------------------------------------------------\n",
      "UnknownValueError()\n",
      "No se ha podido transcribir el video: receta52 - POSEIDÓN | Destripando la Historia | Canción - https://www.youtube.com/watch?v=2-VTUyI3w7U\n",
      "MoviePy - Writing audio in recetasvideos/receta52.wav\n"
     ]
    },
    {
     "name": "stderr",
     "output_type": "stream",
     "text": [
      "                                                                        \r"
     ]
    },
    {
     "name": "stdout",
     "output_type": "stream",
     "text": [
      "MoviePy - Done.\n",
      "------------------------------------------------\n",
      "[55926936]\n",
      "------------------------------------------------\n",
      "RequestError('recognition request failed: Bad Request')\n",
      "No se ha podido transcribir el video: receta52 - 7 IDEAS para HALLOWEEN 🎃 - 7 Comidas de halloween que funcionan, 1 que NO funciona - https://www.youtube.com/watch?v=wEgl6I1If3M\n",
      "MoviePy - Writing audio in recetasvideos/receta52.wav\n"
     ]
    },
    {
     "name": "stderr",
     "output_type": "stream",
     "text": [
      "                                                                        \r"
     ]
    },
    {
     "name": "stdout",
     "output_type": "stream",
     "text": [
      "MoviePy - Done.\n",
      "guardados: 763.5913737983077\n",
      "------------------------------------------------\n",
      "[ 6656704  9914240 22041480 32203576 35726672 39426808 67593872 67629280]\n",
      "------------------------------------------------\n",
      "RequestError('recognition request failed: Bad Request')\n",
      "No se ha podido transcribir el video: receta52 - LA MEJOR TARTA DE BERENJENAS QUE PROBARON 🍆- Receta de mi tía Alicia - https://www.youtube.com/watch?v=riVDxV-sXP0\n"
     ]
    }
   ],
   "source": [
    "#y si tambien vemos si le permitimos al usuario que meta videos?\n",
    "dep=Depurador()\n",
    "if __name__ == '__main__':\n",
    "    #dep.video('https://www.youtube.com/watch?v=6PzQY1E2s2g&list=PLxHmjpcgU5ArC2rY5cpoIcZoVKB_0UHfR&ab_channel=PlatosF%C3%A1cilesconTamara')\n",
    "    #dep.video('https://www.youtube.com/watch?v=PsqR5M8rdjA&list=LL&index=9&t=4s')\n",
    "    #dep.video('https://www.youtube.com/watch?v=xfYcM_jHgPY')\n",
    "    #dep.video('https://www.youtube.com/watch?v=wiCfqc5W-yo')\n",
    "    #error_nuevo#dep.video('https://www.youtube.com/watch?v=3DnPkf9rP_0')\n",
    "    #error_nuevo#dep.video('https://www.youtube.com/watch?v=xVsgKMZFCZY')\n",
    "    #dep.video('https://www.youtube.com/watch?v=rpCe0RPMY94')\n",
    "    #dep.video('https://www.youtube.com/watch?v=rv4gLMa-FYk')\n",
    "    #dep.video('https://www.youtube.com/watch?v=VS8zYxBj4r8')\n",
    "    #dep.video('https://www.youtube.com/watch?v=o99JXrEkZoo')\n",
    "    #dep.video('https://www.youtube.com/watch?v=lKkg5L23b3M')\n",
    "    #dep.video('https://www.youtube.com/watch?v=PsqR5M8rdjA&t=14s')\n",
    "    #dep.video('https://www.youtube.com/watch?v=IvZaAL6qYe0&t=29s')\n",
    "    #dep.video('https://www.youtube.com/watch?v=SIMQBuuyE9M')\n",
    "    #dep.video('https://www.youtube.com/watch?v=_YoZfg7R8Hk')\n",
    "    #dep.video('https://www.youtube.com/watch?v=Zv7KdlOBk7Y')\n",
    "    #dep.video('https://www.youtube.com/watch?v=mFcN4btaZyI&t=2s')\n",
    "    #dep.video('https://www.youtube.com/watch?v=sRmmQBBln9Q')\n",
    "    #dep.video('https://www.youtube.com/watch?v=-QoTJJJfeEE')\n",
    "    #dep.video('https://www.youtube.com/watch?v=JRY5obPKPzo&list=PLxHmjpcgU5ArC2rY5cpoIcZoVKB_0UHfR&index=5&ab_channel=PlatosF%C3%A1cilesconTamara')\n",
    "    #dep.video('https://www.youtube.com/watch?v=stFmx7OCy1k&ab_channel=RecetasdeEsbieta')\n",
    "    #error_videomuylargo#dep.video(\"https://www.youtube.com/watch?v=qqTqePGIjhc\")\n",
    "    #dep.lista(\"https://youtube.com/playlist?list=PLQwfLPYiFlOsS9x6zgeZmFRLqDx3poZvw\")\n",
    "    dep.lista(\"https://www.youtube.com/playlist?list=PLIsSIvqffHZvM2v1QS5Zi0MUL258EKLPq\")\n",
    "    "
   ]
  },
  {
   "cell_type": "code",
   "execution_count": null,
   "id": "48fa6324-8c7a-45e0-b7ee-10be195a7f7c",
   "metadata": {},
   "outputs": [],
   "source": []
  }
 ],
 "metadata": {
  "kernelspec": {
   "display_name": "Python 3 (ipykernel)",
   "language": "python",
   "name": "python3"
  },
  "language_info": {
   "codemirror_mode": {
    "name": "ipython",
    "version": 3
   },
   "file_extension": ".py",
   "mimetype": "text/x-python",
   "name": "python",
   "nbconvert_exporter": "python",
   "pygments_lexer": "ipython3",
   "version": "3.10.6"
  }
 },
 "nbformat": 4,
 "nbformat_minor": 5
}
