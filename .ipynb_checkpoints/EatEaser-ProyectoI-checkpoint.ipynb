{
 "cells": [
  {
   "cell_type": "markdown",
   "id": "f8318545",
   "metadata": {},
   "source": [
    "<div style='width=100%; display:flex;flex-direction:row'><img  src=https://universidadeuropea.com/resources/media/images/universidad-europea-logo_poc9mEM.original.png width=100  style='  margin-left: auto;margin-right: auto; width: 25%; height:25%;'><img  src=https://i.ibb.co/1068C7j/EATEASER.jpg width=100 style='  margin-left: auto;margin-right: auto; width: 10%;height:25%;'></div>"
   ]
  },
  {
   "cell_type": "markdown",
   "id": "03ee9dce",
   "metadata": {},
   "source": [
    "<div style='margin:auto;text-align: center;font-family: \"Times New Roman\", Times, serif; font-weight: bold;'>PROYECTO COMUTACIONAL<br><br>EATEASER - VOZ A TEXTO</div>"
   ]
  },
  {
   "cell_type": "markdown",
   "id": "c329ef59",
   "metadata": {},
   "source": [
    "<div style='width:100%; display:flex;flex-direction:row'>\n",
    "    <div style='width:50%;margin-right:5cm;'>\n",
    "        <p style='font-family: \"Times New Roman\", Times, serif; font-weight: bold;'>ESTUDIANTES</p>\n",
    "<ul style='font-family: \"Times New Roman\", Times, serif;'>\n",
    "    <li>Adilem Dobras 21911633</li><li>Roberto Echevarria 21823680</li><li>Carlos Gonzales 22067726</li><li>Juan Carlos Rondeau 21816176</li></ul> </div>\n",
    "\n",
    "</div>"
   ]
  },
  {
   "cell_type": "markdown",
   "id": "fb3dfd23",
   "metadata": {},
   "source": [
    "<h2 style=\"font-size: 19px;color:#6DA0FF;font-family:Georgia, Times, 'Times New Roman', serif;letter-spacing: 3px;font-weight: normal\">1. Importamos las librerias</h2>"
   ]
  },
  {
   "cell_type": "code",
   "execution_count": null,
   "id": "6c95a30f-b9b3-420e-b095-bc255ba15e7c",
   "metadata": {},
   "outputs": [],
   "source": [
    "\"\"\"\n",
    "!pip install pytube\n",
    "!pip install SpeechRecognition\n",
    "!pip install pydub\n",
    "!pip install moviepy\n",
    "!pip install beautifulsoup4\n",
    "!pip install nltk\n",
    "\"\"\""
   ]
  },
  {
   "cell_type": "code",
   "execution_count": 1,
   "id": "d5e13fba",
   "metadata": {},
   "outputs": [
    {
     "name": "stderr",
     "output_type": "stream",
     "text": [
      "C:\\ProgramData\\Anaconda3\\envs\\EatEaser\\lib\\site-packages\\pydub\\utils.py:170: RuntimeWarning: Couldn't find ffmpeg or avconv - defaulting to ffmpeg, but may not work\n",
      "  warn(\"Couldn't find ffmpeg or avconv - defaulting to ffmpeg, but may not work\", RuntimeWarning)\n"
     ]
    }
   ],
   "source": [
    "from pytube import YouTube\n",
    "import speech_recognition as sr\n",
    "from pydub import AudioSegment\n",
    "import moviepy.editor as mp\n",
    "from bs4 import BeautifulSoup\n",
    "import glob\n",
    "import os\n",
    "from nltk.stem import PorterStemmer\n",
    "from nltk.tokenize import word_tokenize\n",
    "import requests\n",
    "from pydub.silence import split_on_silence"
   ]
  },
  {
   "cell_type": "markdown",
   "id": "c1bce916",
   "metadata": {},
   "source": [
    "<h2 style=\"font-size: 19px;color:#6DA0FF;font-family:Georgia, Times, 'Times New Roman', serif;letter-spacing: 3px;font-weight: normal\">2. Inicio del programa</h2>"
   ]
  },
  {
   "cell_type": "code",
   "execution_count": 2,
   "id": "5bb88615",
   "metadata": {},
   "outputs": [],
   "source": [
    "class ControladorVideo:\n",
    "    def __init__(self): \n",
    "        self._idvideo = 0\n",
    "        self.rutavideo=''\n",
    "    \"\"\"|DESCARGAR VIDEO URL: descarga el video de youtube\n",
    "       |enlace: es un string que contiene el enlace de youtube\n",
    "       |return: devuelve una ruta absoluta con\"\"\"\n",
    "    def descargarVideoURL(self,enlace):\n",
    "        #buscamos el enlace->aqui se debe añadir un try catch\n",
    "        yt=YouTube(enlace)\n",
    "        #aqui creo un nuevo id para el nuevo video\n",
    "        self._idvideo= self._idvideo+1\n",
    "        #esta sera el archivo del video y su nuevo nombre\n",
    "        archivo='recetasvideos/'\n",
    "        nombre='receta'+str(self._idvideo)\n",
    "        #le pedimos al pytube que solo nos descargue el audio y lo descargamos\n",
    "        t=yt.streams.filter(file_extension='mp4').first().download(output_path=archivo,filename=nombre+'.mp4')\n",
    "        #devolvemos la ruta\n",
    "        return archivo+nombre\n",
    "    \"\"\"|PARSEO VIDEO: pasa el video de .mp4 a .wav\n",
    "       |ruta: es un string que se colocara la ruta absoluta\n",
    "       |return: devuelve la nueva ruta .wav\"\"\"\n",
    "    def parseoVideo2(self,ruta):\n",
    "        #tomamos el video en mp4\n",
    "        track = AudioSegment.from_file(ruta+'.mp4',  format= 'mp4')\n",
    "        #cambiamos el video a .wav\n",
    "        file_handle = track.export(ruta+'.wav', format='wav')\n",
    "        #eliminamos el mp4\n",
    "        os.remove(ruta+'.mp4')\n",
    "        return ruta+'.wav'\n",
    "    def parseoVideo(self,ruta):\n",
    "        #tomamos el video en mp4 \n",
    "        track = mp.VideoFileClip(ruta+'.mp4')\n",
    "        #track = AudioSegment.from_file(ruta+'.mp4',  format= 'mp4')\n",
    "        #cambiamos el video a .wav\n",
    "        #Lo escribimos como audio y `.mp3`\n",
    "        nombre_wav=\"{}.wav\".format(ruta)\n",
    "        track.audio.write_audiofile(nombre_wav)\n",
    "        #file_handle = track.export(ruta+'.wav', format='wav')\n",
    "        #eliminamos el mp4\n",
    "        #os.remove(ruta+'.mp4')\n",
    "        return ruta+'.wav'\n",
    "    def guardarVideos(self,enlace):\n",
    "        rec=RecursosAdicionales()\n",
    "        self.rutavideo=self.descargarVideoURL(enlace)\n",
    "        return self.parseoVideo(self.rutavideo)\n",
    "        \n",
    "        "
   ]
  },
  {
   "cell_type": "markdown",
   "id": "d3b297ab",
   "metadata": {
    "tags": []
   },
   "source": [
    "<h3  style='font-family: \"Times New Roman\", Times, serif; font-weight: bold;text-align:center;font-size:14px'>CLASE DEPURADOR</h3><p style='font-family: \"Times New Roman\", Times, serif; font-size:14px'>En esta clase se realizará el proceso de extraccion, transformacion y carga de nuestro programa EATEASER.</p>\n"
   ]
  },
  {
   "cell_type": "code",
   "execution_count": 3,
   "id": "7d0598a3",
   "metadata": {},
   "outputs": [],
   "source": [
    "#si el video es mayor de 3 minutos no funciona\n",
    "#si el video es en ingles no funciona\n",
    "class Depurador:\n",
    "    def __init__(self): \n",
    "        self.cv=ControladorVideo()\n",
    "        self.rec=RecursosAdicionales()\n",
    "    \"\"\"|VIDEO_TEXTO: extraemos al informacion del video \n",
    "       |ruta: es un string que se colocara la ruta absoluta\n",
    "       |return: devuelve el audio en texto\"\"\"\n",
    "    def extraccion(self,enlace):\n",
    "        ruta=self.cv.guardarVideos(enlace)\n",
    "        #instanciamos el recognizer\n",
    "        r = sr.Recognizer()\n",
    "        audio = sr.AudioFile(ruta)\n",
    "        with audio as source:\n",
    "            audio_file = r.record(source)\n",
    "        #transcribimos el audio a texto\n",
    "        result = r.recognize_google(audio_file, language = 'es-ES')\n",
    "        #aqui hay que eliminar el .wav\n",
    "        resultado=self.rec.escritura(self.cv.r,result)\n",
    "        self.rec.eliminacionMp4()\n",
    "        return resultado     \n",
    "    def transformacion(self):\n",
    "        print()\n",
    "    def carga(self):\n",
    "        print()"
   ]
  },
  {
   "cell_type": "code",
   "execution_count": 4,
   "id": "c910592f",
   "metadata": {},
   "outputs": [],
   "source": [
    "#aqui iran lecturas-escrituras-guardar-eliminar cosas en bases de datos\n",
    "class RecursosAdicionales:\n",
    "    \"\"\"|ESCRITURA: escribe textos txt\n",
    "       |nombre: nombre del \n",
    "       |return: devuelve el audio en texto\"\"\"\n",
    "    def escritura(self,nombre,texto):\n",
    "        f = open(nombre+'.txt', 'w')\n",
    "        f.write(texto)\n",
    "        f = open(nombre+'.txt', \"r\")\n",
    "        print(f.read())\n",
    "        f.close()\n",
    "    def eliminacionMp4(self):\n",
    "        ruta ='./recetasvideos/'\n",
    "        py_files = glob.glob('./recetasvideos/*.mp4')\n",
    "        for py_file in py_files:\n",
    "            try:\n",
    "                os.remove(py_file)\n",
    "            except OSError as e:\n",
    "                print(f\"Error:{ e.strerror}\")     \n",
    "   \n",
    "        "
   ]
  },
  {
   "cell_type": "code",
   "execution_count": 5,
   "id": "e747077e",
   "metadata": {},
   "outputs": [],
   "source": [
    "class WebScrap:\n",
    "    def __init__(self): \n",
    "        self.headers = {'User-Agent': 'Mozilla/5.0 (Macintosh; Intel Mac OS X 10_10_1) AppleWebKit/537.36 (KHTML, like Gecko) Chrome/39.0.2171.95 Safari/537.36'}\n",
    "    def request(self, url):\n",
    "        request1 = requests.get(url, headers=self.headers)\n",
    "        html = request1.content\n",
    "        soup = BeautifulSoup(html, 'html.parser')\n",
    "        return soup\n",
    "    def verificar_alimento(self,alimento):\n",
    "        soup = self.request( 'https://www.themealdb.com/api/json/v1/1/search.php?s='+alimento)\n",
    "        print(soup)\n",
    "        "
   ]
  },
  {
   "cell_type": "markdown",
   "id": "f517c7a4",
   "metadata": {},
   "source": [
    "<h2 style=\"font-size: 19px;color:#6DA0FF;font-family:Georgia, Times, 'Times New Roman', serif;letter-spacing: 3px;font-weight: normal\">3. Main</h2>"
   ]
  },
  {
   "cell_type": "code",
   "execution_count": 6,
   "id": "f92c5289",
   "metadata": {},
   "outputs": [
    {
     "name": "stdout",
     "output_type": "stream",
     "text": [
      "MoviePy - Writing audio in recetasvideos/receta1.wav\n"
     ]
    },
    {
     "name": "stderr",
     "output_type": "stream",
     "text": [
      "                                                                      \r"
     ]
    },
    {
     "name": "stdout",
     "output_type": "stream",
     "text": [
      "MoviePy - Done.\n"
     ]
    },
    {
     "ename": "TypeError",
     "evalue": "object of type 'AudioFile' has no len()",
     "output_type": "error",
     "traceback": [
      "\u001b[1;31m---------------------------------------------------------------------------\u001b[0m",
      "\u001b[1;31mTypeError\u001b[0m                                 Traceback (most recent call last)",
      "\u001b[1;32m~\\AppData\\Local\\Temp\\ipykernel_9476\\1702009073.py\u001b[0m in \u001b[0;36m<module>\u001b[1;34m\u001b[0m\n\u001b[0;32m      1\u001b[0m \u001b[0mdep\u001b[0m\u001b[1;33m=\u001b[0m\u001b[0mDepurador\u001b[0m\u001b[1;33m(\u001b[0m\u001b[1;33m)\u001b[0m\u001b[1;33m\u001b[0m\u001b[1;33m\u001b[0m\u001b[0m\n\u001b[0;32m      2\u001b[0m \u001b[1;32mif\u001b[0m \u001b[0m__name__\u001b[0m \u001b[1;33m==\u001b[0m \u001b[1;34m'__main__'\u001b[0m\u001b[1;33m:\u001b[0m\u001b[1;33m\u001b[0m\u001b[1;33m\u001b[0m\u001b[0m\n\u001b[1;32m----> 3\u001b[1;33m     \u001b[0mdep\u001b[0m\u001b[1;33m.\u001b[0m\u001b[0mextraccion\u001b[0m\u001b[1;33m(\u001b[0m\u001b[1;34m'https://www.youtube.com/watch?v=DnamuF14sJ0'\u001b[0m\u001b[1;33m)\u001b[0m\u001b[1;33m\u001b[0m\u001b[1;33m\u001b[0m\u001b[0m\n\u001b[0m\u001b[0;32m      4\u001b[0m     \u001b[0mdep\u001b[0m\u001b[1;33m.\u001b[0m\u001b[0mextraccion\u001b[0m\u001b[1;33m(\u001b[0m\u001b[1;34m'https://www.youtube.com/watch?v=PsqR5M8rdjA&list=LL&index=9&t=4s'\u001b[0m\u001b[1;33m)\u001b[0m\u001b[1;33m\u001b[0m\u001b[1;33m\u001b[0m\u001b[0m\n",
      "\u001b[1;32m~\\AppData\\Local\\Temp\\ipykernel_9476\\1094880276.py\u001b[0m in \u001b[0;36mextraccion\u001b[1;34m(self, enlace)\u001b[0m\n\u001b[0;32m     13\u001b[0m         \u001b[0mr\u001b[0m \u001b[1;33m=\u001b[0m \u001b[0msr\u001b[0m\u001b[1;33m.\u001b[0m\u001b[0mRecognizer\u001b[0m\u001b[1;33m(\u001b[0m\u001b[1;33m)\u001b[0m\u001b[1;33m\u001b[0m\u001b[1;33m\u001b[0m\u001b[0m\n\u001b[0;32m     14\u001b[0m         \u001b[0maudio\u001b[0m \u001b[1;33m=\u001b[0m \u001b[0msr\u001b[0m\u001b[1;33m.\u001b[0m\u001b[0mAudioFile\u001b[0m\u001b[1;33m(\u001b[0m\u001b[0mruta\u001b[0m\u001b[1;33m)\u001b[0m\u001b[1;33m\u001b[0m\u001b[1;33m\u001b[0m\u001b[0m\n\u001b[1;32m---> 15\u001b[1;33m         \u001b[0maudio_limpio\u001b[0m \u001b[1;33m=\u001b[0m \u001b[0msplit_on_silence\u001b[0m\u001b[1;33m(\u001b[0m\u001b[0maudio\u001b[0m\u001b[1;33m,\u001b[0m \u001b[0mmin_silence_len\u001b[0m\u001b[1;33m=\u001b[0m\u001b[1;36m500\u001b[0m\u001b[1;33m,\u001b[0m \u001b[0msilence_thresh\u001b[0m\u001b[1;33m=\u001b[0m\u001b[1;33m-\u001b[0m\u001b[1;36m40\u001b[0m \u001b[1;33m)\u001b[0m\u001b[1;33m\u001b[0m\u001b[1;33m\u001b[0m\u001b[0m\n\u001b[0m\u001b[0;32m     16\u001b[0m         \u001b[1;32mwith\u001b[0m \u001b[0maudio_limpio\u001b[0m \u001b[1;32mas\u001b[0m \u001b[0msource\u001b[0m\u001b[1;33m:\u001b[0m\u001b[1;33m\u001b[0m\u001b[1;33m\u001b[0m\u001b[0m\n\u001b[0;32m     17\u001b[0m             \u001b[0maudio_file\u001b[0m \u001b[1;33m=\u001b[0m \u001b[0mr\u001b[0m\u001b[1;33m.\u001b[0m\u001b[0mrecord\u001b[0m\u001b[1;33m(\u001b[0m\u001b[0msource\u001b[0m\u001b[1;33m)\u001b[0m\u001b[1;33m\u001b[0m\u001b[1;33m\u001b[0m\u001b[0m\n",
      "\u001b[1;32mC:\\ProgramData\\Anaconda3\\envs\\EatEaser\\lib\\site-packages\\pydub\\silence.py\u001b[0m in \u001b[0;36msplit_on_silence\u001b[1;34m(audio_segment, min_silence_len, silence_thresh, keep_silence, seek_step)\u001b[0m\n\u001b[0;32m    148\u001b[0m         \u001b[1;33m[\u001b[0m \u001b[0mstart\u001b[0m \u001b[1;33m-\u001b[0m \u001b[0mkeep_silence\u001b[0m\u001b[1;33m,\u001b[0m \u001b[0mend\u001b[0m \u001b[1;33m+\u001b[0m \u001b[0mkeep_silence\u001b[0m \u001b[1;33m]\u001b[0m\u001b[1;33m\u001b[0m\u001b[1;33m\u001b[0m\u001b[0m\n\u001b[0;32m    149\u001b[0m         \u001b[1;32mfor\u001b[0m \u001b[1;33m(\u001b[0m\u001b[0mstart\u001b[0m\u001b[1;33m,\u001b[0m\u001b[0mend\u001b[0m\u001b[1;33m)\u001b[0m\u001b[1;33m\u001b[0m\u001b[1;33m\u001b[0m\u001b[0m\n\u001b[1;32m--> 150\u001b[1;33m             \u001b[1;32min\u001b[0m \u001b[0mdetect_nonsilent\u001b[0m\u001b[1;33m(\u001b[0m\u001b[0maudio_segment\u001b[0m\u001b[1;33m,\u001b[0m \u001b[0mmin_silence_len\u001b[0m\u001b[1;33m,\u001b[0m \u001b[0msilence_thresh\u001b[0m\u001b[1;33m,\u001b[0m \u001b[0mseek_step\u001b[0m\u001b[1;33m)\u001b[0m\u001b[1;33m\u001b[0m\u001b[1;33m\u001b[0m\u001b[0m\n\u001b[0m\u001b[0;32m    151\u001b[0m     ]\n\u001b[0;32m    152\u001b[0m \u001b[1;33m\u001b[0m\u001b[0m\n",
      "\u001b[1;32mC:\\ProgramData\\Anaconda3\\envs\\EatEaser\\lib\\site-packages\\pydub\\silence.py\u001b[0m in \u001b[0;36mdetect_nonsilent\u001b[1;34m(audio_segment, min_silence_len, silence_thresh, seek_step)\u001b[0m\n\u001b[0;32m     84\u001b[0m     \u001b[0mseek_step\u001b[0m \u001b[1;33m-\u001b[0m \u001b[0mstep\u001b[0m \u001b[0msize\u001b[0m \u001b[1;32mfor\u001b[0m \u001b[0minterating\u001b[0m \u001b[0mover\u001b[0m \u001b[0mthe\u001b[0m \u001b[0msegment\u001b[0m \u001b[1;32min\u001b[0m \u001b[0mms\u001b[0m\u001b[1;33m\u001b[0m\u001b[1;33m\u001b[0m\u001b[0m\n\u001b[0;32m     85\u001b[0m     \"\"\"\n\u001b[1;32m---> 86\u001b[1;33m     \u001b[0msilent_ranges\u001b[0m \u001b[1;33m=\u001b[0m \u001b[0mdetect_silence\u001b[0m\u001b[1;33m(\u001b[0m\u001b[0maudio_segment\u001b[0m\u001b[1;33m,\u001b[0m \u001b[0mmin_silence_len\u001b[0m\u001b[1;33m,\u001b[0m \u001b[0msilence_thresh\u001b[0m\u001b[1;33m,\u001b[0m \u001b[0mseek_step\u001b[0m\u001b[1;33m)\u001b[0m\u001b[1;33m\u001b[0m\u001b[1;33m\u001b[0m\u001b[0m\n\u001b[0m\u001b[0;32m     87\u001b[0m     \u001b[0mlen_seg\u001b[0m \u001b[1;33m=\u001b[0m \u001b[0mlen\u001b[0m\u001b[1;33m(\u001b[0m\u001b[0maudio_segment\u001b[0m\u001b[1;33m)\u001b[0m\u001b[1;33m\u001b[0m\u001b[1;33m\u001b[0m\u001b[0m\n\u001b[0;32m     88\u001b[0m \u001b[1;33m\u001b[0m\u001b[0m\n",
      "\u001b[1;32mC:\\ProgramData\\Anaconda3\\envs\\EatEaser\\lib\\site-packages\\pydub\\silence.py\u001b[0m in \u001b[0;36mdetect_silence\u001b[1;34m(audio_segment, min_silence_len, silence_thresh, seek_step)\u001b[0m\n\u001b[0;32m     17\u001b[0m     \u001b[0mseek_step\u001b[0m \u001b[1;33m-\u001b[0m \u001b[0mstep\u001b[0m \u001b[0msize\u001b[0m \u001b[1;32mfor\u001b[0m \u001b[0minterating\u001b[0m \u001b[0mover\u001b[0m \u001b[0mthe\u001b[0m \u001b[0msegment\u001b[0m \u001b[1;32min\u001b[0m \u001b[0mms\u001b[0m\u001b[1;33m\u001b[0m\u001b[1;33m\u001b[0m\u001b[0m\n\u001b[0;32m     18\u001b[0m     \"\"\"\n\u001b[1;32m---> 19\u001b[1;33m     \u001b[0mseg_len\u001b[0m \u001b[1;33m=\u001b[0m \u001b[0mlen\u001b[0m\u001b[1;33m(\u001b[0m\u001b[0maudio_segment\u001b[0m\u001b[1;33m)\u001b[0m\u001b[1;33m\u001b[0m\u001b[1;33m\u001b[0m\u001b[0m\n\u001b[0m\u001b[0;32m     20\u001b[0m \u001b[1;33m\u001b[0m\u001b[0m\n\u001b[0;32m     21\u001b[0m     \u001b[1;31m# you can't have a silent portion of a sound that is longer than the sound\u001b[0m\u001b[1;33m\u001b[0m\u001b[1;33m\u001b[0m\u001b[0m\n",
      "\u001b[1;31mTypeError\u001b[0m: object of type 'AudioFile' has no len()"
     ]
    }
   ],
   "source": [
    "dep=Depurador()\n",
    "if __name__ == '__main__':\n",
    "    dep.extraccion('https://www.youtube.com/watch?v=DnamuF14sJ0')\n",
    "    dep.extraccion('https://www.youtube.com/watch?v=PsqR5M8rdjA&list=LL&index=9&t=4s')"
   ]
  },
  {
   "cell_type": "code",
   "execution_count": null,
   "id": "08f9cf8c",
   "metadata": {},
   "outputs": [],
   "source": [
    "#hace falta categorizar, llevar a una carpeta "
   ]
  },
  {
   "cell_type": "code",
   "execution_count": null,
   "id": "f287f0a9",
   "metadata": {},
   "outputs": [],
   "source": []
  }
 ],
 "metadata": {
  "kernelspec": {
   "display_name": "Python 3 (ipykernel)",
   "language": "python",
   "name": "python3"
  },
  "language_info": {
   "codemirror_mode": {
    "name": "ipython",
    "version": 3
   },
   "file_extension": ".py",
   "mimetype": "text/x-python",
   "name": "python",
   "nbconvert_exporter": "python",
   "pygments_lexer": "ipython3",
   "version": "3.10.6"
  }
 },
 "nbformat": 4,
 "nbformat_minor": 5
}
