{
 "cells": [
  {
   "cell_type": "markdown",
   "id": "f8318545",
   "metadata": {},
   "source": [
    "<div style='width=100%; display:flex;flex-direction:row'><img  src=https://universidadeuropea.com/resources/media/images/universidad-europea-logo_poc9mEM.original.png width=100  style='  margin-left: auto;margin-right: auto; width: 25%; height:25%;'><img  src=https://i.ibb.co/1068C7j/EATEASER.jpg width=100 style='  margin-left: auto;margin-right: auto; width: 10%;height:25%;'></div>"
   ]
  },
  {
   "cell_type": "markdown",
   "id": "03ee9dce",
   "metadata": {},
   "source": [
    "<div style='margin:auto;text-align: center;font-family: \"Times New Roman\", Times, serif; font-weight: bold;'>PROYECTO COMUTACIONAL<br><br>EATEASER - VOZ A TEXTO</div>"
   ]
  },
  {
   "cell_type": "markdown",
   "id": "c329ef59",
   "metadata": {},
   "source": [
    "<div style='width:100%; display:flex;flex-direction:row'>\n",
    "    <div style='width:50%;margin-right:5cm;'>\n",
    "        <p style='font-family: \"Times New Roman\", Times, serif; font-weight: bold;'>ESTUDIANTES</p>\n",
    "<ul style='font-family: \"Times New Roman\", Times, serif;'>\n",
    "    <li>Adilem Dobras 21911633</li><li>Roberto Echevarria 21823680</li><li>Carlos Gonzales 22067726</li><li>Juan Carlos Rondeau 21816176</li></ul> </div>\n",
    "\n",
    "</div>"
   ]
  },
  {
   "cell_type": "markdown",
   "id": "fb3dfd23",
   "metadata": {},
   "source": [
    "<h2 style=\"font-size: 19px;color:#6DA0FF;font-family:Georgia, Times, 'Times New Roman', serif;letter-spacing: 3px;font-weight: normal\">1. Importamos las librerias</h2>"
   ]
  },
  {
   "cell_type": "code",
   "execution_count": 1,
   "id": "d5e13fba",
   "metadata": {},
   "outputs": [],
   "source": [
    "import glob\n",
    "import os\n",
    "import re\n",
    "import requests\n",
    "import pathlib\n",
    "import sys\n",
    "\n",
    "try:\n",
    "    from pytube import YouTube\n",
    "    from pytube import Playlist\n",
    "except ModuleNotFoundError:\n",
    "    !pip install pytube\n",
    "try:\n",
    "    import speech_recognition as sr\n",
    "except ModuleNotFoundError:\n",
    "    !pip install SpeechRecognition\n",
    "try:\n",
    "    from pydub import AudioSegment\n",
    "    from pydub.silence import split_on_silence\n",
    "except:\n",
    "    !pip install pydub\n",
    "try:\n",
    "    import moviepy.editor as mp\n",
    "except:\n",
    "    !pip install moviepy\n",
    "try:\n",
    "    from bs4 import BeautifulSoup\n",
    "except:\n",
    "    !pip install beautifulsoup4\n",
    "try:\n",
    "    from nltk.stem import PorterStemmer\n",
    "    from nltk.tokenize import word_tokenize\n",
    "except:\n",
    "    !pip install nltk  "
   ]
  },
  {
   "cell_type": "markdown",
   "id": "c1bce916",
   "metadata": {},
   "source": [
    "<h2 style=\"font-size: 19px;color:#6DA0FF;font-family:Georgia, Times, 'Times New Roman', serif;letter-spacing: 3px;font-weight: normal\">2. Inicio del programa</h2>"
   ]
  },
  {
   "cell_type": "markdown",
   "id": "80f5340a",
   "metadata": {},
   "source": [
    "<h3  style='font-family: \"Times New Roman\", Times, serif; font-weight: bold;text-align:center;font-size:14px'>CLASE CONTROLADORVIDEO</h3><p style='font-family: \"Times New Roman\", Times, serif; font-size:14px'>En esta clase se realizará los ajustes para manejar el video recibido y manipularlo.</p>\n"
   ]
  },
  {
   "cell_type": "code",
   "execution_count": 2,
   "id": "5bb88615",
   "metadata": {},
   "outputs": [],
   "source": [
    "class ControladorVideo:\n",
    "    def __init__(self,enlace): \n",
    "        self._idvideo = self.reenumerar()\n",
    "        self.enlacevideo=enlace\n",
    "        self.yt=YouTube(self.enlacevideo)\n",
    "        self.nombrevideo=''\n",
    "        self.titulovideo=self.yt.title\n",
    "        self.autorvideo=self.yt.author\n",
    "        self.fechavideo=self.yt.publish_date\n",
    "        self.duracionvideo=self.yt.length\n",
    "    \"\"\"|DESCARGAR VIDEO URL: descarga el video de youtube\n",
    "       |return: devuelve una ruta absoluta\"\"\"\n",
    "    def descargarVideoURL(self):\n",
    "        recetasVideos = 'recetasvideos/'\n",
    "        #aqui creo un nuevo id para el nuevo video\n",
    "        self._idvideo= self._idvideo+1\n",
    "        #esta sera el archivo del video y su nuevo nombre\n",
    "        nombre='receta'+str(self._idvideo)\n",
    "        #le pedimos al pytube que solo nos descargue el audio y lo descargamos\n",
    "        t=self.yt.streams.filter(file_extension='mp4').first().download(output_path=recetasVideos,filename=nombre+'.mp4')\n",
    "        #devolvemos el nombre\n",
    "        return nombre\n",
    "    \"\"\"|PARSEO VIDEO: pasa el video de .mp4 a .wav\n",
    "       |nombre: es un string que se colocara el nombre del video\n",
    "       |return: devuelve el nuevo nombre del audio en .wav\"\"\"\n",
    "    def parseoVideo(self,nombre):\n",
    "        recetasVideos = 'recetasvideos/'\n",
    "        #tomamos el video en mp4 \n",
    "        track = mp.VideoFileClip(recetasVideos+nombre+'.mp4')\n",
    "        #cambiamos el video a .wav\n",
    "        nombre_wav=\"{}.wav\".format(nombre)\n",
    "        track.audio.write_audiofile(recetasVideos+nombre_wav)\n",
    "        track.close()\n",
    "        return nombre+'.wav'\n",
    "    \"\"\"|REENUMERAR: Devuelve cual es el id del siguiente video.\n",
    "       |primer for: recorre cada carpeta de /recetastextos\n",
    "       |segundo for: cuenta cada archivo dentro de /recetastextos/* \"\"\"\n",
    "    def reenumerar(self):\n",
    "        contador = 0\n",
    "        for item in pathlib.Path(\"./recetastextos/\").iterdir():\n",
    "            if item.is_file():\n",
    "                contador += 1\n",
    "            elif item.is_dir():\n",
    "                for subitem in item.iterdir():\n",
    "                    if subitem.is_file():                     \n",
    "                        contador += 1\n",
    "        return contador\n",
    "    \"\"\"|SPEECH TEXT:Transforma el audio a texto\n",
    "       |nombre: es un string que se colocara el nombre del video\n",
    "       |return: devuelve un string con el texto devuelto\"\"\"\n",
    "    def speech_text(self,nombre):\n",
    "        recetasVideos = 'recetasvideos/'\n",
    "        #instanciamos el recognizer\n",
    "        r = sr.Recognizer()\n",
    "        audio = sr.AudioFile(recetasVideos+nombre)\n",
    "        with audio as source:\n",
    "            audio_file = r.record(source)\n",
    "        #transcribimos el audio a texto\n",
    "        result = r.recognize_google(audio_file, language = 'es-ES')\n",
    "        return result\n",
    "        "
   ]
  },
  {
   "cell_type": "markdown",
   "id": "d3b297ab",
   "metadata": {
    "tags": []
   },
   "source": [
    "<h3  style='font-family: \"Times New Roman\", Times, serif; font-weight: bold;text-align:center;font-size:14px'>CLASE DEPURADOR</h3><p style='font-family: \"Times New Roman\", Times, serif; font-size:14px'>En esta clase se realizará el proceso de extraccion, transformacion y carga de nuestro programa EATEASER.</p>\n"
   ]
  },
  {
   "cell_type": "code",
   "execution_count": 3,
   "id": "7d0598a3",
   "metadata": {},
   "outputs": [],
   "source": [
    "#si el video es mayor de 3 minutos no funciona\n",
    "#si el video es en ingles no funciona\n",
    "class Depurador:\n",
    "    def __init__(self): \n",
    "        self.rec=RecursosAdicionales()\n",
    "    \"\"\"|VIDEO: proceso etl donde extraemos al informacion del video \n",
    "       |enlace: es un string que se colocara el enlace del video\"\"\"\n",
    "    def video(self,enlace):\n",
    "        try:\n",
    "            #instanciamos el controlador de videos\n",
    "            cv=ControladorVideo(enlace)\n",
    "            #paso 1: descargamos el video\n",
    "            cv.nombrevideo=cv.descargarVideoURL()\n",
    "            #paso 2: pasamos el video a .wav\n",
    "            nombre=cv.parseoVideo(cv.nombrevideo)\n",
    "            #paso 3: pasamos el .wav a texto\n",
    "            try:\n",
    "                result=cv.speech_text(nombre)\n",
    "                #paso 4: escribimos el texto recibido en un txt\n",
    "                try:\n",
    "                    quitarEmojis = dict.fromkeys(range(0x10000, sys.maxunicode + 1), 'NULL')\n",
    "                    tituloSinEmojis=cv.titulovideo.translate(quitarEmojis)\n",
    "                    autorSinEmojis=cv.autorvideo.translate(quitarEmojis)\n",
    "                    resultado=self.rec.escritura(cv.nombrevideo,\"Titulo:\"+tituloSinEmojis+\"\\n\"+\"Autor:\"+autorSinEmojis+\"\\n\"+\"Fecha Publicacion:\"+str(cv.fechavideo)+\"\\n\"+\"Entradilla:\"+result)\n",
    "                except:\n",
    "                    print(\"fallo al erscribr el video en texto\")\n",
    "                    #paso 5: eliminamos los mp4\n",
    "                    self.rec.eliminacionMp4()\n",
    "                    return resultado   \n",
    "            except:\n",
    "                print(\"No se ha podido transcribir el video: \"+ cv.nombrevideo + \" - \"+ cv.titulovideo)\n",
    "                self.rec.eliminacionMp4()\n",
    "                return None\n",
    "        except:\n",
    "            print(\"No se ha podido descargar el video: \"+ cv.nombrevideo + \" - \"+ cv.titulovideo)\n",
    "            return None\n",
    "    def lista(self, enlace):\n",
    "        playlist_urls = Playlist(enlace)\n",
    "        for url in playlist_urls:\n",
    "            self.video(url)\n",
    "    def transformacion(self):\n",
    "        print()\n",
    "    def carga(self):\n",
    "        print()"
   ]
  },
  {
   "cell_type": "code",
   "execution_count": 4,
   "id": "c910592f",
   "metadata": {},
   "outputs": [],
   "source": [
    "#aqui iran lecturas-escrituras-guardar-eliminar cosas en bases de datos\n",
    "class RecursosAdicionales:\n",
    "    \"\"\"|ESCRITURA: escribe textos txt\n",
    "       |nombre: nombre del \n",
    "       |return: devuelve el audio en texto\"\"\"\n",
    "    #yo siento que en vez de cambiar de carpeta los textos...deberiamos eliminar los mp4\n",
    "    #y si lo mas factible aqui es que guardemos el video por su nombre?\n",
    "    #creo que no debemos contar los files porque cansan el programa\n",
    "    \n",
    "    def escritura(self,nombre,texto):\n",
    "        recetasTextos = './recetastextos/'\n",
    "        if not(os.path.exists(recetasTextos)):\n",
    "            os.mkdir(recetasTextos)\n",
    "        f = open(recetasTextos+nombre+'.txt', 'w')\n",
    "        f.write(texto)\n",
    "        f = open(recetasTextos+nombre+'.txt', \"r\")\n",
    "        print(f.read())\n",
    "        f.close()\n",
    "    def eliminacionMp4(self):\n",
    "        recetasVideos = './recetasvideos/'\n",
    "        py_files = glob.glob(recetasVideos+'*.mp4')\n",
    "        for py_file in py_files:\n",
    "            try:\n",
    "                os.remove(py_file)\n",
    "            except OSError as e:\n",
    "                print(f\"Error:{ e.strerror}\")      \n",
    "        "
   ]
  },
  {
   "cell_type": "code",
   "execution_count": 5,
   "id": "e747077e",
   "metadata": {},
   "outputs": [],
   "source": [
    "class WebScrap:\n",
    "    def __init__(self): \n",
    "        self.headers = {'User-Agent': 'Mozilla/5.0 (Macintosh; Intel Mac OS X 10_10_1) AppleWebKit/537.36 (KHTML, like Gecko) Chrome/39.0.2171.95 Safari/537.36'}\n",
    "    def request(self, url):\n",
    "        request1 = requests.get(url, headers=self.headers)\n",
    "        html = request1.content\n",
    "        soup = BeautifulSoup(html, 'html.parser')\n",
    "        return soup\n",
    "    def verificar_alimento(self,alimento):\n",
    "        soup = self.request( 'https://www.themealdb.com/api/json/v1/1/search.php?s='+alimento)\n",
    "        print(soup)\n",
    "        "
   ]
  },
  {
   "cell_type": "markdown",
   "id": "f517c7a4",
   "metadata": {},
   "source": [
    "<h2 style=\"font-size: 19px;color:#6DA0FF;font-family:Georgia, Times, 'Times New Roman', serif;letter-spacing: 3px;font-weight: normal\">3. Main</h2>"
   ]
  },
  {
   "cell_type": "code",
   "execution_count": 6,
   "id": "f92c5289",
   "metadata": {
    "collapsed": true
   },
   "outputs": [
    {
     "name": "stdout",
     "output_type": "stream",
     "text": [
      "MoviePy - Writing audio in recetasvideos/receta29.wav\n"
     ]
    },
    {
     "name": "stderr",
     "output_type": "stream",
     "text": [
      "                                                                      \r"
     ]
    },
    {
     "name": "stdout",
     "output_type": "stream",
     "text": [
      "MoviePy - Done.\n",
      "Titulo:COCINA PARA TODOS · BROWNIE A LA TAZA\n",
      "Autor:Reclutados\n",
      "Fecha Publicacion:2014-04-30 00:00:00\n",
      "Entradilla:hola soy Mary y hoy estoy aquí en reclutado para enseñaros cómo hacer brownie a la taza pero antes me voy a transformar en cocina todo de leche y 3 cucharadas de cacao en polvo y con ayuda de un tenedor y añadimos la leche y el aceite y volvemos a batir con ayuda de continuación añadimos el azúcar la harina y el cacao y con la ayuda el tenedor lo batimos ya lo tenemos bien batido os tiene que quedar con esta consistencia y naves que ya lo tenemos así lo vamos a poner sobre un plato pequeño como este y lo vamos a llevar al microondas durante 2 minutos y medio ya está listo vamos a cerrar y lo ponemos en marcha una vez que lo hemos sacado del microondas vamos a dejarlo reposar durante 2 minutos ya han pasado 2 minutos y está listo para comer así que voy a probarla me gusta espero que os haya gustado la receta que la he sacado de la página azúcar de colores es que podéis visitarla si queréis y se me ha gustado mi vídeo no olvidéis de darle me gusta también podéis ver otra de mis recetas pinchando aquí si están en el ordenador o abajo en un enlace si estáis en tablet o móvil también podéis suscribiros al canal de reclutados así que hasta el próximo vídeo\n",
      "MoviePy - Writing audio in recetasvideos/receta30.wav\n"
     ]
    },
    {
     "name": "stderr",
     "output_type": "stream",
     "text": [
      "                                                                      \r"
     ]
    },
    {
     "name": "stdout",
     "output_type": "stream",
     "text": [
      "MoviePy - Done.\n",
      "Titulo:Galletas Chocolate Chip Cookies con Nutella\n",
      "Autor:Cocina Para Todos\n",
      "Fecha Publicacion:2015-05-30 00:00:00\n",
      "Entradilla:hola soy Mary bienvenido cocina para todos vamos a hacer unas galletas cookies de nutella y para hacerla vamos a necesitar los siguientes ingredientes 220 gramos de harina de trigo 115 gramos o media taza de mantequilla 2 huevos 150 gramos son dos tercios de trabajo de azúcar 150 g o una taza de chip de chocolate 115 gramos o media taza de crema de cacao y avellanas como puedes ver Nutella una cucharada de levadura química también conocida como polvos para hornear y una cucharada de esencia de vainilla lo primero que vamos a hacer es poner la mantequilla que está a temperatura ambiente en un recipiente y le añadimos el azúcar y con ayuda de una batidora de varillas batimos bien una vez que tengamos una mezcla blanquecina vamos añadir la esencia y los dos huevos que están a temperatura ambiente y lo volvemos a mezclar bien ahora vamos a pasar a mezclar la levadura con la harina y le añadimos la mitad para mezcla anterior está mi sándalo si queréis y lo integramos bien a la mezcla con ayuda de una espátula o lengua pastelera haremos lo mismo con la otra mitad poner quieres integrada os tiene que quedar con esa consistencia como podéis ver no es nada pegajosa si es pegajosa la añadir un poco más de harina y la integrais ya que depende del tamaño de los huevos que utilicéis y ya vamos a pasar a precalentar el horno voy a poner a precalentar el horno brand a 165 grados le añadimos a la masa las lágrimas de chocolate y la integramos y la masa ya tenemos la masa lista y he preparado también una bandeja de horno con un papel para hornear así que vamos a empezar ya te la galleta cogemos una cucharadita de masa la ponemos en la palma de la mano y vamos aplanarla de forma redonda si hace mucho calor dónde vivís os aconsejo que metáis la masa unos 10 minutos en el frigorífico antes de empezar a hacer las galletas le ponemos en medio y una cucharadita de nutella y ya no vamos cerrando gustado no olviden darle me gusta suscribiros a mi canal si hoy no lo he hecho y seguimiento de sociales que las tenéis traición y ahora a probar la galleta qué tal\n",
      "MoviePy - Writing audio in recetasvideos/receta31.wav\n"
     ]
    },
    {
     "name": "stderr",
     "output_type": "stream",
     "text": [
      "                                                                      \r"
     ]
    },
    {
     "name": "stdout",
     "output_type": "stream",
     "text": [
      "MoviePy - Done.\n",
      "Titulo:Tortitas Americanas Fáciles y Esponjosas | Hot Cakes | Pancakes\n",
      "Autor:Cocina Para Todos\n",
      "Fecha Publicacion:2016-04-26 00:00:00\n",
      "Entradilla:hola soy Mari bienvenida otro tiene para todos si me seguís en el Instagram para todos habréis visto que la semana pasada estuve de cruceros por el Mediterráneo y con tanto cambio temperatura pues al final he acabado un poco resfriada y con la voz chunga pero bueno no os preocupéis que esto se solucionará enseguida y bueno lo que iba que en todos los buffet del crucero no había tortitas americanas había bacon adiós huevo frito ayer salchichas de todo menos tortitas americanas así que vente me encargas de prepararme la cuando volviera y vamos a hacerlas todas juntas así que venga come en un recipiente se pone un huevo dos cucharadas de azúcar 2 cucharadas de aceite suave como puede ser de oliva o de girasol un poco más de media taza o vaso de leche una pizca de sal y una taza o 130 gramos de harina de trigo media cucharada de levadura química o polvos para hornear y accionar media cucharadita de esencia de vainilla ahora con ayuda de una batidora de mano o vaso batidor se mezcla todo bien cómo debe de quedar un punto intermedio entre una masa líquida y es pensar y ahora lo voy a dejar reposar durante 10 minutos la salteña está caliente así que voy a poner un poco de masa en el centro y voy a esperar hasta que se doren por un lado cuándo comienzan a salir burbujitas por esta superficie significa que la tortita hayas estado orando así que voy a comprobar que no se quema con ayuda de una espátula y como ya está doradita le voy a dar una vuelta y voy a dejar que se haga también por ese lado ya está lista por ambos lados así que eso saca y seguir haciendo tortitas con la cabra a fuego medio sin necesidad de ponerle más aceite a la sartén en total han salido 7:30 y estás y mirar lo bonita que han quedado ya voy a pasar a complementar la si me caso con un poco de sirope de agave aunque podía hacerlo con lo que más os guste y mermelada chocolate Nutella nata vamos lo que queráis está buenísimo con todo y ya voy a pasar a probarla las tortitas para poder pro a ver qué tal está esto tortitas están súper deliciosas jugosas esponjosas y con un toque a vainilla deliciosos vamos le doy un 10 se ha gustado darle a me gusta suscribiros si no lo habéis hecho y dejarme los comentarios próximo propuestas para recetas de tortitas americanas RELLENAS DE NUTELLA de oreo con dulce de leche cualquier cosa que se os venga a la mente y lo más popular pues le haré la próxima receta de tortitas americanas que haga o panqueque\n",
      "MoviePy - Writing audio in recetasvideos/receta32.wav\n"
     ]
    },
    {
     "name": "stderr",
     "output_type": "stream",
     "text": [
      "                                                                      \r"
     ]
    },
    {
     "name": "stdout",
     "output_type": "stream",
     "text": [
      "MoviePy - Done.\n",
      "No se ha podido transcribir el video: receta32 - Cómo Hacer Brownies de Chocolate\n",
      "MoviePy - Writing audio in recetasvideos/receta32.wav\n"
     ]
    },
    {
     "name": "stderr",
     "output_type": "stream",
     "text": [
      "                                                                      \r"
     ]
    },
    {
     "name": "stdout",
     "output_type": "stream",
     "text": [
      "MoviePy - Done.\n",
      "Titulo:Bizcocho de Chocolate Básico | Fácil Delicioso y Esponjoso\n",
      "Autor:Cocina Para Todos\n",
      "Fecha Publicacion:2016-04-13 00:00:00\n",
      "Entradilla:hola soy Mary de Medina o cocina para todos hacer un bizcocho más fáciles y populares que existen el bizcocho de chocolate os voy a enseñar a hacer unos súper sencillito y con muy pocos ingredientes que será perfecto para el desayuno o la merienda así que vamos a verla ingredientes que se necesitan para hacerlo una taza o 130 gramos de harina de trigo 4 huevos dos tercios de taza o 130 gramos de azúcar dos tercios de taza o 130 gramos de margarina Tulipán una tableta de 100 gramos de chocolate negro media cucharadita o 3,5 g de levadura química también conocida como polvos para hornear una pizca de sal y opcional 50 gramos de chocolate o chocolate troceado lo primero que voy a hacer es poner el horno precalentado a 160 grados centígrados para hacer el bizcocho voy a utilizar este molde redondo 18 cm de diámetro y para que sea más fácil desmoldarlo le he puesto en el fondo un papel para hornear y por las paredes un poco de margarina y harina de trigo continuación se pone la levadura junto a la harina de trigo mezclan y se tamiza ahora es el turno de derretir el chocolate se puede hacer el baño maría o en el microondas intervalos de 30 segundos cómo voy a hacer yo entre cada intervalo se saca se mueve un poco esto se hace para que no se queme y se volvió a meter de nuevo ya está completamente derretido así que voy a seguir con la receta en este recipiente puesto el azúcar junto a la margarina Tulipán que con su textura suave después el bizcocho quedarán más esponjoso ahora paso a ti los hasta que el azúcar se disuelva todo como utilizamos tulipán será fácil de mezclar después de unos minutos tendremos una mezcla cremosa como está así que el momento de añadir los huevos de uno no integrarlos en la mezclada que me enseñará el chocolate fundido la pizca de sal y la harina de trigo que se va integrando poco a poco sin dejar de batir último chocolate frutos secos que más os gusten y la mezcla está lista se vierte en el molde se hizo un poco la superficie y meterlo en el horno el cual dejaré con calor por arriba y por abajo a 160 grados centígrados han pasado 50 minutos y voy a comprobar si el bizcocho ya está listo con ayuda de un pinchito vemos cómo está el limpio así que lo voy a dejar reposar sobre una rejilla durante unos minutos por completo sobre la rejilla aunque si ahora te quedará genial si os ha gustado ya sabéis dando me gusta déjame los comentarios pues aparecido y no olvidéis compartir el bizcocho con vuestro amigo que seguro que le alegra la vida que le lleve y un trocito de esa maravilla un besito y hasta 200 recetas adiós\n",
      "MoviePy - Writing audio in recetasvideos/receta33.wav\n"
     ]
    },
    {
     "name": "stderr",
     "output_type": "stream",
     "text": [
      "                                                                      \r"
     ]
    },
    {
     "name": "stdout",
     "output_type": "stream",
     "text": [
      "MoviePy - Done.\n",
      "Titulo:Galletas Chocolate Chip Cookies súper deliciosas!!\n",
      "Autor:Cocina Para Todos\n",
      "Fecha Publicacion:2016-02-01 00:00:00\n",
      "Entradilla:hola soy Miriam venido cocina para todos hoy tengo una noticia muy importante quedar hoy y es que tonto no tonto tonto ton muchísimas gracias a todos sois los mejores de azúcar un cuarto de taza o 55 g de mantequilla un huevo un cuarto de taza o 30 g de cacao en polvo aunque si no tenéis podéis utilizar cacao soluble 70 chocolate en mi caso es negro tres cuartos de taza o 120 gramos de chips de chocolate aunque también puede utilizar chocolate troceado un cuarto de cucharadita de sal un cuarto de cucharadita de bicarbonato sódico o polvos para hornear y media cucharadita de esencia vainilla otra vez liado lo primero que voy a hacer es poner el horno precalentar a 165 grados centígrados a continuación he puesto la mantequilla y el chocolate juntos en el recipiente te he puesto el huevo y lo voy a ir el azúcar con una batidora de varillas lo lleva tilde muy bien hasta que blanquee es el resultado después de unos 3 minutos aproximadamente y ya le voy a incorporar la mezcla de chocolate y mantequilla se mezcla también se le añade la mezcla de harina y cacao y se mezcla ligeramente por último se le añade los chips de chocolate se integran en la mezcla y ya se pueden hacer las galletas en una bandeja del horno con un papel para hornear así que voy a coger masa con ayuda de una cuchara y como ayudaste escuchar a la voy a poner en el papel para hornear hay que tener en cuenta que hay que dejar bastante espacio alrededor para que nos tengan unas con otras para meterlas en el horno en total me han salido 12 y ya voy a dejar que serán en el horno blanco con calor por arriba y por abajo a 165 grados centígrados después de 13 minutos la galleta y hacer lista así que voy a sacarla y las voy a dejar enfriar sobre una ya está enfriado y mira lo blandita que han quedado que pinta dios mío la voy a probar ya mismo por Dios qué cosa más buena está galleta sí que se merece los premios vlogger y nadie de lo buena que está se lo merece por Dios hacer la Cova ha encantado vale ahora seguro\n",
      "MoviePy - Writing audio in recetasvideos/receta34.wav\n"
     ]
    },
    {
     "name": "stderr",
     "output_type": "stream",
     "text": [
      "                                                                      \r"
     ]
    },
    {
     "name": "stdout",
     "output_type": "stream",
     "text": [
      "MoviePy - Done.\n",
      "No se ha podido transcribir el video: receta34 - Galletas Cookies de Chocolate y Nueces\n",
      "MoviePy - Writing audio in recetasvideos/receta34.wav\n"
     ]
    },
    {
     "name": "stderr",
     "output_type": "stream",
     "text": [
      "                                                                      \r"
     ]
    },
    {
     "name": "stdout",
     "output_type": "stream",
     "text": [
      "MoviePy - Done.\n",
      "No se ha podido transcribir el video: receta34 - Coulant a los 4 Chocolates | Volcán de Chocolate\n",
      "MoviePy - Writing audio in recetasvideos/receta34.wav\n"
     ]
    },
    {
     "name": "stderr",
     "output_type": "stream",
     "text": [
      "                                                                      \r"
     ]
    },
    {
     "name": "stdout",
     "output_type": "stream",
     "text": [
      "MoviePy - Done.\n",
      "Titulo:Rollitos de Nutella y Canela | Nutella French Toast Rolls\n",
      "Autor:Cocina Para Todos\n",
      "Fecha Publicacion:2015-03-28 00:00:00\n",
      "Entradilla:hola soy medio me digas la cocina para todos Hoy vamos a hacer churros rellenos o rollitos de nutella y para hacerlo vamos a necesitar los siguientes ingredientes una rebanada de pan de molde por Caballito en mi caso son seis a las que le he quitado los bordes una cucharadita de crema de cacao y avellanas cómo puede ser Nutella para cada rollito un huevo un chorrito de leche para freírlo cómo se utilizar un poquito de aceite o mantequilla y para rebozarlos azúcar y canela al gusto en mi caso es una cucharadita lo primero que vamos a hacer es prensar el pan de molde yo lo voy a hacer con un rodillo pero podéis hacerlo con un vaso o con la mano y ahora vamos a pasar el tender una cucharadita de crema de cacao y avellanas en cada pan de molde así en esta parte solo pasamos enrollarlo y el viernes con todos unas que tenemos todos los rollitos listos batimos el huevo y le añadimos el chorrito de leche y lo mezclamos una vez listo pasamos el rollito por la mezcla sacamos lo ponemos en un platito y vamos a hacer lo mismo con todos ponemos aceite en una sartén a fuego fuerte y esperando que se caliente caliente lo ponemos a fuego medio y vamos a poner todos los rollitos una del puesto vamos a esperar a que se doren una vez que esté en dorado pero esa cara vamos a ir quitándonos y durando no por otros lados y no ves que estén dorados por todas las caras apagamos el fuego lo sacamos ahora vamos a pasar a mezclar el azúcar con la canela y pasamos los rollitos por la mezcla por los lados y por aquí y así haremos con todos y ya tenemos listo nuestro rollitos cómo podéis ver son muy fáciles rápidos y tienen una pinta estupenda así que voy a pasar a probarlo te gusta hostal recetas nos diréis verdad no me gusta suscribiros a mi canal si no había hecho y te creo en mis redes sociales que la tenéis ahora descripción un besito nos vemos en la siguiente receta y voy a probar el rollito\n",
      "MoviePy - Writing audio in recetasvideos/receta35.wav\n"
     ]
    },
    {
     "name": "stderr",
     "output_type": "stream",
     "text": [
      "                                                                      \r"
     ]
    },
    {
     "name": "stdout",
     "output_type": "stream",
     "text": [
      "MoviePy - Done.\n",
      "No se ha podido transcribir el video: receta35 - Arroz tres delicias chino\n"
     ]
    }
   ],
   "source": [
    "#y si tambien vemos si le permitimos al usuario que meta videos?\n",
    "dep=Depurador()\n",
    "if __name__ == '__main__':\n",
    "    #dep.video('https://www.youtube.com/watch?v=6PzQY1E2s2g&list=PLxHmjpcgU5ArC2rY5cpoIcZoVKB_0UHfR&ab_channel=PlatosF%C3%A1cilesconTamara')\n",
    "    #dep.video('https://www.youtube.com/watch?v=PsqR5M8rdjA&list=LL&index=9&t=4s')\n",
    "    #dep.video('https://www.youtube.com/watch?v=xfYcM_jHgPY')\n",
    "    #dep.video('https://www.youtube.com/watch?v=wiCfqc5W-yo')\n",
    "    #error_nuevo#dep.video('https://www.youtube.com/watch?v=3DnPkf9rP_0')\n",
    "    #error_nuevo#dep.video('https://www.youtube.com/watch?v=xVsgKMZFCZY')\n",
    "    #dep.video('https://www.youtube.com/watch?v=rpCe0RPMY94')\n",
    "    #dep.video('https://www.youtube.com/watch?v=rv4gLMa-FYk')\n",
    "    #dep.video('https://www.youtube.com/watch?v=VS8zYxBj4r8')\n",
    "    #dep.video('https://www.youtube.com/watch?v=o99JXrEkZoo')\n",
    "    #dep.video('https://www.youtube.com/watch?v=lKkg5L23b3M')\n",
    "    #dep.video('https://www.youtube.com/watch?v=PsqR5M8rdjA&t=14s')\n",
    "    #dep.video('https://www.youtube.com/watch?v=IvZaAL6qYe0&t=29s')\n",
    "    #dep.video('https://www.youtube.com/watch?v=SIMQBuuyE9M')\n",
    "    #dep.video('https://www.youtube.com/watch?v=_YoZfg7R8Hk')\n",
    "    #dep.video('https://www.youtube.com/watch?v=Zv7KdlOBk7Y')\n",
    "    #dep.video('https://www.youtube.com/watch?v=mFcN4btaZyI&t=2s')\n",
    "    #dep.video('https://www.youtube.com/watch?v=sRmmQBBln9Q')\n",
    "    #dep.video('https://www.youtube.com/watch?v=-QoTJJJfeEE')\n",
    "    #dep.video('https://www.youtube.com/watch?v=JRY5obPKPzo&list=PLxHmjpcgU5ArC2rY5cpoIcZoVKB_0UHfR&index=5&ab_channel=PlatosF%C3%A1cilesconTamara')\n",
    "    #dep.video('https://www.youtube.com/watch?v=stFmx7OCy1k&ab_channel=RecetasdeEsbieta')\n",
    "    #error_videomuylargo#dep.video(\"https://www.youtube.com/watch?v=qqTqePGIjhc\")\n",
    "    #Lista sin descargar haciendo pruebas\n",
    "    dep.lista(\"https://www.youtube.com/playlist?list=PL5lLFKePklpDiUHO2U1wvxH2ES2FKH8ks\")\n",
    "    "
   ]
  },
  {
   "cell_type": "code",
   "execution_count": null,
   "id": "48fa6324-8c7a-45e0-b7ee-10be195a7f7c",
   "metadata": {},
   "outputs": [],
   "source": []
  }
 ],
 "metadata": {
  "kernelspec": {
   "display_name": "Python 3 (ipykernel)",
   "language": "python",
   "name": "python3"
  },
  "language_info": {
   "codemirror_mode": {
    "name": "ipython",
    "version": 3
   },
   "file_extension": ".py",
   "mimetype": "text/x-python",
   "name": "python",
   "nbconvert_exporter": "python",
   "pygments_lexer": "ipython3",
   "version": "3.9.12"
  }
 },
 "nbformat": 4,
 "nbformat_minor": 5
}
