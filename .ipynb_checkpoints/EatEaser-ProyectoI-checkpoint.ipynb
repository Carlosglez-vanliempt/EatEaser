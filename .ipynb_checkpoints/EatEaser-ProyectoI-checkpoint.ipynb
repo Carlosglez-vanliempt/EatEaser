{
 "cells": [
  {
   "cell_type": "markdown",
   "id": "f8318545",
   "metadata": {},
   "source": [
    "<div style='width=100%; display:flex;flex-direction:row'><img  src=https://universidadeuropea.com/resources/media/images/universidad-europea-logo_poc9mEM.original.png width=100  style='  margin-left: auto;margin-right: auto; width: 25%; height:25%;'><img  src=https://i.ibb.co/1068C7j/EATEASER.jpg width=100 style='  margin-left: auto;margin-right: auto; width: 10%;height:25%;'></div>"
   ]
  },
  {
   "cell_type": "markdown",
   "id": "03ee9dce",
   "metadata": {},
   "source": [
    "<div style='margin:auto;text-align: center;font-family: \"Times New Roman\", Times, serif; font-weight: bold;'>PROYECTO COMUTACIONAL<br><br>EATEASER - VOZ A TEXTO</div>"
   ]
  },
  {
   "cell_type": "markdown",
   "id": "c329ef59",
   "metadata": {},
   "source": [
    "<div style='width:100%; display:flex;flex-direction:row'>\n",
    "    <div style='width:50%;margin-right:5cm;'>\n",
    "        <p style='font-family: \"Times New Roman\", Times, serif; font-weight: bold;'>ESTUDIANTES</p>\n",
    "<ul style='font-family: \"Times New Roman\", Times, serif;'>\n",
    "    <li>Adilem Dobras 21911633</li><li>Roberto Echevarria 21823680</li><li>Carlos Gonzales 22067726</li><li>Juan Carlos Rondeau 21816176</li></ul> </div>\n",
    "\n",
    "</div>"
   ]
  },
  {
   "cell_type": "markdown",
   "id": "fb3dfd23",
   "metadata": {},
   "source": [
    "<h2 style=\"font-size: 19px;color:#6DA0FF;font-family:Georgia, Times, 'Times New Roman', serif;letter-spacing: 3px;font-weight: normal\">1. Importamos las librerias</h2>"
   ]
  },
  {
   "cell_type": "code",
   "execution_count": null,
   "id": "6c95a30f-b9b3-420e-b095-bc255ba15e7c",
   "metadata": {},
   "outputs": [],
   "source": [
    "\"\"\"\n",
    "!pip install pytube\n",
    "!pip install SpeechRecognition\n",
    "!pip install pydub\n",
    "!pip install moviepy\n",
    "!pip install beautifulsoup4\n",
    "\"\"\""
   ]
  },
  {
   "cell_type": "code",
   "execution_count": 2,
   "id": "d5e13fba",
   "metadata": {},
   "outputs": [],
   "source": [
    "from pytube import YouTube\n",
    "import speech_recognition as sr\n",
    "from pydub import AudioSegment\n",
    "import moviepy.editor as mp\n",
    "from bs4 import BeautifulSoup\n",
    "import glob\n",
    "import os\n",
    "from nltk.stem import PorterStemmer\n",
    "from nltk.tokenize import word_tokenize\n",
    "import requests"
   ]
  },
  {
   "cell_type": "markdown",
   "id": "c1bce916",
   "metadata": {},
   "source": [
    "<h2 style=\"font-size: 19px;color:#6DA0FF;font-family:Georgia, Times, 'Times New Roman', serif;letter-spacing: 3px;font-weight: normal\">2. Inicio del programa</h2>"
   ]
  },
  {
   "cell_type": "code",
   "execution_count": 3,
   "id": "5bb88615",
   "metadata": {},
   "outputs": [],
   "source": [
    "\n",
    "class ControladorVideo:\n",
    "    def __init__(self): \n",
    "        self._idvideo = 0\n",
    "        self.rutavideo=''\n",
    "    \"\"\"|DESCARGAR VIDEO URL: descarga el video de youtube\n",
    "       |enlace: es un string que contiene el enlace de youtube\n",
    "       |return: devuelve una ruta absoluta con\"\"\"\n",
    "    def descargarVideoURL(self,enlace):\n",
    "        #buscamos el enlace->aqui se debe añadir un try catch\n",
    "        yt=YouTube(enlace)\n",
    "        #aqui creo un nuevo id para el nuevo video\n",
    "        self._idvideo= self._idvideo+1\n",
    "        #esta sera el archivo del video y su nuevo nombre\n",
    "        archivo='recetasvideos/'\n",
    "        nombre='receta'+str(self._idvideo)\n",
    "        #le pedimos al pytube que solo nos descargue el audio y lo descargamos\n",
    "        t=yt.streams.filter(file_extension='mp4').first().download(output_path=archivo,filename=nombre+'.mp4')\n",
    "        #devolvemos la ruta\n",
    "        return archivo+nombre\n",
    "    \"\"\"|PARSEO VIDEO: pasa el video de .mp4 a .wav\n",
    "       |ruta: es un string que se colocara la ruta absoluta\n",
    "       |return: devuelve la nueva ruta .wav\"\"\"\n",
    "    def parseoVideo2(self,ruta):\n",
    "        #tomamos el video en mp4\n",
    "        track = AudioSegment.from_file(ruta+'.mp4',  format= 'mp4')\n",
    "        #cambiamos el video a .wav\n",
    "        file_handle = track.export(ruta+'.wav', format='wav')\n",
    "        #eliminamos el mp4\n",
    "        os.remove(ruta+'.mp4')\n",
    "        return ruta+'.wav'\n",
    "    def parseoVideo(self,ruta):\n",
    "        #tomamos el video en mp4 \n",
    "        track = mp.VideoFileClip(ruta+'.mp4')\n",
    "        #track = AudioSegment.from_file(ruta+'.mp4',  format= 'mp4')\n",
    "        #cambiamos el video a .wav\n",
    "        #Lo escribimos como audio y `.mp3`\n",
    "        nombre_wav=\"{}.wav\".format(ruta)\n",
    "        track.audio.write_audiofile(nombre_wav)\n",
    "        #file_handle = track.export(ruta+'.wav', format='wav')\n",
    "        #eliminamos el mp4\n",
    "        #os.remove(ruta+'.mp4')\n",
    "        return ruta+'.wav'\n",
    "    def guardarVideos(self,enlace):\n",
    "        rec=RecursosAdicionales()\n",
    "        self.rutavideo=self.descargarVideoURL(enlace)\n",
    "        return self.parseoVideo(self.rutavideo)\n",
    "        \n",
    "        "
   ]
  },
  {
   "cell_type": "markdown",
   "id": "d3b297ab",
   "metadata": {},
   "source": [
    "<h3  style='font-family: \"Times New Roman\", Times, serif; font-weight: bold;text-align:center;font-size:14px'>CLASE DEPURADOR</h3><p style='font-family: \"Times New Roman\", Times, serif; font-size:14px'>En esta clase se realizará el proceso de extraccion, transformacion y carga de nuestro programa EATEASER.</p>\n"
   ]
  },
  {
   "cell_type": "code",
   "execution_count": 8,
   "id": "7d0598a3",
   "metadata": {},
   "outputs": [],
   "source": [
    "#si el video es mayor de 3 minutos no funciona\n",
    "#si el video es en ingles no funciona\n",
    "class Depurador:\n",
    "    def __init__(self): \n",
    "        self.cv=ControladorVideo()\n",
    "        self.rec=RecursosAdicionales()\n",
    "    \"\"\"|VIDEO_TEXTO: extraemos al informacion del video \n",
    "       |ruta: es un string que se colocara la ruta absoluta\n",
    "       |return: devuelve el audio en texto\"\"\"\n",
    "    def extraccion(self,enlace):\n",
    "        ruta=self.cv.guardarVideos(enlace)\n",
    "        #instanciamos el recognizer\n",
    "        r = sr.Recognizer()\n",
    "        audio = sr.AudioFile(ruta)\n",
    "        with audio as source:\n",
    "            audio_file = r.record(source)\n",
    "        #transcribimos el audio a texto\n",
    "        result = r.recognize_google(audio_file, language = 'es-ES')\n",
    "        #aqui hay que eliminar el .wav\n",
    "        resultado=self.rec.escritura(self.cv.rutavideo,result)\n",
    "        self.rec.eliminacionMp4()\n",
    "        return resultado     \n",
    "    def transformacion(self):\n",
    "        print()\n",
    "    def carga(self):\n",
    "        print()"
   ]
  },
  {
   "cell_type": "code",
   "execution_count": 5,
   "id": "c910592f",
   "metadata": {},
   "outputs": [],
   "source": [
    "#aqui iran lecturas-escrituras-guardar-eliminar cosas en bases de datos\n",
    "class RecursosAdicionales:\n",
    "    \"\"\"|ESCRITURA: escribe textos txt\n",
    "       |nombre: nombre del \n",
    "       |return: devuelve el audio en texto\"\"\"\n",
    "    def escritura(self,nombre,texto):\n",
    "        f = open(nombre+'.txt', 'w')\n",
    "        f.write(texto)\n",
    "        f = open(nombre+'.txt', \"r\")\n",
    "        print(f.read())\n",
    "        f.close()\n",
    "    def eliminacionMp4(self):\n",
    "        ruta ='./recetasvideos/'\n",
    "        py_files = glob.glob('./recetasvideos/*.mp4')\n",
    "        for py_file in py_files:\n",
    "            try:\n",
    "                os.remove(py_file)\n",
    "            except OSError as e:\n",
    "                print(f\"Error:{ e.strerror}\")     \n",
    "   \n",
    "        "
   ]
  },
  {
   "cell_type": "code",
   "execution_count": 6,
   "id": "e747077e",
   "metadata": {},
   "outputs": [],
   "source": [
    "class WebScrap:\n",
    "    def __init__(self): \n",
    "        self.headers = {'User-Agent': 'Mozilla/5.0 (Macintosh; Intel Mac OS X 10_10_1) AppleWebKit/537.36 (KHTML, like Gecko) Chrome/39.0.2171.95 Safari/537.36'}\n",
    "    def request(self, url):\n",
    "        request1 = requests.get(url, headers=self.headers)\n",
    "        html = request1.content\n",
    "        soup = BeautifulSoup(html, 'html.parser')\n",
    "        return soup\n",
    "    def verificar_alimento(self,alimento):\n",
    "        soup = self.request( 'https://www.themealdb.com/api/json/v1/1/search.php?s='+alimento)\n",
    "        print(soup)\n",
    "        "
   ]
  },
  {
   "cell_type": "markdown",
   "id": "f517c7a4",
   "metadata": {},
   "source": [
    "<h2 style=\"font-size: 19px;color:#6DA0FF;font-family:Georgia, Times, 'Times New Roman', serif;letter-spacing: 3px;font-weight: normal\">3. Main</h2>"
   ]
  },
  {
   "cell_type": "code",
   "execution_count": 9,
   "id": "f92c5289",
   "metadata": {},
   "outputs": [
    {
     "name": "stdout",
     "output_type": "stream",
     "text": [
      "MoviePy - Writing audio in recetasvideos/receta1.wav\n"
     ]
    },
    {
     "name": "stderr",
     "output_type": "stream",
     "text": [
      "                                                                      \r"
     ]
    },
    {
     "name": "stdout",
     "output_type": "stream",
     "text": [
      "MoviePy - Done.\n",
      "hola a todos y bienvenidos a cocina con Carmen hoy vamos a hacer una deliciosa sopa de cebolla que es súper fácil y rápida de hacer y además es genial para que el cuerpo entre en calor así que si queréis hacer la os dejo los ingredientes abajo en la descripción y al final del vídeo y vamos a comenzar para hacer la sopa de cebolla usaré como ingrediente principal un litro de este caldo de pollo Aneto que está riquísimo yo fui hace poco a su fábrica y la única diferencia que hay con los caldos que hacemos en casa son las ollas que nosotros utilizamos unas ollas pequeñas y ellos utilizan unas ollas que caben unos 3 ml quiero recordar seguido también vamos a necesitar medio kilo de cebolla que si son dulces mucho mejor comenzaremos cortando las por la mitad y cada mitad las cortaremos y Juliana cuando hayamos cortado todas ya podremos comenzar a hacer la sopa de cebolla así que en una cacerola a fuego medio añadiremos dos cucharadas t-killa y una vez que se haya derretido y esté caliente añadiremos las cebollas cortadas se mezcla y las moveremos con frecuencia hasta que estén un poco hechas a continuación añadiremos un poco de sal y pimienta al gusto y la seguiremos moviendo de vez en cuando hace que estén sofritas tras esto subimos la placa fuego medio-alto y añadimos el litro de caldo de pollo Aneto también probé hacer esta misma sopa con el caldo Aneto de Navidad y de Anda forma quedó riquísimas así que os ánimo a probar estos caldo porque es que son espectaculares se mezcla y vamos a esperar a que comience a hervir ahora lo volvemos a bajar a fuego medio y dejaremos que se haga durante unos 5 minutos con una tapa puesta pasado este tiempo la sopa de cebolla ya está preparada y la podemos retirar la dividir recipientes aptos para hornos y en cada recipiente también pondremos una rebanada de pan tostado y un poco de queso mozarella se colocan en una bandeja de horno y ya van para dentro se coloca la bandeja en la parte del medio del horno y dejaremos que el queso se funda a unos 230 grados centígrados o unos 450 grados Fahrenheit después de unos 15 minutos o cuando el queso se haya gratinado ya no podemos sacar por último le podemos poner un poco de hierbabuena que es muy típica en la gastronomía andaluza y mira qué bien queda además de apetecible os aseguro que estás riquísima rica rica de verdad aunque utilizando el caldo Aneto era difícil que por cierto desde aquí me gustaría animar a los supermercados el jamón para que pongan el caldo Aneto en sus estanterías de Chiclana y de Cádiz es una pena que con lo bueno que estás no lo tengan porque la verdad es el único que me recuerda a un caldo casero y ya sabéis si os ha gustado está receta os invito a que le deis a Me Gusta suscribirse a nuestros canales si aún no lo habéis hecho por aquí o voy a dejar más receta de sopa que están todas riquísimas y como riquísimas son las recetas de nuestro libro Cocina con Carmen que tiene una receta que son unas delicias un besito y hasta el próximo vídeo\n",
      "Error:El proceso no tiene acceso al archivo porque está siendo utilizado por otro proceso\n",
      "MoviePy - Writing audio in recetasvideos/receta2.wav\n"
     ]
    },
    {
     "name": "stderr",
     "output_type": "stream",
     "text": [
      "                                                                      \r"
     ]
    },
    {
     "name": "stdout",
     "output_type": "stream",
     "text": [
      "MoviePy - Done.\n",
      "hola a todos y bienvenidos a avena y aguacate este mes os voy a traer todas las semanas recetas vegetarianas riquísimas saludables económicas y muy fáciles de preparar perfectas para el lunes en carne hoy os traigo mi receta de risotto de setas con arroz integral cremoso buenísimo y encantará a toda la familia para esta receta vamos a usar arroz redondo integral que he dejado toda la noche en remojo para reducir el tiempo de cocción los tradicionales utilizan arroz arborio o carnaroli pero yo prefiero usar arroz integral porque conserva toda su fibra y todos sus nutrientes empezamos calentando aceite de oliva en una cazuela a fuego medio-alto y salteamos medio kg de setas la mía puedes elegir tu setas favoritas es una receta muy versátil en cuanto estén tiernas las retiramos junto con su jugo y reservamos añadimos un poco más de aceite a la cazuela y doramos una cebolla picada incorporamos 200g de arroz removemos unos segundos para que se impregne de los sabores y vertemos un chorrito de vino blanco si prefieres mañana ir al cole no pasa nada salta directamente al siguiente paso esperamos a que se evapore el alcohol y se haya absorbido prácticamente todo el líquido y vamos añadiendo el caldo de verduras cazo acaso removiendo muy a menudo no añadiremos más caldo hasta que se haya absorbido todo el anterior el tiempo de cocción y la cantidad de caldo que terminemos usando va a depender del tipo de arroz pero vamos a intentar dejar valiente la casa os va de lujo apartamos la cazuela del fuego y añadimos las setas reservadas con su cubo un par de nueces de mantequilla y unos 25 g de parmesano rallado de verdad es que no puedo ver cosa más rica que la cremoso delicioso alucinante podéis servirlo de inmediato o congelarlo espero que probéis a preparar la receta y si lo hacéis subido una foto a Instagram y mencionarme porque ya sabéis que me encanta ver vuestras versiones y si aún no lo habéis hecho seguirme en Instagram arroba avena y aguacate porque durante este mes estaré publicando en stories todos los días una nueva receta de batido de fruta o verdura saludables y no os olvidéis de pulsar el botón suscribirse porque os esperan un montón de recetas riquísimas cómo estás hasta el próximo vídeo pues no había grabado así que repetir bueno el tiempo de estoy grabando si vale vale espero que\n",
      "Error:El proceso no tiene acceso al archivo porque está siendo utilizado por otro proceso\n"
     ]
    }
   ],
   "source": [
    "dep=Depurador()\n",
    "if __name__ == '__main__':\n",
    "    dep.extraccion('https://www.youtube.com/watch?v=DnamuF14sJ0')\n",
    "    dep.extraccion('https://www.youtube.com/watch?v=PsqR5M8rdjA&list=LL&index=9&t=4s')"
   ]
  },
  {
   "cell_type": "code",
   "execution_count": null,
   "id": "08f9cf8c",
   "metadata": {},
   "outputs": [],
   "source": [
    "#hace falta categorizar, llevar a una carpeta "
   ]
  },
  {
   "cell_type": "code",
   "execution_count": null,
   "id": "f287f0a9",
   "metadata": {},
   "outputs": [],
   "source": []
  }
 ],
 "metadata": {
  "kernelspec": {
   "display_name": "Python 3 (ipykernel)",
   "language": "python",
   "name": "python3"
  },
  "language_info": {
   "codemirror_mode": {
    "name": "ipython",
    "version": 3
   },
   "file_extension": ".py",
   "mimetype": "text/x-python",
   "name": "python",
   "nbconvert_exporter": "python",
   "pygments_lexer": "ipython3",
   "version": "3.9.12"
  }
 },
 "nbformat": 4,
 "nbformat_minor": 5
}
