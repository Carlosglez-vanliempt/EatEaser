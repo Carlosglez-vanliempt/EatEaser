{
 "cells": [
  {
   "cell_type": "markdown",
   "id": "695c3bb9",
   "metadata": {},
   "source": [
    "<div style='width=100%; display:flex;flex-direction:row'><img  src=https://universidadeuropea.com/resources/media/images/universidad-europea-logo_poc9mEM.original.png width=100  style='  margin-left: auto;margin-right: auto; width: 25%; height:25%;'><img  src=https://i.ibb.co/1068C7j/EATEASER.jpg width=100 style='  margin-left: auto;margin-right: auto; width: 10%;height:25%;'></div>"
   ]
  },
  {
   "cell_type": "markdown",
   "id": "29164d65",
   "metadata": {},
   "source": [
    "<div style='margin:auto;text-align: center;font-family: \"Times New Roman\", Times, serif; font-weight: bold;'>PROYECTO COMUTACIONAL<br><br>EATEASER - VOZ A TEXTO</div>"
   ]
  },
  {
   "cell_type": "markdown",
   "id": "7f4aa2ba",
   "metadata": {},
   "source": [
    "<div style='width:100%; display:flex;flex-direction:row'>\n",
    "    <div style='width:50%;margin-right:5cm;'>\n",
    "        <p style='font-family: \"Times New Roman\", Times, serif; font-weight: bold;'>ESTUDIANTES</p>\n",
    "<ul style='font-family: \"Times New Roman\", Times, serif;'>\n",
    "    <li>Adilem Dobras 21911633</li><li>Roberto Echevarria 21823680</li><li>Carlos Gonzales 22067726</li><li>Juan Carlos Rondeau 21816176</li></ul> </div>\n",
    "\n",
    "</div>"
   ]
  },
  {
   "cell_type": "markdown",
   "id": "69000c99",
   "metadata": {},
   "source": [
    "<h2 style=\"font-size: 19px;color:#6DA0FF;font-family:Georgia, Times, 'Times New Roman', serif;letter-spacing: 3px;font-weight: normal\">1. Importamos las librerias</h2>"
   ]
  },
  {
   "cell_type": "code",
   "execution_count": 1,
   "id": "76b49447",
   "metadata": {},
   "outputs": [
    {
     "name": "stdout",
     "output_type": "stream",
     "text": [
      "Requirement already satisfied: pytube in c:\\users\\pitu\\appdata\\local\\programs\\python\\python310\\lib\\site-packages (12.1.0)\n"
     ]
    },
    {
     "name": "stderr",
     "output_type": "stream",
     "text": [
      "\n",
      "[notice] A new release of pip available: 22.3 -> 22.3.1\n",
      "[notice] To update, run: python.exe -m pip install --upgrade pip\n"
     ]
    },
    {
     "name": "stdout",
     "output_type": "stream",
     "text": [
      "Requirement already satisfied: SpeechRecognition in c:\\users\\pitu\\appdata\\local\\programs\\python\\python310\\lib\\site-packages (3.8.1)\n"
     ]
    },
    {
     "name": "stderr",
     "output_type": "stream",
     "text": [
      "\n",
      "[notice] A new release of pip available: 22.3 -> 22.3.1\n",
      "[notice] To update, run: python.exe -m pip install --upgrade pip\n"
     ]
    },
    {
     "name": "stdout",
     "output_type": "stream",
     "text": [
      "Requirement already satisfied: pydub in c:\\users\\pitu\\appdata\\local\\programs\\python\\python310\\lib\\site-packages (0.25.1)\n"
     ]
    },
    {
     "name": "stderr",
     "output_type": "stream",
     "text": [
      "\n",
      "[notice] A new release of pip available: 22.3 -> 22.3.1\n",
      "[notice] To update, run: python.exe -m pip install --upgrade pip\n"
     ]
    },
    {
     "name": "stdout",
     "output_type": "stream",
     "text": [
      "Requirement already satisfied: moviepy in c:\\users\\pitu\\appdata\\local\\programs\\python\\python310\\lib\\site-packages (1.0.3)\n",
      "Requirement already satisfied: decorator<5.0,>=4.0.2 in c:\\users\\pitu\\appdata\\local\\programs\\python\\python310\\lib\\site-packages (from moviepy) (4.4.2)\n",
      "Requirement already satisfied: tqdm<5.0,>=4.11.2 in c:\\users\\pitu\\appdata\\local\\programs\\python\\python310\\lib\\site-packages (from moviepy) (4.64.0)\n",
      "Requirement already satisfied: requests<3.0,>=2.8.1 in c:\\users\\pitu\\appdata\\local\\programs\\python\\python310\\lib\\site-packages (from moviepy) (2.28.1)\n",
      "Requirement already satisfied: proglog<=1.0.0 in c:\\users\\pitu\\appdata\\local\\programs\\python\\python310\\lib\\site-packages (from moviepy) (0.1.9)\n",
      "Requirement already satisfied: numpy>=1.17.3 in c:\\users\\pitu\\appdata\\local\\programs\\python\\python310\\lib\\site-packages (from moviepy) (1.22.3)\n",
      "Requirement already satisfied: imageio<3.0,>=2.5 in c:\\users\\pitu\\appdata\\local\\programs\\python\\python310\\lib\\site-packages (from moviepy) (2.18.0)\n",
      "Requirement already satisfied: imageio_ffmpeg>=0.2.0 in c:\\users\\pitu\\appdata\\local\\programs\\python\\python310\\lib\\site-packages (from moviepy) (0.4.7)\n",
      "Requirement already satisfied: pillow>=8.3.2 in c:\\users\\pitu\\appdata\\local\\programs\\python\\python310\\lib\\site-packages (from imageio<3.0,>=2.5->moviepy) (9.1.0)\n",
      "Requirement already satisfied: urllib3<1.27,>=1.21.1 in c:\\users\\pitu\\appdata\\local\\programs\\python\\python310\\lib\\site-packages (from requests<3.0,>=2.8.1->moviepy) (1.26.9)\n",
      "Requirement already satisfied: idna<4,>=2.5 in c:\\users\\pitu\\appdata\\local\\programs\\python\\python310\\lib\\site-packages (from requests<3.0,>=2.8.1->moviepy) (3.3)\n",
      "Requirement already satisfied: certifi>=2017.4.17 in c:\\users\\pitu\\appdata\\local\\programs\\python\\python310\\lib\\site-packages (from requests<3.0,>=2.8.1->moviepy) (2021.10.8)\n",
      "Requirement already satisfied: charset-normalizer<3,>=2 in c:\\users\\pitu\\appdata\\local\\programs\\python\\python310\\lib\\site-packages (from requests<3.0,>=2.8.1->moviepy) (2.0.12)\n",
      "Requirement already satisfied: colorama in c:\\users\\pitu\\appdata\\local\\programs\\python\\python310\\lib\\site-packages (from tqdm<5.0,>=4.11.2->moviepy) (0.4.4)\n"
     ]
    },
    {
     "name": "stderr",
     "output_type": "stream",
     "text": [
      "\n",
      "[notice] A new release of pip available: 22.3 -> 22.3.1\n",
      "[notice] To update, run: python.exe -m pip install --upgrade pip\n"
     ]
    },
    {
     "name": "stdout",
     "output_type": "stream",
     "text": [
      "Requirement already satisfied: beautifulsoup4 in c:\\users\\pitu\\appdata\\local\\programs\\python\\python310\\lib\\site-packages (4.11.1)\n",
      "Requirement already satisfied: soupsieve>1.2 in c:\\users\\pitu\\appdata\\local\\programs\\python\\python310\\lib\\site-packages (from beautifulsoup4) (2.3.2)\n"
     ]
    },
    {
     "name": "stderr",
     "output_type": "stream",
     "text": [
      "\n",
      "[notice] A new release of pip available: 22.3 -> 22.3.1\n",
      "[notice] To update, run: python.exe -m pip install --upgrade pip\n"
     ]
    },
    {
     "name": "stdout",
     "output_type": "stream",
     "text": [
      "Requirement already satisfied: nltk in c:\\users\\pitu\\appdata\\local\\programs\\python\\python310\\lib\\site-packages (3.7)\n",
      "Requirement already satisfied: tqdm in c:\\users\\pitu\\appdata\\local\\programs\\python\\python310\\lib\\site-packages (from nltk) (4.64.0)\n",
      "Requirement already satisfied: click in c:\\users\\pitu\\appdata\\local\\programs\\python\\python310\\lib\\site-packages (from nltk) (8.1.3)\n",
      "Requirement already satisfied: joblib in c:\\users\\pitu\\appdata\\local\\programs\\python\\python310\\lib\\site-packages (from nltk) (1.1.0)\n",
      "Requirement already satisfied: regex>=2021.8.3 in c:\\users\\pitu\\appdata\\local\\programs\\python\\python310\\lib\\site-packages (from nltk) (2022.10.31)\n",
      "Requirement already satisfied: colorama in c:\\users\\pitu\\appdata\\local\\programs\\python\\python310\\lib\\site-packages (from click->nltk) (0.4.4)\n"
     ]
    },
    {
     "name": "stderr",
     "output_type": "stream",
     "text": [
      "\n",
      "[notice] A new release of pip available: 22.3 -> 22.3.1\n",
      "[notice] To update, run: python.exe -m pip install --upgrade pip\n"
     ]
    }
   ],
   "source": [
    "\n",
    "!pip install pytube\n",
    "!pip install SpeechRecognition\n",
    "!pip install pydub\n",
    "!pip install moviepy\n",
    "!pip install beautifulsoup4\n",
    "!pip install nltk\n"
   ]
  },
  {
   "cell_type": "code",
   "execution_count": 2,
   "id": "c7f4d13d",
   "metadata": {},
   "outputs": [
    {
     "name": "stderr",
     "output_type": "stream",
     "text": [
      "C:\\Users\\pitu\\AppData\\Local\\Programs\\Python\\Python310\\lib\\site-packages\\pydub\\utils.py:170: RuntimeWarning: Couldn't find ffmpeg or avconv - defaulting to ffmpeg, but may not work\n",
      "  warn(\"Couldn't find ffmpeg or avconv - defaulting to ffmpeg, but may not work\", RuntimeWarning)\n"
     ]
    }
   ],
   "source": [
    "from pytube import YouTube\n",
    "import speech_recognition as sr\n",
    "from pydub import AudioSegment\n",
    "import moviepy.editor as mp\n",
    "from bs4 import BeautifulSoup\n",
    "import glob\n",
    "import os\n",
    "import re\n",
    "from os import listdir\n",
    "from nltk.stem import PorterStemmer\n",
    "from nltk.tokenize import word_tokenize\n",
    "import requests\n",
    "from pydub.silence import split_on_silence"
   ]
  },
  {
   "cell_type": "markdown",
   "id": "5fd71c0e",
   "metadata": {},
   "source": [
    "<h2 style=\"font-size: 19px;color:#6DA0FF;font-family:Georgia, Times, 'Times New Roman', serif;letter-spacing: 3px;font-weight: normal\">2. Inicio del programa</h2>"
   ]
  },
  {
   "cell_type": "markdown",
   "id": "c4027348",
   "metadata": {},
   "source": [
    "<h3  style='font-family: \"Times New Roman\", Times, serif; font-weight: bold;text-align:center;font-size:14px'>CLASE CONTROLADORVIDEO</h3><p style='font-family: \"Times New Roman\", Times, serif; font-size:14px'>En esta clase se realizará los ajustes para manejar el video recibido y manipularlo.</p>\n"
   ]
  },
  {
   "cell_type": "code",
   "execution_count": 3,
   "id": "89f61d50",
   "metadata": {},
   "outputs": [],
   "source": [
    "class ControladorVideo:\n",
    "    def __init__(self,enlace): \n",
    "        self._idvideo = 0\n",
    "        self.enlacevideo=enlace\n",
    "        self.yt=YouTube(self.enlacevideo)\n",
    "        self.nombrevideo=''\n",
    "        self.titulovideo=self.yt.title\n",
    "        self.autorvideo=self.yt.author\n",
    "        self.fechavideo=self.yt.publish_date\n",
    "        self.duracionvideo=self.yt.length\n",
    "    \"\"\"|DESCARGAR VIDEO URL: descarga el video de youtube\n",
    "       |return: devuelve una ruta absoluta\"\"\"\n",
    "    def descargarVideoURL(self):\n",
    "        recetasVideos = 'recetasvideos/'\n",
    "        #aqui creo un nuevo id para el nuevo video\n",
    "        self._idvideo= self._idvideo+1\n",
    "        #esta sera el archivo del video y su nuevo nombre\n",
    "        nombre='receta'+str(self._idvideo)\n",
    "        #le pedimos al pytube que solo nos descargue el audio y lo descargamos\n",
    "        t=self.yt.streams.filter(file_extension='mp4').first().download(output_path=recetasVideos,filename=nombre+'.mp4')\n",
    "        #devolvemos el nombre\n",
    "        return nombre\n",
    "    \"\"\"|PARSEO VIDEO: pasa el video de .mp4 a .wav\n",
    "       |nombre: es un string que se colocara el nombre del video\n",
    "       |return: devuelve el nuevo nombre del audio en .wav\"\"\"\n",
    "    def parseoVideo(self,nombre):\n",
    "        recetasVideos = 'recetasvideos/'\n",
    "        #tomamos el video en mp4 \n",
    "        track = mp.VideoFileClip(recetasVideos+nombre+'.mp4')\n",
    "        #cambiamos el video a .wav\n",
    "        nombre_wav=\"{}.wav\".format(nombre)\n",
    "        track.audio.write_audiofile(recetasVideos+nombre_wav)\n",
    "        track.close()\n",
    "        return nombre\n",
    "   # def reenumerar(): \"\"\" EN PROCESO, para leer el directorio y añadir receta n + 1 \"\"\"\n",
    "       # dir = []\n",
    "        #for archivo in listdir(\"./recetasvideos\"):\n",
    "        #    dir.append(archivo)\n",
    "        #print(dir)\n",
    "    \"\"\"|SPEECH TEXT:Transforma el audio a texto\n",
    "       |nombre: es un string que se colocara el nombre del video\n",
    "       |return: devuelve un string con el texto devuelto\"\"\"\n",
    "    def speech_text(self,nombre):\n",
    "        recetasVideos = 'recetasvideos/'\n",
    "        #instanciamos el recognizer\n",
    "        print(recetasVideos+nombre)\n",
    "        r = sr.Recognizer()\n",
    "        audio = sr.AudioFile(recetasVideos+nombre)\n",
    "        with audio as source:\n",
    "            audio_file = r.record(source)\n",
    "        #transcribimos el audio a texto\n",
    "        result = r.recognize_google(audio_file, language = 'es-ES')\n",
    "        return result\n",
    "            \n",
    "        \n",
    "        "
   ]
  },
  {
   "cell_type": "markdown",
   "id": "67382be4",
   "metadata": {
    "tags": []
   },
   "source": [
    "<h3  style='font-family: \"Times New Roman\", Times, serif; font-weight: bold;text-align:center;font-size:14px'>CLASE DEPURADOR</h3><p style='font-family: \"Times New Roman\", Times, serif; font-size:14px'>En esta clase se realizará el proceso de extraccion, transformacion y carga de nuestro programa EATEASER.</p>\n"
   ]
  },
  {
   "cell_type": "code",
   "execution_count": 4,
   "id": "13238607",
   "metadata": {},
   "outputs": [],
   "source": [
    "#si el video es mayor de 3 minutos no funciona\n",
    "#si el video es en ingles no funciona\n",
    "class Depurador:\n",
    "    def __init__(self): \n",
    "        self.rec=RecursosAdicionales()\n",
    "    \"\"\"|EXTRACCION: proceso etl donde extraemos al informacion del video \n",
    "       |enlace: es un string que se colocara el enlace del video\"\"\"\n",
    "    def extraccion(self,enlace):\n",
    "        #instanciamos el controlador de videos\n",
    "        cv=ControladorVideo(enlace)\n",
    "        #paso 1: descargamos el video\n",
    "        cv.nombrevideo=cv.descargarVideoURL()\n",
    "        #paso 2: pasamos el video a .wav\n",
    "        nombre=cv.parseoVideo(cv.nombrevideo)\n",
    "        #paso 3: pasamos el .wav a texto\n",
    "        num_segm=segcionarXsilencios(nombre)\n",
    "        result=\"\"\n",
    "        for i in range(num_segm):\n",
    "            result=result+str(cv.speech_text(\"../temp_audios/{}_extracto{}.wav\".format(nombre,i+1)))\n",
    "            result=result+\" \"\n",
    "        \n",
    "        #paso 4: escribimos el texto recibido en un txt\n",
    "        #print(\"Titulo:\"+cv.titulovideo+\"\\n\"+\"Autor:\"+cv.autorvideo+\"\\n\"+\"Fecha Publicacion:\"+str(cv.fechavideo)+\"\\n\"+\"Entradilla:\"+result)\n",
    "        resultado=self.rec.escritura(cv.nombrevideo,\"Titulo:\"+cv.titulovideo+\"\\n\"+\"Autor:\"+cv.autorvideo+\"\\n\"+\"Fecha Publicacion:\"+str(cv.fechavideo)+\"\\n\"+\"Entradilla:\"+result)\n",
    "        #paso 5: eliminamos los mp4\n",
    "        self.rec.eliminacionMp4()\n",
    "        return resultado     \n",
    "    def transformacion(self):\n",
    "        print()\n",
    "    def carga(self):\n",
    "        print()"
   ]
  },
  {
   "cell_type": "code",
   "execution_count": 5,
   "id": "e3a93da6",
   "metadata": {},
   "outputs": [],
   "source": [
    "#aqui iran lecturas-escrituras-guardar-eliminar cosas en bases de datos\n",
    "class RecursosAdicionales:\n",
    "    \"\"\"|ESCRITURA: escribe textos txt\n",
    "       |nombre: nombre del \n",
    "       |return: devuelve el audio en texto\"\"\"\n",
    "    #yo siento que en vez de cambiar de carpeta los textos...deberiamos eliminar los mp4\n",
    "    #y si lo mas factible aqui es que guardemos el video por su nombre?\n",
    "    #creo que no debemos contar los files porque cansan el programa\n",
    "    \n",
    "    def escritura(self,nombre,texto):\n",
    "        recetasTextos = 'recetastextos/'\n",
    "        if not(os.path.exists(recetasTextos)):\n",
    "            os.mkdir(recetasTextos)\n",
    "        f = open(recetasTextos+nombre+'.txt', 'w')\n",
    "        f.write(texto)\n",
    "        f = open(recetasTextos+nombre+'.txt', \"r\")\n",
    "        print(f.read())\n",
    "        f.close()\n",
    "    def eliminacionMp4(self):\n",
    "        recetasVideos = './recetasvideos/'\n",
    "        py_files = glob.glob(recetasVideos+'*.mp4')\n",
    "        for py_file in py_files:\n",
    "            try:\n",
    "                os.remove(py_file)\n",
    "            except OSError as e:\n",
    "                print(f\"Error:{ e.strerror}\")      \n",
    "        "
   ]
  },
  {
   "cell_type": "code",
   "execution_count": 6,
   "id": "d1b2bed2",
   "metadata": {},
   "outputs": [],
   "source": [
    "def segcionarXsilencios(audio):\n",
    "    import numpy as np\n",
    "    from pydub import AudioSegment as aseg\n",
    "\n",
    "    audio1=aseg.from_wav(\"./recetasvideos/\"+audio+\".wav\")\n",
    "    # this is an array\n",
    "    samples = audio1.get_array_of_samples()\n",
    "    segundo=88521\n",
    "    index=[]\n",
    "    for i in range(0,len(samples),int(segundo/5)):\n",
    "        dataSeg = samples[i:int(segundo/5)+i]\n",
    "        media=np.mean(dataSeg)\n",
    "        var=np.var(dataSeg)\n",
    "        if -10<=media<=10 and var<=1900:\n",
    "            index.append(i)\n",
    "    \n",
    "    for i in range(len(index)):\n",
    "        print(int(index[i])/88521)\n",
    "   \n",
    "    borrar=[]\n",
    "   \n",
    "   \n",
    "    guardado=0\n",
    "    for i in range(len(index)-1):\n",
    "        \n",
    "        \n",
    "        if index[i+1]<=index[i]+(20*segundo):\n",
    "            \n",
    "            if i==0:\n",
    "                tiempo=(index[i])/segundo\n",
    "            else:\n",
    "                tiempo=(index[i+1]-guardado)/segundo\n",
    "            \n",
    "            print(\"tiempo: \"+ str(tiempo))\n",
    "            \n",
    "            if tiempo<=120:\n",
    "                borrar.append(i)\n",
    "            else:\n",
    "                print(\"guardados: \" + str(index[i]/segundo))\n",
    "                guardado=index[i]\n",
    "                \n",
    "        else:\n",
    "            print(\"hola\")\n",
    "            guardado=index[i]\n",
    "            \n",
    "          \n",
    "            \n",
    "            \n",
    "    final=np.delete(index, borrar, axis=0) \n",
    "    print(\"------------------------------------------------\")\n",
    "    print(borrar)\n",
    "    print(\"------------------------------------------------\")\n",
    "    print(final)\n",
    "\n",
    "    extractos=[]\n",
    "    for i in range(len(final)):\n",
    "        if i==0:\n",
    "\n",
    "            extractos.append(samples[:final[i]])\n",
    "        else:\n",
    "            extractos.append(samples[final[i-1]:final[i]])\n",
    "    \n",
    "    for i in range(len(extractos)):\n",
    "        nombre=\"\"\n",
    "        new_sound = audio1._spawn(extractos[i])\n",
    "        nombre=\"temp_audios/{}_extracto{}.wav\".format(audio,i+1)\n",
    "        new_sound.export(nombre,format=\"wav\")\n",
    "    return len(final)\n",
    "    "
   ]
  },
  {
   "cell_type": "code",
   "execution_count": null,
   "id": "a6827d7b",
   "metadata": {},
   "outputs": [],
   "source": []
  },
  {
   "cell_type": "code",
   "execution_count": 7,
   "id": "cc3dd275",
   "metadata": {},
   "outputs": [],
   "source": [
    "class WebScrap:\n",
    "    def __init__(self): \n",
    "        self.headers = {'User-Agent': 'Mozilla/5.0 (Macintosh; Intel Mac OS X 10_10_1) AppleWebKit/537.36 (KHTML, like Gecko) Chrome/39.0.2171.95 Safari/537.36'}\n",
    "    def request(self, url):\n",
    "        request1 = requests.get(url, headers=self.headers)\n",
    "        html = request1.content\n",
    "        soup = BeautifulSoup(html, 'html.parser')\n",
    "        return soup\n",
    "    def verificar_alimento(self,alimento):\n",
    "        soup = self.request( 'https://www.themealdb.com/api/json/v1/1/search.php?s='+alimento)\n",
    "        print(soup)\n",
    "        "
   ]
  },
  {
   "cell_type": "markdown",
   "id": "7bcc058f",
   "metadata": {},
   "source": [
    "<h2 style=\"font-size: 19px;color:#6DA0FF;font-family:Georgia, Times, 'Times New Roman', serif;letter-spacing: 3px;font-weight: normal\">3. Main</h2>"
   ]
  },
  {
   "cell_type": "code",
   "execution_count": 8,
   "id": "4e9003fd",
   "metadata": {},
   "outputs": [
    {
     "name": "stdout",
     "output_type": "stream",
     "text": [
      "MoviePy - Writing audio in recetasvideos/receta1.wav\n"
     ]
    },
    {
     "name": "stderr",
     "output_type": "stream",
     "text": [
      "                                                                                                                       \r"
     ]
    },
    {
     "name": "stdout",
     "output_type": "stream",
     "text": [
      "MoviePy - Done.\n",
      "58.39934026954056\n",
      "58.59933801018967\n",
      "151.79828515267565\n",
      "151.99828289332476\n",
      "213.9975824945493\n",
      "306.79653415573705\n",
      "306.99653189638616\n",
      "403.1954451486088\n",
      "403.39544288925794\n",
      "403.59544062990705\n",
      "403.79543837055616\n",
      "408.5953841461348\n",
      "411.3953525152224\n",
      "413.3953299217135\n",
      "413.5953276623626\n",
      "413.7953254030117\n",
      "413.9953231436608\n",
      "414.1953208843099\n",
      "414.39531862495903\n",
      "414.59531636560814\n",
      "414.79531410625725\n",
      "414.99531184690636\n",
      "416.3952960314502\n",
      "419.39526214118683\n",
      "419.59525988183594\n",
      "419.79525762248505\n",
      "419.99525536313416\n",
      "420.1952531037833\n",
      "420.3952508444324\n",
      "420.5952485850815\n",
      "420.7952463257306\n",
      "420.9952440663797\n",
      "421.1952418070288\n",
      "421.39523954767793\n",
      "421.59523728832704\n",
      "421.79523502897615\n",
      "421.99523276962526\n",
      "422.19523051027437\n",
      "422.39522825092354\n",
      "422.59522599157265\n",
      "422.79522373222176\n",
      "422.99522147287087\n",
      "423.19521921352\n",
      "423.3952169541691\n",
      "423.5952146948182\n",
      "423.7952124354673\n",
      "423.9952101761164\n",
      "424.1952079167655\n",
      "424.39520565741464\n",
      "424.59520339806375\n",
      "424.79520113871286\n",
      "424.99519887936196\n",
      "425.1951966200111\n",
      "425.3951943606602\n",
      "425.5951921013093\n",
      "tiempo: 58.39934026954056\n",
      "hola\n",
      "tiempo: 93.39894488313507\n",
      "hola\n",
      "hola\n",
      "tiempo: 92.99894940183685\n",
      "hola\n",
      "tiempo: 96.39891099287175\n",
      "tiempo: 96.59890873352086\n",
      "tiempo: 96.79890647416997\n",
      "tiempo: 101.59885224974865\n",
      "tiempo: 104.39882061883621\n",
      "tiempo: 106.39879802532732\n",
      "tiempo: 106.59879576597643\n",
      "tiempo: 106.79879350662554\n",
      "tiempo: 106.99879124727465\n",
      "tiempo: 107.19878898792376\n",
      "tiempo: 107.39878672857289\n",
      "tiempo: 107.598784469222\n",
      "tiempo: 107.7987822098711\n",
      "tiempo: 107.99877995052022\n",
      "tiempo: 109.398764135064\n",
      "tiempo: 112.39873024480067\n",
      "tiempo: 112.59872798544978\n",
      "tiempo: 112.7987257260989\n",
      "tiempo: 112.998723466748\n",
      "tiempo: 113.19872120739711\n",
      "tiempo: 113.39871894804622\n",
      "tiempo: 113.59871668869533\n",
      "tiempo: 113.79871442934444\n",
      "tiempo: 113.99871216999357\n",
      "tiempo: 114.19870991064268\n",
      "tiempo: 114.39870765129179\n",
      "tiempo: 114.5987053919409\n",
      "tiempo: 114.79870313259\n",
      "tiempo: 114.99870087323912\n",
      "tiempo: 115.19869861388823\n",
      "tiempo: 115.39869635453734\n",
      "tiempo: 115.59869409518646\n",
      "tiempo: 115.79869183583557\n",
      "tiempo: 115.99868957648468\n",
      "tiempo: 116.19868731713379\n",
      "tiempo: 116.3986850577829\n",
      "tiempo: 116.59868279843201\n",
      "tiempo: 116.79868053908112\n",
      "tiempo: 116.99867827973023\n",
      "tiempo: 117.19867602037934\n",
      "tiempo: 117.39867376102846\n",
      "tiempo: 117.59867150167757\n",
      "tiempo: 117.79866924232668\n",
      "tiempo: 117.99866698297579\n",
      "tiempo: 118.1986647236249\n",
      "tiempo: 118.39866246427401\n",
      "tiempo: 118.59866020492312\n",
      "------------------------------------------------\n",
      "[0, 2, 5, 7, 8, 9, 10, 11, 12, 13, 14, 15, 16, 17, 18, 19, 20, 21, 22, 23, 24, 25, 26, 27, 28, 29, 30, 31, 32, 33, 34, 35, 36, 37, 38, 39, 40, 41, 42, 43, 44, 45, 46, 47, 48, 49, 50, 51, 52, 53]\n",
      "------------------------------------------------\n",
      "[ 5187272 13455040 18943280 27175640 37674112]\n",
      "recetasvideos/../temp/receta1_extracto1.wav\n",
      "recetasvideos/../temp/receta1_extracto2.wav\n",
      "recetasvideos/../temp/receta1_extracto3.wav\n",
      "recetasvideos/../temp/receta1_extracto4.wav\n",
      "recetasvideos/../temp/receta1_extracto5.wav\n",
      "Titulo:¡Pocas personas conocen esta receta! El secreto para un pollo frito crujiente que a todos encantará\n",
      "Autor:¡Que Viva La Cocina!\n",
      "Fecha Publicacion:2022-01-25 00:00:00\n",
      "Entradilla:tenemos unos muslos de pollo a los cuales les hemos quitado la piel de momento salpimentarlos no es necesario lo que vamos a hacer con ellos va a ser introducirlos en abundante agua hirviendo vamos a dejar que cuecen aquí a razón de unos 30 minutos más o menos hasta que los muslos estén bien bien cocinados y lo suficientemente tiernos como para que después podamos desgarrar la carne para hacer esta receta luego lo vemos con un poco más de detalle podrías utilizar también unos muslos de pollo que estén asados al horno unos que te hayan sobrado del día anterior por ejemplo venga ahora en un bol vamos a poner unas patatas que estén bien cocidas que estén troceadas y sin piel y con una prensa de patatas o con un simple tenedor vamos a proceder a triturar esta patata como en este caso la patata cuando la cozamos va a ser para triturarla y ya lo sabemos con antelación la manera de cocer la correctamente yo lo hago así la introduzco ya pelada troceada y con la suficiente agua el ajusta agua para que la cubra y ya finalmente la dejo cocer bastante tiempo como es para triturar que casi se deshaga durante la cocción pues no me importa pero que no llega deshacerse solo que esté cerca de deshacerse bueno tenemos ya el pollo cocido han pasado ya 30 minutos de cocción y el pollo está tierno tierno tanto que hasta la carne se separa del hueso eso es lo que vamos a hacer el hueso lo reservamos para después mientras tanto con un tenedor seguimos separando la carne de los huesos y acuérdate los huesos los guardamos ahora imaginemos que nos ha sobrado un pollo asado del día anterior pues nos valdría igualmente en vez de cocido estaría asado y la carne saldría prácticamente con la misma facilidad por si te gusta más con pollo asado que sepas que se puede hacer ahora una vez que hayamos sacado ya toda la carne del hueso vamos a proceder a picarlo con un cuchillo que esté muy afilado se trata de picar lo muy muy fino realizar este paso es muy sencillo no es más que a darle unas cuantas pasadas con el cuchillo tal que así y al cabo de unas cuantas pasadas como el pollo está muy tierno pues ya lo tendremos estará la carne muy picada llegados a este punto vamos a introducir la carne en el bol donde teníamos la patata triturada agregamos una cucharada bien generosa de pimentón o de paprika que puede ser dulce o picante a tu gusto y como medio vaso de harina de trigo las cantidades exactas como siempre las tienes al final del vídeo la harina le va a dar consistencia a todo esto le vamos a agregar ahora subo una pizca de sal que no tenía nada de nada y su buena pizca de pimienta negra recién molida haya y con generosidad que no se diga echados todos estos ingredientes no quedaría más que mezclarlos e integrarlos bien entre sí y lo vamos a hacer con cierta alegría y que quiero decir con esto pues básicamente lo que quiero decir es que todos los ingredientes queden bien unidos entre sí que no haya trozos de patata flotando por un lado la harina que no se nos haya integrado la carne flotando por otro que nos quede prácticamente una masa homogénea eso es lo que quiero decir porque una vez que la tengamos unificada vamos a terminar de dar forma a nuestro plato y prácticamente la acabar lo que ya verás qué pinta que va a coger pero de momento cogemos una pequeña porción de la masa con las manos limpias y ahora es donde entran en juego los huesos que habíamos reservado del principio vamos a envolver del hueso con esta masa o siendo más precisos vamos a envolver uno de los extremos del hueso para ello vamos a compactar lo bien bien sobre el hueso que quiere bien sujeto sobre este y además vamos a ser generosos a la hora de echarle más aquí tanto es así que al final nos tienen que sobrar huesos y yo creo que ella está captando la idea de lo que estoy haciendo lo que buscamos es emular un muslo de pollo pero un muslo de pollo que además contiene otros elementos como la patata y además un muslo de pollo que sería gordísimo parecería más viendo un muslo de avestruz bueno que vamos a pasar este muslo de llamémosle animal indeterminado por huevo le hacemos rodar bien por huevo que se impregne bien de él le retiramos el exceso de huevo y ahora hacemos lo propio pero por pan rallado igualmente lo hacemos rodar le ponemos unos puñaditos por encima lo que haga falta pero que se impregne bien del pan rallado y sobre todo que no se nos deshaga que no debería sobre todo si lo hemos apretado bien sobre el hueso lo que había dicho anteriormente y una vez que la hayamos pasado por el pan rallado nuevamente al huevo con él porque lo vamos a pasar dos veces por huevo y por pan rallado lo impregnamos nuevamente del huevo y nuevamente del pan rallado doblemente empanado doblemente crujiente como este muslo es bastante grueso nos podemos permitir una capa exterior también más gruesa más crujiente por eso lo vamos a pasar dos veces por huevo y por pan rallado venga y una vez que lo tengamos directamente tal cual lo ponemos a freír y atención que van varios tips y alternativas de la fritura lo primero el aceite la suficiente cantidad como para que cubra el muslo por completo el aceite que esté caliente pero tampoco al máximo no demasiado caliente lo que pretendemos es que el pan rallado de fuera pues que tú estés edore pero que tampoco hace falta que se cocinen exceso porque el interior ya está cocinado lo gente como para que coja calor y poco más al final serán unos 3-4 minutos de fritura más o menos y si alguien tiene freidora de aire y quiero hacerlo en freidora de aire pues te traigo si es tu caso te traigo excelentes noticias se puede hacer en la freidora de aire sin problemas e incluso en el horno y no tiene freidora de aire no quieres freír en aceite puedes hacerlo en el horno también sin problemas a unos 180 grados centígrados más o menos hasta que se dore esa2 ya como lo cocinemos obtendremos un plato de pollo un tanto diferente muy original y que volverá locos no sola niños sino que también a mayores obtendremos unas delicias de pollo que son pura ambrosía \n"
     ]
    }
   ],
   "source": [
    "#y si tambien vemos si le permitimos al usuario que meta videos?\n",
    "dep=Depurador()\n",
    "if __name__ == '__main__':\n",
    "    #dep.extraccion('https://www.youtube.com/watch?v=6PzQY1E2s2g&list=PLxHmjpcgU5ArC2rY5cpoIcZoVKB_0UHfR&ab_channel=PlatosF%C3%A1cilesconTamara')\n",
    "    #dep.extraccion('https://www.youtube.com/watch?v=PsqR5M8rdjA&list=LL&index=9&t=4s')\n",
    "    #dep.extraccion('https://www.youtube.com/watch?v=xfYcM_jHgPY')\n",
    "    #dep.extraccion('https://www.youtube.com/watch?v=DnamuF14sJ0')\n",
    "    dep.extraccion('https://www.youtube.com/watch?v=JjXFsmoiLl8')\n",
    "    "
   ]
  },
  {
   "cell_type": "code",
   "execution_count": 9,
   "id": "b87b6d05",
   "metadata": {},
   "outputs": [
    {
     "name": "stdout",
     "output_type": "stream",
     "text": [
      "58.39934026954056\n",
      "58.59933801018967\n",
      "151.79828515267565\n",
      "151.99828289332476\n",
      "213.9975824945493\n",
      "306.79653415573705\n",
      "306.99653189638616\n",
      "403.1954451486088\n",
      "403.39544288925794\n",
      "403.59544062990705\n",
      "403.79543837055616\n",
      "408.5953841461348\n",
      "411.3953525152224\n",
      "413.3953299217135\n",
      "413.5953276623626\n",
      "413.7953254030117\n",
      "413.9953231436608\n",
      "414.1953208843099\n",
      "414.39531862495903\n",
      "414.59531636560814\n",
      "414.79531410625725\n",
      "414.99531184690636\n",
      "416.3952960314502\n",
      "419.39526214118683\n",
      "419.59525988183594\n",
      "419.79525762248505\n",
      "419.99525536313416\n",
      "420.1952531037833\n",
      "420.3952508444324\n",
      "420.5952485850815\n",
      "420.7952463257306\n",
      "420.9952440663797\n",
      "421.1952418070288\n",
      "421.39523954767793\n",
      "421.59523728832704\n",
      "421.79523502897615\n",
      "421.99523276962526\n",
      "422.19523051027437\n",
      "422.39522825092354\n",
      "422.59522599157265\n",
      "422.79522373222176\n",
      "422.99522147287087\n",
      "423.19521921352\n",
      "423.3952169541691\n",
      "423.5952146948182\n",
      "423.7952124354673\n",
      "423.9952101761164\n",
      "424.1952079167655\n",
      "424.39520565741464\n",
      "424.59520339806375\n",
      "424.79520113871286\n",
      "424.99519887936196\n",
      "425.1951966200111\n",
      "425.3951943606602\n",
      "425.5951921013093\n",
      "tiempo: 58.39934026954056\n",
      "hola\n",
      "tiempo: 93.39894488313507\n",
      "hola\n",
      "hola\n",
      "tiempo: 92.99894940183685\n",
      "hola\n",
      "tiempo: 96.39891099287175\n",
      "tiempo: 96.59890873352086\n",
      "tiempo: 96.79890647416997\n",
      "tiempo: 101.59885224974865\n",
      "tiempo: 104.39882061883621\n",
      "tiempo: 106.39879802532732\n",
      "tiempo: 106.59879576597643\n",
      "tiempo: 106.79879350662554\n",
      "tiempo: 106.99879124727465\n",
      "tiempo: 107.19878898792376\n",
      "tiempo: 107.39878672857289\n",
      "tiempo: 107.598784469222\n",
      "tiempo: 107.7987822098711\n",
      "tiempo: 107.99877995052022\n",
      "tiempo: 109.398764135064\n",
      "tiempo: 112.39873024480067\n",
      "tiempo: 112.59872798544978\n",
      "tiempo: 112.7987257260989\n",
      "tiempo: 112.998723466748\n",
      "tiempo: 113.19872120739711\n",
      "tiempo: 113.39871894804622\n",
      "tiempo: 113.59871668869533\n",
      "tiempo: 113.79871442934444\n",
      "tiempo: 113.99871216999357\n",
      "tiempo: 114.19870991064268\n",
      "tiempo: 114.39870765129179\n",
      "tiempo: 114.5987053919409\n",
      "tiempo: 114.79870313259\n",
      "tiempo: 114.99870087323912\n",
      "tiempo: 115.19869861388823\n",
      "tiempo: 115.39869635453734\n",
      "tiempo: 115.59869409518646\n",
      "tiempo: 115.79869183583557\n",
      "tiempo: 115.99868957648468\n",
      "tiempo: 116.19868731713379\n",
      "tiempo: 116.3986850577829\n",
      "tiempo: 116.59868279843201\n",
      "tiempo: 116.79868053908112\n",
      "tiempo: 116.99867827973023\n",
      "tiempo: 117.19867602037934\n",
      "tiempo: 117.39867376102846\n",
      "tiempo: 117.59867150167757\n",
      "tiempo: 117.79866924232668\n",
      "tiempo: 117.99866698297579\n",
      "tiempo: 118.1986647236249\n",
      "tiempo: 118.39866246427401\n",
      "tiempo: 118.59866020492312\n",
      "------------------------------------------------\n",
      "[0, 2, 5, 7, 8, 9, 10, 11, 12, 13, 14, 15, 16, 17, 18, 19, 20, 21, 22, 23, 24, 25, 26, 27, 28, 29, 30, 31, 32, 33, 34, 35, 36, 37, 38, 39, 40, 41, 42, 43, 44, 45, 46, 47, 48, 49, 50, 51, 52, 53]\n",
      "------------------------------------------------\n",
      "[ 5187272 13455040 18943280 27175640 37674112]\n"
     ]
    },
    {
     "data": {
      "text/plain": [
       "5"
      ]
     },
     "execution_count": 9,
     "metadata": {},
     "output_type": "execute_result"
    }
   ],
   "source": [
    "segcionarXsilencios(\"receta1\")"
   ]
  }
 ],
 "metadata": {
  "kernelspec": {
   "display_name": "Python 3 (ipykernel)",
   "language": "python",
   "name": "python3"
  },
  "language_info": {
   "codemirror_mode": {
    "name": "ipython",
    "version": 3
   },
   "file_extension": ".py",
   "mimetype": "text/x-python",
   "name": "python",
   "nbconvert_exporter": "python",
   "pygments_lexer": "ipython3",
   "version": "3.9.13"
  }
 },
 "nbformat": 4,
 "nbformat_minor": 5
}
