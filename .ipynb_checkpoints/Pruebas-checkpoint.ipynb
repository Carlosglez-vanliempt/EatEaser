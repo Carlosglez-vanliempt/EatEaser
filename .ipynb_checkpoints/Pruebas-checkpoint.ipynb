{
 "cells": [
  {
   "cell_type": "markdown",
   "id": "785f7877",
   "metadata": {},
   "source": [
    "# Pruebas de STEMMING la mejor es RSLPStemmer"
   ]
  },
  {
   "cell_type": "code",
   "execution_count": 1,
   "id": "61c7a595",
   "metadata": {},
   "outputs": [
    {
     "name": "stdout",
     "output_type": "stream",
     "text": [
      "['corri', 'corr', 'corrió', 'corr', 'fácil', 'just', 'libr', 'librer', 'libr', 'libr']\n"
     ]
    },
    {
     "name": "stderr",
     "output_type": "stream",
     "text": [
      "[nltk_data] Downloading package rslp to\n",
      "[nltk_data]     C:\\Users\\rober\\AppData\\Roaming\\nltk_data...\n",
      "[nltk_data]   Package rslp is already up-to-date!\n"
     ]
    }
   ],
   "source": [
    "import nltk\n",
    "from nltk.stem.rslp import RSLPStemmer\n",
    "nltk.download('rslp')\n",
    "\n",
    "# Crear un objeto SnowballStemmer para el idioma español\n",
    "stemmer = RSLPStemmer()\n",
    "\n",
    "# Crear una lista de palabras\n",
    "words = ['corriendo', 'corredor', 'corrió', 'corre', 'fácilmente', 'justamente','libreria','librero','libro','librera']\n",
    "\n",
    "# Aplicar el stemming a cada palabra\n",
    "stemmed_words = [stemmer.stem(word) for word in words]\n",
    "\n",
    "print(stemmed_words)"
   ]
  },
  {
   "cell_type": "code",
   "execution_count": 2,
   "id": "1cce965b",
   "metadata": {},
   "outputs": [
    {
     "name": "stdout",
     "output_type": "stream",
     "text": [
      "['corr', 'corredor', 'corr', 'corr', 'facil', 'just', 'libreri', 'librer', 'libr', 'librer']\n"
     ]
    }
   ],
   "source": [
    "import nltk\n",
    "from nltk.stem.snowball import SnowballStemmer\n",
    "\n",
    "# Crear un objeto SnowballStemmer para el idioma español\n",
    "stemmer = SnowballStemmer('spanish')\n",
    "\n",
    "# Crear una lista de palabras\n",
    "words = ['corriendo', 'corredor', 'corrió', 'corre', 'fácilmente', 'justamente','libreria','librero','libro','librera']\n",
    "\n",
    "# Aplicar el stemming a cada palabra\n",
    "stemmed_words = [stemmer.stem(word) for word in words]\n",
    "\n",
    "print(stemmed_words)"
   ]
  },
  {
   "cell_type": "code",
   "execution_count": 3,
   "id": "74eee43d",
   "metadata": {},
   "outputs": [
    {
     "name": "stdout",
     "output_type": "stream",
     "text": [
      "['corr', 'corredor', 'corr', 'corr', 'facil', 'just', 'libreri', 'librer', 'libr', 'librer']\n"
     ]
    }
   ],
   "source": [
    "from nltk.stem.snowball import SpanishStemmer\n",
    "\n",
    "stemmer = SpanishStemmer()\n",
    "\n",
    "words = ['corriendo', 'corredor', 'corrió', 'corre', 'fácilmente', 'justamente','libreria','librero','libro','librera']\n",
    "\n",
    "# Aplicamos el stemming a cada palabra del texto\n",
    "stemmed_words = [stemmer.stem(word) for word in words]\n",
    "\n",
    "print(stemmed_words)"
   ]
  },
  {
   "cell_type": "markdown",
   "id": "f5803841",
   "metadata": {},
   "source": [
    "# Pruebas REGEX"
   ]
  },
  {
   "cell_type": "code",
   "execution_count": 4,
   "id": "7096bba3",
   "metadata": {},
   "outputs": [],
   "source": [
    "import re"
   ]
  },
  {
   "cell_type": "code",
   "execution_count": 5,
   "id": "c8db9253",
   "metadata": {},
   "outputs": [
    {
     "name": "stdout",
     "output_type": "stream",
     "text": [
      "hola buebas\n",
      " tardes, me llamo \n",
      "juan,  quitar todo\n"
     ]
    }
   ],
   "source": [
    "info = 'hola buebas0250-00-00\\n tardes, me llamo v=shdfdsbj\\njuan, 00:00:00 quitar todo'\n",
    "textoSinSimbolos = re.sub(\"\\d+:\\d+:\\d+\", \"\" , info)\n",
    "textoSinSimbolos = re.sub(\"\\d+-\\d+-\\d+\", \"\" , textoSinSimbolos)\n",
    "textoSinSimbolos = re.sub(\"v=.*\", \"\" , textoSinSimbolos)\n",
    "print(textoSinSimbolos)\n",
    "\n"
   ]
  },
  {
   "cell_type": "markdown",
   "id": "ebf64a72",
   "metadata": {},
   "source": [
    "# Pruebas WebScraping"
   ]
  },
  {
   "cell_type": "code",
   "execution_count": 19,
   "id": "0a2991fb",
   "metadata": {},
   "outputs": [
    {
     "name": "stderr",
     "output_type": "stream",
     "text": [
      "C:\\Users\\rober\\AppData\\Local\\Temp\\ipykernel_7440\\3418613848.py:9: DeprecationWarning: executable_path has been deprecated, please pass in a Service object\n",
      "  driver = webdriver.Chrome(ChromeDriverManager().install())\n"
     ]
    },
    {
     "name": "stdout",
     "output_type": "stream",
     "text": [
      "Ingrese una palabra clave: a\n"
     ]
    }
   ],
   "source": [
    "import requests\n",
    "from bs4 import BeautifulSoup\n",
    "import time\n",
    "# para poder interactuar hay que usar webdriver no beautifulsoup\n",
    "from selenium import webdriver\n",
    "from webdriver_manager.chrome import ChromeDriverManager\n",
    "from selenium.webdriver.common.by import By\n",
    "\n",
    "driver = webdriver.Chrome(ChromeDriverManager().install())\n",
    "keyword = input(\"Ingrese una palabra clave: \")\n",
    "busqueda_lidl = \"https://recetas.lidl.es/\"\n",
    "response = requests.get(busqueda_lidl)\n",
    "soup = BeautifulSoup(response.content, \"html.parser\")\n",
    "escribirIngrediente = soup.find(class_=\"inputField js_mIngredientSearchGroup-input\")\n",
    "driver.get(busqueda_lidl)\n",
    "\n",
    "\n"
   ]
  },
  {
   "cell_type": "code",
   "execution_count": 16,
   "id": "4f37d1a2",
   "metadata": {},
   "outputs": [],
   "source": []
  },
  {
   "cell_type": "code",
   "execution_count": 21,
   "id": "d1332f70",
   "metadata": {},
   "outputs": [],
   "source": []
  },
  {
   "cell_type": "code",
   "execution_count": 76,
   "id": "39138ebb",
   "metadata": {},
   "outputs": [],
   "source": [
    "from selenium.webdriver.common.keys import Keys\n",
    "from selenium.webdriver.common.action_chains import ActionChains\n",
    "\n",
    "class WebScraping:\n",
    "    def conexionPaginaWeb(self):\n",
    "        driver = webdriver.Chrome(ChromeDriverManager().install())\n",
    "        urlUEM = \"https://recetas.lidl.es/\"\n",
    "        driver.get(urlUEM)\n",
    "        time.sleep(0.5)\n",
    "        self.quitarCookies(driver)\n",
    "        return driver\n",
    "    def quitarCookies(self, driver):\n",
    "        #si sale el boton de las koockies lo acepta\n",
    "        try:\n",
    "            driver.find_element(By.CLASS_NAME, \"cookie-alert-extended-button\").click()\n",
    "            print(\"Boton aceptar coquies seleccionado\")\n",
    "        except:\n",
    "            print(\"No sale boton de aceptar coquies\")"
   ]
  },
  {
   "cell_type": "code",
   "execution_count": 81,
   "id": "3718a190",
   "metadata": {},
   "outputs": [
    {
     "name": "stderr",
     "output_type": "stream",
     "text": [
      "C:\\Users\\rober\\AppData\\Local\\Temp\\ipykernel_7440\\3397198613.py:6: DeprecationWarning: executable_path has been deprecated, please pass in a Service object\n",
      "  driver = webdriver.Chrome(ChromeDriverManager().install())\n"
     ]
    },
    {
     "name": "stdout",
     "output_type": "stream",
     "text": [
      "Boton aceptar coquies seleccionado\n"
     ]
    }
   ],
   "source": [
    "ws=WebScraping()\n",
    "driver = ws.conexionPaginaWeb()\n",
    "time.sleep(1)\n",
    "escribirIngrediente = driver.find_element(By.CLASS_NAME, \"inputField.js_mIngredientSearchGroup-input\")\n",
    "escribirIngrediente.send_keys(\"guisantes\")\n",
    "# hay que darle un poco de tiempo para que despues de escribir seleccione el enter sino no lo ejecuta bien\n",
    "time.sleep(1)\n",
    "escribirIngrediente.send_keys(Keys.RETURN)\n",
    "\n",
    "\n",
    "\n",
    "time.sleep(5)\n",
    "driver.close()"
   ]
  },
  {
   "cell_type": "code",
   "execution_count": null,
   "id": "dbd120a6",
   "metadata": {},
   "outputs": [],
   "source": []
  }
 ],
 "metadata": {
  "kernelspec": {
   "display_name": "Python 3 (ipykernel)",
   "language": "python",
   "name": "python3"
  },
  "language_info": {
   "codemirror_mode": {
    "name": "ipython",
    "version": 3
   },
   "file_extension": ".py",
   "mimetype": "text/x-python",
   "name": "python",
   "nbconvert_exporter": "python",
   "pygments_lexer": "ipython3",
   "version": "3.9.12"
  }
 },
 "nbformat": 4,
 "nbformat_minor": 5
}
