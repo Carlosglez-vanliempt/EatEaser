{
 "cells": [
  {
   "cell_type": "markdown",
   "id": "a0ce5810",
   "metadata": {},
   "source": [
    "<div style='width=100%; display:flex;flex-direction:row'><img  src=https://universidadeuropea.com/resources/media/images/universidad-europea-logo_poc9mEM.original.png width=100  style='  margin-left: auto;margin-right: auto; width: 25%; height:25%;'><img  src=https://i.ibb.co/1068C7j/EATEASER.jpg width=100 style='  margin-left: auto;margin-right: auto; width: 10%;height:25%;'></div>"
   ]
  },
  {
   "cell_type": "markdown",
   "id": "4cc3e4c0",
   "metadata": {},
   "source": [
    "<div style='margin:auto;text-align: center;font-family: \"Times New Roman\", Times, serif; font-weight: bold;'>PROYECTO COMUTACIONAL<br><br>EATEASER - VOZ A TEXTO</div>"
   ]
  },
  {
   "cell_type": "markdown",
   "id": "fea751be",
   "metadata": {},
   "source": [
    "<div style='width:100%; display:flex;flex-direction:row'>\n",
    "    <div style='width:50%;margin-right:5cm;'>\n",
    "        <p style='font-family: \"Times New Roman\", Times, serif; font-weight: bold;'>ESTUDIANTES</p>\n",
    "<ul style='font-family: \"Times New Roman\", Times, serif;'>\n",
    "    <li>Adilem Dobras 21911633</li><li>Roberto Echevarria 21823680</li><li>Carlos Gonzales 22067726</li><li>Juan Carlos Rondeau 21816176</li></ul> </div>\n",
    "\n",
    "</div>"
   ]
  },
  {
   "cell_type": "markdown",
   "id": "4516e75a",
   "metadata": {},
   "source": [
    "<h2 style=\"font-size: 19px;color:#6DA0FF;font-family:Georgia, Times, 'Times New Roman', serif;letter-spacing: 3px;font-weight: normal\">1. Importamos las librerias</h2>"
   ]
  },
  {
   "cell_type": "code",
   "execution_count": 1,
   "id": "c19ffb73",
   "metadata": {},
   "outputs": [
    {
     "data": {
      "text/plain": [
       "'\\n!pip install pytube\\n!pip install SpeechRecognition\\n!pip install pydub\\n!pip install moviepy\\n!pip install beautifulsoup4\\n!pip install nltk\\n'"
      ]
     },
     "execution_count": 1,
     "metadata": {},
     "output_type": "execute_result"
    }
   ],
   "source": [
    "\"\"\"\n",
    "!pip install pytube\n",
    "!pip install SpeechRecognition\n",
    "!pip install pydub\n",
    "!pip install moviepy\n",
    "!pip install beautifulsoup4\n",
    "!pip install nltk\n",
    "\"\"\""
   ]
  },
  {
   "cell_type": "code",
   "execution_count": 1,
   "id": "a35864bd",
   "metadata": {},
   "outputs": [
    {
     "name": "stderr",
     "output_type": "stream",
     "text": [
      "C:\\Users\\pitu\\anaconda3\\lib\\site-packages\\pydub\\utils.py:170: RuntimeWarning: Couldn't find ffmpeg or avconv - defaulting to ffmpeg, but may not work\n",
      "  warn(\"Couldn't find ffmpeg or avconv - defaulting to ffmpeg, but may not work\", RuntimeWarning)\n"
     ]
    }
   ],
   "source": [
    "from pytube import YouTube\n",
    "import speech_recognition as sr\n",
    "from pydub import AudioSegment\n",
    "import moviepy.editor as mp\n",
    "from bs4 import BeautifulSoup\n",
    "import glob\n",
    "import os\n",
    "import re\n",
    "from os import listdir\n",
    "from nltk.stem import PorterStemmer\n",
    "from nltk.tokenize import word_tokenize\n",
    "import requests\n",
    "from pydub.silence import split_on_silence"
   ]
  },
  {
   "cell_type": "markdown",
   "id": "c1374c17",
   "metadata": {},
   "source": [
    "<h2 style=\"font-size: 19px;color:#6DA0FF;font-family:Georgia, Times, 'Times New Roman', serif;letter-spacing: 3px;font-weight: normal\">2. Inicio del programa</h2>"
   ]
  },
  {
   "cell_type": "markdown",
   "id": "4a136eab",
   "metadata": {},
   "source": [
    "<h3  style='font-family: \"Times New Roman\", Times, serif; font-weight: bold;text-align:center;font-size:14px'>CLASE CONTROLADORVIDEO</h3><p style='font-family: \"Times New Roman\", Times, serif; font-size:14px'>En esta clase se realizará los ajustes para manejar el video recibido y manipularlo.</p>\n"
   ]
  },
  {
   "cell_type": "code",
   "execution_count": 2,
   "id": "a526886f",
   "metadata": {},
   "outputs": [],
   "source": [
    "class ControladorVideo:\n",
    "    def __init__(self,enlace): \n",
    "        self._idvideo = 0\n",
    "        self.enlacevideo=enlace\n",
    "        self.yt=YouTube(self.enlacevideo)\n",
    "        self.nombrevideo=''\n",
    "        self.titulovideo=self.yt.title\n",
    "        self.autorvideo=self.yt.author\n",
    "        self.fechavideo=self.yt.publish_date\n",
    "        self.duracionvideo=self.yt.length\n",
    "    \"\"\"|DESCARGAR VIDEO URL: descarga el video de youtube\n",
    "       |return: devuelve una ruta absoluta\"\"\"\n",
    "    def descargarVideoURL(self):\n",
    "        recetasVideos = 'recetasvideos/'\n",
    "        #aqui creo un nuevo id para el nuevo video\n",
    "        self._idvideo= self._idvideo+1\n",
    "        #esta sera el archivo del video y su nuevo nombre\n",
    "        nombre='receta'+str(self._idvideo)\n",
    "        #le pedimos al pytube que solo nos descargue el audio y lo descargamos\n",
    "        t=self.yt.streams.filter(file_extension='mp4').first().download(output_path=recetasVideos,filename=nombre+'.mp4')\n",
    "        #devolvemos el nombre\n",
    "        return nombre\n",
    "    \"\"\"|PARSEO VIDEO: pasa el video de .mp4 a .wav\n",
    "       |nombre: es un string que se colocara el nombre del video\n",
    "       |return: devuelve el nuevo nombre del audio en .wav\"\"\"\n",
    "    def parseoVideo(self,nombre):\n",
    "        recetasVideos = 'recetasvideos/'\n",
    "        #tomamos el video en mp4 \n",
    "        track = mp.VideoFileClip(recetasVideos+nombre+'.mp4')\n",
    "        #cambiamos el video a .wav\n",
    "        nombre_wav=\"{}.wav\".format(nombre)\n",
    "        track.audio.write_audiofile(recetasVideos+nombre_wav)\n",
    "        track.close()\n",
    "        return nombre+'.wav'\n",
    "   # def reenumerar(): \"\"\" EN PROCESO, para leer el directorio y añadir receta n + 1 \"\"\"\n",
    "       # dir = []\n",
    "        #for archivo in listdir(\"./recetasvideos\"):\n",
    "        #    dir.append(archivo)\n",
    "        #print(dir)\n",
    "    \"\"\"|SPEECH TEXT:Transforma el audio a texto\n",
    "       |nombre: es un string que se colocara el nombre del video\n",
    "       |return: devuelve un string con el texto devuelto\"\"\"\n",
    "    def speech_text(self,nombre):\n",
    "        recetasVideos = 'recetasvideos/'\n",
    "        #instanciamos el recognizer\n",
    "        print(recetasVideos+nombre)\n",
    "        r = sr.Recognizer()\n",
    "        audio = sr.AudioFile(recetasVideos+nombre)\n",
    "        with audio as source:\n",
    "            audio_file = r.record(source)\n",
    "        #transcribimos el audio a texto\n",
    "        result = r.recognize_google(audio_file, language = 'es-ES')\n",
    "        return result\n",
    "            \n",
    "        \n",
    "        "
   ]
  },
  {
   "cell_type": "markdown",
   "id": "b805c5fe",
   "metadata": {
    "tags": []
   },
   "source": [
    "<h3  style='font-family: \"Times New Roman\", Times, serif; font-weight: bold;text-align:center;font-size:14px'>CLASE DEPURADOR</h3><p style='font-family: \"Times New Roman\", Times, serif; font-size:14px'>En esta clase se realizará el proceso de extraccion, transformacion y carga de nuestro programa EATEASER.</p>\n"
   ]
  },
  {
   "cell_type": "code",
   "execution_count": 3,
   "id": "ba53da9d",
   "metadata": {},
   "outputs": [],
   "source": [
    "#si el video es mayor de 3 minutos no funciona\n",
    "#si el video es en ingles no funciona\n",
    "class Depurador:\n",
    "    def __init__(self): \n",
    "        self.rec=RecursosAdicionales()\n",
    "    \"\"\"|EXTRACCION: proceso etl donde extraemos al informacion del video \n",
    "       |enlace: es un string que se colocara el enlace del video\"\"\"\n",
    "    def extraccion(self,enlace):\n",
    "        #instanciamos el controlador de videos\n",
    "        cv=ControladorVideo(enlace)\n",
    "        #paso 1: descargamos el video\n",
    "        cv.nombrevideo=cv.descargarVideoURL()\n",
    "        #paso 2: pasamos el video a .wav\n",
    "        nombre=cv.parseoVideo(cv.nombrevideo)\n",
    "        #paso 3: pasamos el .wav a texto\n",
    "        result=cv.speech_text(nombre)\n",
    "        #paso 4: escribimos el texto recibido en un txt\n",
    "        #print(\"Titulo:\"+cv.titulovideo+\"\\n\"+\"Autor:\"+cv.autorvideo+\"\\n\"+\"Fecha Publicacion:\"+str(cv.fechavideo)+\"\\n\"+\"Entradilla:\"+result)\n",
    "        resultado=self.rec.escritura(cv.nombrevideo,\"Titulo:\"+cv.titulovideo+\"\\n\"+\"Autor:\"+cv.autorvideo+\"\\n\"+\"Fecha Publicacion:\"+str(cv.fechavideo)+\"\\n\"+\"Entradilla:\"+result)\n",
    "        #paso 5: eliminamos los mp4\n",
    "        #self.rec.eliminacionMp4()\n",
    "        #resultado=print(cv.nombrevideo,\"Titulo:\"+cv.titulovideo+\"\\n\"+\"Autor:\"+cv.autorvideo+\"\\n\"+\"Fecha Publicacion:\"+str(cv.fechavideo)+\"\\n\"+\"Entradilla:\"+result)\n",
    "        return resultado     \n",
    "    def transformacion(self):\n",
    "        print()\n",
    "    def carga(self):\n",
    "        print()"
   ]
  },
  {
   "cell_type": "code",
   "execution_count": 4,
   "id": "64ba8a47",
   "metadata": {},
   "outputs": [],
   "source": [
    "#aqui iran lecturas-escrituras-guardar-eliminar cosas en bases de datos\n",
    "class RecursosAdicionales:\n",
    "    \"\"\"|ESCRITURA: escribe textos txt\n",
    "       |nombre: nombre del \n",
    "       |return: devuelve el audio en texto\"\"\"\n",
    "    #yo siento que en vez de cambiar de carpeta los textos...deberiamos eliminar los mp4\n",
    "    #y si lo mas factible aqui es que guardemos el video por su nombre?\n",
    "    #creo que no debemos contar los files porque cansan el programa\n",
    "    \n",
    "    def escritura(self,nombre,texto):\n",
    "        recetasTextos = 'recetastextos/'\n",
    "        if not(os.path.exists(recetasTextos)):\n",
    "            os.mkdir(recetasTextos)\n",
    "        f = open(recetasTextos+nombre+'.txt', 'w')\n",
    "        f.write(texto)\n",
    "        f = open(recetasTextos+nombre+'.txt', \"r\")\n",
    "        print(f.read())\n",
    "        f.close()\n",
    "    def eliminacionMp4(self):\n",
    "        recetasVideos = './recetasvideos/'\n",
    "        py_files = glob.glob(recetasVideos+'*.mp4')\n",
    "        for py_file in py_files:\n",
    "            try:\n",
    "                os.remove(py_file)\n",
    "            except OSError as e:\n",
    "                print(f\"Error:{ e.strerror}\")      \n",
    "        "
   ]
  },
  {
   "cell_type": "code",
   "execution_count": 5,
   "id": "170fb491",
   "metadata": {},
   "outputs": [],
   "source": [
    "class WebScrap:\n",
    "    def __init__(self): \n",
    "        self.headers = {'User-Agent': 'Mozilla/5.0 (Macintosh; Intel Mac OS X 10_10_1) AppleWebKit/537.36 (KHTML, like Gecko) Chrome/39.0.2171.95 Safari/537.36'}\n",
    "    def request(self, url):\n",
    "        request1 = requests.get(url, headers=self.headers)\n",
    "        html = request1.content\n",
    "        soup = BeautifulSoup(html, 'html.parser')\n",
    "        return soup\n",
    "    def verificar_alimento(self,alimento):\n",
    "        soup = self.request( 'https://www.themealdb.com/api/json/v1/1/search.php?s='+alimento)\n",
    "        print(soup)\n",
    "        "
   ]
  },
  {
   "cell_type": "markdown",
   "id": "0d2e8fe6",
   "metadata": {},
   "source": [
    "<h2 style=\"font-size: 19px;color:#6DA0FF;font-family:Georgia, Times, 'Times New Roman', serif;letter-spacing: 3px;font-weight: normal\">3. Main</h2>"
   ]
  },
  {
   "cell_type": "code",
   "execution_count": 7,
   "id": "626d2dbe",
   "metadata": {},
   "outputs": [
    {
     "name": "stderr",
     "output_type": "stream",
     "text": [
      "chunk:   0%|                                                                        | 0/4670 [00:00<?, ?it/s, now=None]"
     ]
    },
    {
     "name": "stdout",
     "output_type": "stream",
     "text": [
      "MoviePy - Writing audio in recetasvideos/receta1.wav\n"
     ]
    },
    {
     "name": "stderr",
     "output_type": "stream",
     "text": [
      "                                                                                                                       \r"
     ]
    },
    {
     "name": "stdout",
     "output_type": "stream",
     "text": [
      "MoviePy - Done.\n",
      "recetasvideos/receta1.wav\n",
      "Titulo:Sopa de Cebolla | Una riquísima receta muy Fácil y Rápida de hacer\n",
      "Autor:Cocina con Carmen\n",
      "Fecha Publicacion:2019-12-20 00:00:00\n",
      "Entradilla:hola a todos y bienvenidos a cocina con Carmen hoy vamos a hacer una deliciosa sopa de cebolla que es súper fácil y rápida de hacer y además es genial para que el cuerpo entre en calor así que si queréis hacer la os dejo los ingredientes abajo en la descripción y al final del vídeo y vamos a comenzar para hacer la sopa de cebolla usaré como ingrediente principal un litro de este caldo de pollo Aneto que está riquísimo yo fui hace poco a su fábrica y la única diferencia que hay con los caldos que hacemos en casa son las ollas que nosotros utilizamos unas ollas pequeñas y ellos utilizan unas ollas que caben unos 3 ml que lo recordar seguido también vamos a necesitar medio kg de cebolla que si son dulces mucho mejor comenzaremos cortando las por la mitad y cada mitad las cortaremos y Juliana cuando hayamos cortado todas ya podremos comenzar a hacer la sopa de cebolla así que en una cacerola a fuego medio añadiremos dos cucharadas t-killa y una vez que se haya derretido y esté caliente añadiremos las cebollas cortadas se mezcla y las moveremos con frecuencia hasta que estén un poco hechas a continuación añadiremos un poco de sal y pimienta al gusto y la seguiremos moviendo de vez en cuando hace que estén sofritas tras esto subimos la placa fuego medio-alto y añadimos el litro de caldo de pollo Aneto también probé hacer esta misma sopa con el caldo Aneto de Navidad y de Anda forma quedó riquísimas así que os ánimo a probar estos caldo porque es que son espectaculares se mezcla y vamos a esperar a que comience a hervir ahora lo volvemos a bajar a fuego medio y dejaremos que se haga durante unos 5 minutos con una tapa puesta pasado este tiempo la sopa de cebolla ya está preparada y la podemos retirar la dividir recipientes aptos para hornos y en cada recipiente también pondremos una rebanada de pan tostado y un poco de queso mozarella se colocan en una bandeja de horno y ya van para dentro se coloca la bandeja en la parte del medio del horno y dejaremos que el queso se funda a unos 230 grados centígrados o unos 450 grados Fahrenheit después de unos 15 minutos o cuando el queso se haya gratinado ya no podemos sacar por último le podemos poner un poco de hierbabuena que es muy típica en la gastronomía andaluza y mira qué bien queda además de apetecible os aseguro que estás riquísima rica rica de verdad aunque utilizando el caldo Aneto era difícil que por cierto desde aquí me gustaría animar a los supermercados el jamón para que pongan el caldo Aneto en sus estanterías de Chiclana y de Cádiz es una pena que con lo bueno que estás no lo tengan porque la verdad es el único que me recuerda a un caldo casero y ya sabéis si os ha gustado está receta os invito a que le deis a Me Gusta suscribirse a nuestros canales si aún no lo habéis hecho por aquí o voy a dejar más receta de sopa que están todas riquísimas y como riquísimas son las recetas de nuestro libro Cocina con Carmen que tiene una receta que son unas delicias un besito y hasta el próximo vídeo\n"
     ]
    }
   ],
   "source": [
    "#y si tambien vemos si le permitimos al usuario que meta videos?\n",
    "dep=Depurador()\n",
    "if __name__ == '__main__':\n",
    "    #dep.extraccion('https://www.youtube.com/watch?v=6PzQY1E2s2g&list=PLxHmjpcgU5ArC2rY5cpoIcZoVKB_0UHfR&ab_channel=PlatosF%C3%A1cilesconTamara')\n",
    "    #dep.extraccion('https://www.youtube.com/watch?v=PsqR5M8rdjA&list=LL&index=9&t=4s')\n",
    "    #dep.extraccion('https://www.youtube.com/watch?v=xfYcM_jHgPY')\n",
    "    dep.extraccion('https://www.youtube.com/watch?v=DnamuF14sJ0')\n",
    "    "
   ]
  },
  {
   "cell_type": "code",
   "execution_count": 15,
   "id": "6b9ca26f",
   "metadata": {},
   "outputs": [
    {
     "name": "stdout",
     "output_type": "stream",
     "text": [
      "Requirement already satisfied: numba in c:\\users\\pitu\\anaconda3\\lib\\site-packages (0.50.1)\n",
      "Requirement already satisfied: llvmlite<0.34,>=0.33.0.dev0 in c:\\users\\pitu\\anaconda3\\lib\\site-packages (from numba) (0.33.0+1.g022ab0f)\n",
      "Requirement already satisfied: numpy>=1.15 in c:\\users\\pitu\\anaconda3\\lib\\site-packages (from numba) (1.18.5)\n",
      "Requirement already satisfied: setuptools in c:\\users\\pitu\\anaconda3\\lib\\site-packages (from numba) (49.2.0.post20200714)\n"
     ]
    }
   ],
   "source": [
    "!pip install numba"
   ]
  },
  {
   "cell_type": "code",
   "execution_count": 29,
   "id": "b1b590c4",
   "metadata": {
    "scrolled": true
   },
   "outputs": [
    {
     "name": "stdout",
     "output_type": "stream",
     "text": [
      "Requirement already satisfied: librosa in c:\\users\\pitu\\anaconda3\\lib\\site-packages (0.9.2)\n",
      "Requirement already satisfied: scipy>=1.2.0 in c:\\users\\pitu\\anaconda3\\lib\\site-packages (from librosa) (1.5.0)\n",
      "Requirement already satisfied: decorator>=4.0.10 in c:\\users\\pitu\\anaconda3\\lib\\site-packages (from librosa) (4.4.2)\n",
      "Requirement already satisfied: pooch>=1.0 in c:\\users\\pitu\\anaconda3\\lib\\site-packages (from librosa) (1.6.0)\n",
      "Requirement already satisfied: packaging>=20.0 in c:\\users\\pitu\\anaconda3\\lib\\site-packages (from librosa) (20.4)\n",
      "Requirement already satisfied: audioread>=2.1.9 in c:\\users\\pitu\\anaconda3\\lib\\site-packages (from librosa) (3.0.0)\n",
      "Requirement already satisfied: numba>=0.45.1 in c:\\users\\pitu\\anaconda3\\lib\\site-packages (from librosa) (0.50.1)\n",
      "Requirement already satisfied: soundfile>=0.10.2 in c:\\users\\pitu\\anaconda3\\lib\\site-packages (from librosa) (0.11.0)\n",
      "Requirement already satisfied: scikit-learn>=0.19.1 in c:\\users\\pitu\\anaconda3\\lib\\site-packages (from librosa) (0.23.1)\n",
      "Requirement already satisfied: joblib>=0.14 in c:\\users\\pitu\\anaconda3\\lib\\site-packages (from librosa) (0.16.0)\n",
      "Requirement already satisfied: resampy>=0.2.2 in c:\\users\\pitu\\anaconda3\\lib\\site-packages (from librosa) (0.3.1)\n",
      "Requirement already satisfied: numpy>=1.17.0 in c:\\users\\pitu\\anaconda3\\lib\\site-packages (from librosa) (1.18.5)\n",
      "Requirement already satisfied: appdirs>=1.3.0 in c:\\users\\pitu\\anaconda3\\lib\\site-packages (from pooch>=1.0->librosa) (1.4.4)\n",
      "Requirement already satisfied: requests>=2.19.0 in c:\\users\\pitu\\anaconda3\\lib\\site-packages (from pooch>=1.0->librosa) (2.24.0)\n",
      "Requirement already satisfied: pyparsing>=2.0.2 in c:\\users\\pitu\\anaconda3\\lib\\site-packages (from packaging>=20.0->librosa) (2.4.7)\n",
      "Requirement already satisfied: six in c:\\users\\pitu\\anaconda3\\lib\\site-packages (from packaging>=20.0->librosa) (1.15.0)\n",
      "Requirement already satisfied: llvmlite<0.34,>=0.33.0.dev0 in c:\\users\\pitu\\anaconda3\\lib\\site-packages (from numba>=0.45.1->librosa) (0.33.0+1.g022ab0f)\n",
      "Requirement already satisfied: setuptools in c:\\users\\pitu\\anaconda3\\lib\\site-packages (from numba>=0.45.1->librosa) (49.2.0.post20200714)\n",
      "Requirement already satisfied: cffi>=1.0 in c:\\users\\pitu\\anaconda3\\lib\\site-packages (from soundfile>=0.10.2->librosa) (1.14.0)\n",
      "Requirement already satisfied: threadpoolctl>=2.0.0 in c:\\users\\pitu\\anaconda3\\lib\\site-packages (from scikit-learn>=0.19.1->librosa) (2.1.0)\n",
      "Requirement already satisfied: chardet<4,>=3.0.2 in c:\\users\\pitu\\anaconda3\\lib\\site-packages (from requests>=2.19.0->pooch>=1.0->librosa) (3.0.4)\n",
      "Requirement already satisfied: urllib3!=1.25.0,!=1.25.1,<1.26,>=1.21.1 in c:\\users\\pitu\\anaconda3\\lib\\site-packages (from requests>=2.19.0->pooch>=1.0->librosa) (1.25.9)\n",
      "Requirement already satisfied: idna<3,>=2.5 in c:\\users\\pitu\\anaconda3\\lib\\site-packages (from requests>=2.19.0->pooch>=1.0->librosa) (2.10)\n",
      "Requirement already satisfied: certifi>=2017.4.17 in c:\\users\\pitu\\anaconda3\\lib\\site-packages (from requests>=2.19.0->pooch>=1.0->librosa) (2020.6.20)\n",
      "Requirement already satisfied: pycparser in c:\\users\\pitu\\anaconda3\\lib\\site-packages (from cffi>=1.0->soundfile>=0.10.2->librosa) (2.20)\n"
     ]
    }
   ],
   "source": [
    "!pip install librosa\n"
   ]
  },
  {
   "cell_type": "code",
   "execution_count": 6,
   "id": "74724799",
   "metadata": {},
   "outputs": [],
   "source": [
    "import librosa \n"
   ]
  },
  {
   "cell_type": "raw",
   "id": "660fd218",
   "metadata": {},
   "source": [
    "!pip install resampy==0.3.1"
   ]
  },
  {
   "cell_type": "code",
   "execution_count": 146,
   "id": "1164c0c1",
   "metadata": {},
   "outputs": [],
   "source": [
    "y , sr = librosa.load(\"recetasvideos/receta1.wav\")"
   ]
  },
  {
   "cell_type": "code",
   "execution_count": 10,
   "id": "2a3b721c",
   "metadata": {},
   "outputs": [
    {
     "data": {
      "text/plain": [
       "211.77002267573695"
      ]
     },
     "execution_count": 10,
     "metadata": {},
     "output_type": "execute_result"
    }
   ],
   "source": [
    "duracion=float(len(y)/sr)\n",
    "duracion"
   ]
  },
  {
   "cell_type": "code",
   "execution_count": 147,
   "id": "ade44d23",
   "metadata": {},
   "outputs": [],
   "source": [
    "import matplotlib.pyplot as plt \n",
    "import librosa.display"
   ]
  },
  {
   "cell_type": "code",
   "execution_count": 149,
   "id": "6ea00754",
   "metadata": {},
   "outputs": [
    {
     "data": {
      "image/png": "[encoded data removed]",
      "text/plain": [
       "<Figure size 432x288 with 1 Axes>"
      ]
     },
     "metadata": {
      "needs_background": "light"
     },
     "output_type": "display_data"
    }
   ],
   "source": [
    "plt.figure()\n",
    "plt.subplot(3,1,1)\n",
    "librosa.display.waveshow(y,sr=sr)\n",
    "plt.show()\n"
   ]
  },
  {
   "cell_type": "code",
   "execution_count": 60,
   "id": "c517e625",
   "metadata": {},
   "outputs": [
    {
     "data": {
      "text/plain": [
       "numpy.ndarray"
      ]
     },
     "execution_count": 60,
     "metadata": {},
     "output_type": "execute_result"
    }
   ],
   "source": [
    "type(y)\n"
   ]
  },
  {
   "cell_type": "code",
   "execution_count": 49,
   "id": "cd7e582d",
   "metadata": {},
   "outputs": [
    {
     "data": {
      "text/plain": [
       "array([1.2358456e-11, 8.8294344e-11, 2.9518646e-10, ..., 8.4092680e-05,\n",
       "       6.4697474e-06, 1.8525194e-05], dtype=float32)"
      ]
     },
     "execution_count": 49,
     "metadata": {},
     "output_type": "execute_result"
    }
   ],
   "source": [
    "y[y>0.0]"
   ]
  },
  {
   "cell_type": "code",
   "execution_count": 57,
   "id": "7876d466",
   "metadata": {},
   "outputs": [],
   "source": [
    "\n",
    "audio=[]\n",
    "for i in range(len(y)):\n",
    "    if y[i]>=0.01:\n",
    "        audio.append(y[i])"
   ]
  },
  {
   "cell_type": "code",
   "execution_count": 62,
   "id": "0d06c574",
   "metadata": {},
   "outputs": [],
   "source": [
    "import numpy as np\n",
    "arr=np.array(audio)"
   ]
  },
  {
   "cell_type": "code",
   "execution_count": 63,
   "id": "8f0dff51",
   "metadata": {},
   "outputs": [
    {
     "data": {
      "text/plain": [
       "numpy.ndarray"
      ]
     },
     "execution_count": 63,
     "metadata": {},
     "output_type": "execute_result"
    }
   ],
   "source": [
    "type(arr)"
   ]
  },
  {
   "cell_type": "code",
   "execution_count": 66,
   "id": "93d08043",
   "metadata": {},
   "outputs": [
    {
     "data": {
      "text/plain": [
       "0.010000005"
      ]
     },
     "execution_count": 66,
     "metadata": {},
     "output_type": "execute_result"
    }
   ],
   "source": [
    "min(arr)"
   ]
  },
  {
   "cell_type": "code",
   "execution_count": 67,
   "id": "5feb156f",
   "metadata": {},
   "outputs": [
    {
     "data": {
      "text/plain": [
       "-1.005426"
      ]
     },
     "execution_count": 67,
     "metadata": {},
     "output_type": "execute_result"
    }
   ],
   "source": [
    "min(y)"
   ]
  },
  {
   "cell_type": "code",
   "execution_count": 68,
   "id": "34bfc6e1",
   "metadata": {},
   "outputs": [
    {
     "data": {
      "text/plain": [
       "211.77002267573695"
      ]
     },
     "execution_count": 68,
     "metadata": {},
     "output_type": "execute_result"
    }
   ],
   "source": [
    "len(y)/sr"
   ]
  },
  {
   "cell_type": "code",
   "execution_count": 71,
   "id": "48d21584",
   "metadata": {},
   "outputs": [
    {
     "data": {
      "text/plain": [
       "22050.0"
      ]
     },
     "execution_count": 71,
     "metadata": {},
     "output_type": "execute_result"
    }
   ],
   "source": [
    "len(y)/211.77002267573695"
   ]
  },
  {
   "cell_type": "code",
   "execution_count": 65,
   "id": "9c6f9a0d",
   "metadata": {},
   "outputs": [],
   "source": [
    "from pydub import AudioSegment as aseg\n",
    "\n",
    "\n"
   ]
  },
  {
   "cell_type": "code",
   "execution_count": 105,
   "id": "c481689f",
   "metadata": {},
   "outputs": [
    {
     "name": "stdout",
     "output_type": "stream",
     "text": [
      "<class 'pydub.audio_segment.AudioSegment'>\n"
     ]
    }
   ],
   "source": [
    "audio1=aseg.from_wav(\"./recetasvideos/receta1.wav\")\n",
    "tiempo=10 * 1000\n",
    "extr = audio1[:tiempo]\n",
    "#extr.export(\"pimerosSegundos.wav\",format=\"wav\")\n",
    "print(type(extr))"
   ]
  },
  {
   "cell_type": "code",
   "execution_count": 34,
   "id": "c3105bb5",
   "metadata": {},
   "outputs": [
    {
     "name": "stdout",
     "output_type": "stream",
     "text": [
      "<pydub.audio_segment.AudioSegment object at 0x000001D9EA8E0AF0>\n"
     ]
    }
   ],
   "source": [
    "print(a[1])"
   ]
  },
  {
   "cell_type": "code",
   "execution_count": 106,
   "id": "a92b06c4",
   "metadata": {},
   "outputs": [],
   "source": [
    "\n",
    "\n",
    "# this is an array\n",
    "samples = audio1.get_array_of_samples()\n",
    "\n",
    "\n",
    "\n"
   ]
  },
  {
   "cell_type": "markdown",
   "id": "b16eda1a",
   "metadata": {},
   "source": []
  },
  {
   "cell_type": "code",
   "execution_count": 90,
   "id": "4cd0cf6a",
   "metadata": {},
   "outputs": [],
   "source": [
    "import numpy as np\n",
    "lista1=samples.tolist()\n",
    "array1=np.array(lista1)"
   ]
  },
  {
   "cell_type": "code",
   "execution_count": 56,
   "id": "b521c8cf",
   "metadata": {},
   "outputs": [
    {
     "ename": "AttributeError",
     "evalue": "'list' object has no attribute 'export'",
     "output_type": "error",
     "traceback": [
      "\u001b[1;31m---------------------------------------------------------------------------\u001b[0m",
      "\u001b[1;31mAttributeError\u001b[0m                            Traceback (most recent call last)",
      "\u001b[1;32m<ipython-input-56-8374dda90657>\u001b[0m in \u001b[0;36m<module>\u001b[1;34m\u001b[0m\n\u001b[1;32m----> 1\u001b[1;33m \u001b[0marr2\u001b[0m\u001b[1;33m.\u001b[0m\u001b[0mexport\u001b[0m\u001b[1;33m(\u001b[0m\u001b[1;34m\"pruebamala.wav\"\u001b[0m\u001b[1;33m,\u001b[0m\u001b[0mformat\u001b[0m\u001b[1;33m=\u001b[0m\u001b[1;34m\"wav\"\u001b[0m\u001b[1;33m)\u001b[0m\u001b[1;33m\u001b[0m\u001b[1;33m\u001b[0m\u001b[0m\n\u001b[0m",
      "\u001b[1;31mAttributeError\u001b[0m: 'list' object has no attribute 'export'"
     ]
    }
   ],
   "source": [
    "arr2.export(\"pruebamala.wav\",format=\"wav\")"
   ]
  },
  {
   "cell_type": "code",
   "execution_count": 55,
   "id": "018e4d27",
   "metadata": {},
   "outputs": [
    {
     "ename": "NameError",
     "evalue": "name 'mean' is not defined",
     "output_type": "error",
     "traceback": [
      "\u001b[1;31m---------------------------------------------------------------------------\u001b[0m",
      "\u001b[1;31mNameError\u001b[0m                                 Traceback (most recent call last)",
      "\u001b[1;32m<ipython-input-55-0ba649297a7b>\u001b[0m in \u001b[0;36m<module>\u001b[1;34m\u001b[0m\n\u001b[1;32m----> 1\u001b[1;33m \u001b[0mmean\u001b[0m\u001b[1;33m(\u001b[0m\u001b[0marr2\u001b[0m\u001b[1;33m)\u001b[0m\u001b[1;33m\u001b[0m\u001b[1;33m\u001b[0m\u001b[0m\n\u001b[0m",
      "\u001b[1;31mNameError\u001b[0m: name 'mean' is not defined"
     ]
    }
   ],
   "source": [
    "new_sound = sound._spawn(array1)"
   ]
  },
  {
   "cell_type": "code",
   "execution_count": 88,
   "id": "27c118ab",
   "metadata": {},
   "outputs": [],
   "source": [
    "audio1=aseg.from_wav(\"./recetasvideos/receta1.wav\")"
   ]
  },
  {
   "cell_type": "code",
   "execution_count": 74,
   "id": "c61cd2de",
   "metadata": {},
   "outputs": [],
   "source": [
    "suma=0\n",
    "for i in lista1:\n",
    "    suma=suma+abs(i)\n",
    "media=suma/len(lista1)"
   ]
  },
  {
   "cell_type": "code",
   "execution_count": 75,
   "id": "6e7143f8",
   "metadata": {},
   "outputs": [
    {
     "data": {
      "text/plain": [
       "2088.6368606594865"
      ]
     },
     "execution_count": 75,
     "metadata": {},
     "output_type": "execute_result"
    }
   ],
   "source": [
    "media"
   ]
  },
  {
   "cell_type": "code",
   "execution_count": 73,
   "id": "a664dce9",
   "metadata": {},
   "outputs": [
    {
     "ename": "TypeError",
     "evalue": "bad operand type for abs(): 'list'",
     "output_type": "error",
     "traceback": [
      "\u001b[1;31m---------------------------------------------------------------------------\u001b[0m",
      "\u001b[1;31mTypeError\u001b[0m                                 Traceback (most recent call last)",
      "\u001b[1;32m<ipython-input-73-7fa9308b17df>\u001b[0m in \u001b[0;36m<module>\u001b[1;34m\u001b[0m\n\u001b[1;32m----> 1\u001b[1;33m \u001b[0myuy\u001b[0m\u001b[1;33m=\u001b[0m\u001b[0mabs\u001b[0m\u001b[1;33m(\u001b[0m\u001b[0mlista1\u001b[0m\u001b[1;33m)\u001b[0m\u001b[1;33m\u001b[0m\u001b[1;33m\u001b[0m\u001b[0m\n\u001b[0m",
      "\u001b[1;31mTypeError\u001b[0m: bad operand type for abs(): 'list'"
     ]
    }
   ],
   "source": [
    "yuy=abs(lista1)"
   ]
  },
  {
   "cell_type": "code",
   "execution_count": 97,
   "id": "81854eea",
   "metadata": {},
   "outputs": [],
   "source": [
    "nuevalista=[]\n",
    "for i in lista1:\n",
    "    if i<-10:\n",
    "        nuevalista.append(i)\n",
    "    if i>10:\n",
    "        nuevalista.append(i)\n",
    "\n",
    "        "
   ]
  },
  {
   "cell_type": "code",
   "execution_count": 79,
   "id": "204ad007",
   "metadata": {},
   "outputs": [
    {
     "data": {
      "text/plain": [
       "list"
      ]
     },
     "execution_count": 79,
     "metadata": {},
     "output_type": "execute_result"
    }
   ],
   "source": [
    "type(nuevalista)"
   ]
  },
  {
   "cell_type": "code",
   "execution_count": 104,
   "id": "ca811ae7",
   "metadata": {},
   "outputs": [
    {
     "data": {
      "text/plain": [
       "18678114"
      ]
     },
     "execution_count": 104,
     "metadata": {},
     "output_type": "execute_result"
    }
   ],
   "source": [
    "len(lista1)"
   ]
  },
  {
   "cell_type": "code",
   "execution_count": 96,
   "id": "19e02356",
   "metadata": {},
   "outputs": [
    {
     "data": {
      "text/plain": [
       "13099070"
      ]
     },
     "execution_count": 96,
     "metadata": {},
     "output_type": "execute_result"
    }
   ],
   "source": [
    "len(nuevalista)"
   ]
  },
  {
   "cell_type": "code",
   "execution_count": 98,
   "id": "c3c0b947",
   "metadata": {},
   "outputs": [],
   "source": [
    "nuevalistaArr=np.array(nuevalista)"
   ]
  },
  {
   "cell_type": "code",
   "execution_count": 101,
   "id": "e0da42da",
   "metadata": {},
   "outputs": [],
   "source": [
    "nuevalistaArr=np.array(lista1)"
   ]
  },
  {
   "cell_type": "code",
   "execution_count": 84,
   "id": "4b5bc71b",
   "metadata": {},
   "outputs": [
    {
     "ename": "AttributeError",
     "evalue": "'numpy.ndarray' object has no attribute 'export'",
     "output_type": "error",
     "traceback": [
      "\u001b[1;31m---------------------------------------------------------------------------\u001b[0m",
      "\u001b[1;31mAttributeError\u001b[0m                            Traceback (most recent call last)",
      "\u001b[1;32m<ipython-input-84-539b9976d3a6>\u001b[0m in \u001b[0;36m<module>\u001b[1;34m\u001b[0m\n\u001b[1;32m----> 1\u001b[1;33m \u001b[0mnuevalistaArr\u001b[0m\u001b[1;33m.\u001b[0m\u001b[0mexport\u001b[0m\u001b[1;33m(\u001b[0m\u001b[1;34m\"pruebamala2.wav\"\u001b[0m\u001b[1;33m,\u001b[0m\u001b[0mformat\u001b[0m\u001b[1;33m=\u001b[0m\u001b[1;34m\"wav\"\u001b[0m\u001b[1;33m)\u001b[0m\u001b[1;33m\u001b[0m\u001b[1;33m\u001b[0m\u001b[0m\n\u001b[0m",
      "\u001b[1;31mAttributeError\u001b[0m: 'numpy.ndarray' object has no attribute 'export'"
     ]
    }
   ],
   "source": [
    "nuevalistaArr.export(\"pruebamala2.wav\",format=\"wav\")"
   ]
  },
  {
   "cell_type": "code",
   "execution_count": 107,
   "id": "7fd39a22",
   "metadata": {},
   "outputs": [],
   "source": [
    "new_sound = audio1._spawn(nuevalistaArr)"
   ]
  },
  {
   "cell_type": "code",
   "execution_count": 109,
   "id": "36a57157",
   "metadata": {},
   "outputs": [
    {
     "data": {
      "text/plain": [
       "<_io.BufferedRandom name='pruebamala5.wav'>"
      ]
     },
     "execution_count": 109,
     "metadata": {},
     "output_type": "execute_result"
    }
   ],
   "source": [
    "audio1.export(\"pruebamala5.wav\",format=\"wav\")"
   ]
  },
  {
   "cell_type": "code",
   "execution_count": 110,
   "id": "9eb05cac",
   "metadata": {},
   "outputs": [
    {
     "data": {
      "text/plain": [
       "pydub.audio_segment.AudioSegment"
      ]
     },
     "execution_count": 110,
     "metadata": {},
     "output_type": "execute_result"
    }
   ],
   "source": [
    "type(new_sound)"
   ]
  },
  {
   "cell_type": "code",
   "execution_count": 138,
   "id": "48c2e65e",
   "metadata": {},
   "outputs": [],
   "source": [
    "import numpy as np\n",
    "from pydub import AudioSegment as aseg"
   ]
  },
  {
   "cell_type": "code",
   "execution_count": 139,
   "id": "371fd716",
   "metadata": {},
   "outputs": [],
   "source": [
    "audio1=aseg.from_wav(\"./recetasvideos/receta1.wav\")\n",
    "\n",
    "# this is an array\n",
    "samples = audio1.get_array_of_samples()"
   ]
  },
  {
   "cell_type": "code",
   "execution_count": null,
   "id": "dbcb7593",
   "metadata": {},
   "outputs": [],
   "source": [
    "\n",
    "\n",
    "audio1=aseg.from_wav(\"./recetasvideos/receta1.wav\")\n",
    "\n",
    "# this is an array\n",
    "samples = audio1.get_array_of_samples()\n",
    "\n",
    "lista1=samples.tolist()\n",
    "\n",
    "nuevalista=[]\n",
    "for i in lista1:\n",
    "    if i<-10:\n",
    "        nuevalista.append(i)\n",
    "    if i>10:\n",
    "        nuevalista.append(i)\n",
    "        \n",
    "nuevalistaArr=np.array(nuevalista)\n",
    "\n",
    "new_sound = audio1._spawn(nuevalistaArr)\n",
    "\n",
    "audio1.export(\"pruebamala5.wav\",format=\"wav\")\n"
   ]
  },
  {
   "cell_type": "code",
   "execution_count": 126,
   "id": "ef6e02aa",
   "metadata": {},
   "outputs": [
    {
     "data": {
      "text/plain": [
       "<_io.BufferedRandom name='pruebamala10.wav'>"
      ]
     },
     "execution_count": 126,
     "metadata": {},
     "output_type": "execute_result"
    }
   ],
   "source": [
    "import numpy as np\n",
    "from pydub import AudioSegment as aseg\n",
    "\n",
    "audio1=aseg.from_wav(\"./recetasvideos/receta1.wav\")\n",
    "\n",
    "# this is an array\n",
    "samples = audio1.get_array_of_samples()\n",
    "\n",
    "nuevalista=np.array\n",
    "for i in samples:\n",
    "    nuevalista.extend(i)\n",
    "\n",
    "        \n",
    "new_sound = audio1._spawn(hola)\n",
    "\n",
    "new_sound.export(\"pruebamala10.wav\",format=\"wav\")\n"
   ]
  },
  {
   "cell_type": "code",
   "execution_count": 150,
   "id": "9dd99b9f",
   "metadata": {},
   "outputs": [],
   "source": [
    "\n",
    "index=[]\n",
    "for i in range(len(samples)):\n",
    "    if -500<=samples[i]<=500:\n",
    "        index.append(i)\n",
    "\n",
    "\n",
    "    "
   ]
  },
  {
   "cell_type": "code",
   "execution_count": 151,
   "id": "287c2e18",
   "metadata": {},
   "outputs": [
    {
     "data": {
      "text/plain": [
       "10987289"
      ]
     },
     "execution_count": 151,
     "metadata": {},
     "output_type": "execute_result"
    }
   ],
   "source": [
    "len(samples)"
   ]
  },
  {
   "cell_type": "code",
   "execution_count": 142,
   "id": "e39603ee",
   "metadata": {},
   "outputs": [
    {
     "data": {
      "text/plain": [
       "7690825"
      ]
     },
     "execution_count": 142,
     "metadata": {},
     "output_type": "execute_result"
    }
   ],
   "source": [
    "len(index)"
   ]
  },
  {
   "cell_type": "code",
   "execution_count": 172,
   "id": "9167d18e",
   "metadata": {
    "collapsed": true,
    "jupyter": {
     "outputs_hidden": true
    }
   },
   "outputs": [
    {
     "name": "stdout",
     "output_type": "stream",
     "text": [
      "18678114\n",
      "ya está creado el index\n",
      "619595\n",
      "10000\n",
      "20000\n",
      "30000\n",
      "40000\n",
      "50000\n",
      "60000\n",
      "70000\n",
      "80000\n",
      "90000\n"
     ]
    },
    {
     "ename": "KeyboardInterrupt",
     "evalue": "",
     "output_type": "error",
     "traceback": [
      "\u001b[1;31m---------------------------------------------------------------------------\u001b[0m",
      "\u001b[1;31mKeyboardInterrupt\u001b[0m                         Traceback (most recent call last)",
      "\u001b[1;32m<ipython-input-172-3f4cbdc09e4c>\u001b[0m in \u001b[0;36m<module>\u001b[1;34m\u001b[0m\n\u001b[0;32m     22\u001b[0m     \u001b[1;32melse\u001b[0m\u001b[1;33m:\u001b[0m\u001b[1;33m\u001b[0m\u001b[1;33m\u001b[0m\u001b[0m\n\u001b[0;32m     23\u001b[0m         \u001b[0msamples\u001b[0m\u001b[1;33m.\u001b[0m\u001b[0mpop\u001b[0m\u001b[1;33m(\u001b[0m\u001b[0mindex\u001b[0m\u001b[1;33m[\u001b[0m\u001b[0mj\u001b[0m\u001b[1;33m]\u001b[0m\u001b[1;33m-\u001b[0m\u001b[0mi\u001b[0m\u001b[1;33m)\u001b[0m\u001b[1;33m\u001b[0m\u001b[1;33m\u001b[0m\u001b[0m\n\u001b[1;32m---> 24\u001b[1;33m     \u001b[1;32mif\u001b[0m \u001b[0mi\u001b[0m\u001b[1;33m%\u001b[0m\u001b[1;36m10000\u001b[0m\u001b[1;33m==\u001b[0m\u001b[1;36m0\u001b[0m\u001b[1;33m:\u001b[0m\u001b[1;33m\u001b[0m\u001b[1;33m\u001b[0m\u001b[0m\n\u001b[0m\u001b[0;32m     25\u001b[0m         \u001b[0mprint\u001b[0m\u001b[1;33m(\u001b[0m\u001b[0mi\u001b[0m\u001b[1;33m)\u001b[0m\u001b[1;33m\u001b[0m\u001b[1;33m\u001b[0m\u001b[0m\n\u001b[0;32m     26\u001b[0m \u001b[1;33m\u001b[0m\u001b[0m\n",
      "\u001b[1;31mKeyboardInterrupt\u001b[0m: "
     ]
    }
   ],
   "source": [
    "import numpy as np\n",
    "from pydub import AudioSegment as aseg\n",
    "\n",
    "audio1=aseg.from_wav(\"./recetasvideos/receta1.wav\")\n",
    "# this is an array\n",
    "samples = audio1.get_array_of_samples()\n",
    "\n",
    "print(len(samples))\n",
    "\n",
    "index=[]\n",
    "for i in range(len(samples)):\n",
    "    if -10<=samples[i]<=10:\n",
    "        index.append(i)\n",
    "print(\"ya está creado el index\")\n",
    "print(len(index))\n",
    "np.delete(samples, index, axis=None)\n",
    "#importante el -1 para que se borre el elemento adecuado\n",
    "i=0\n",
    "for j in range(len(index)):\n",
    "    i=i+1\n",
    "    if j==0:\n",
    "        samples.pop(index[j])\n",
    "    else:\n",
    "        samples.pop(index[j]-i)\n",
    "    if i%10000==0:\n",
    "        print(i)\n",
    "\n",
    "new_sound = audio1._spawn(samples)\n",
    "\n",
    "new_sound.export(\"pruebamala12.wav\",format=\"wav\")"
   ]
  },
  {
   "cell_type": "code",
   "execution_count": 198,
   "id": "cd5afe00",
   "metadata": {},
   "outputs": [
    {
     "name": "stdout",
     "output_type": "stream",
     "text": [
      "18678114\n"
     ]
    },
    {
     "data": {
      "text/plain": [
       "<_io.BufferedRandom name='pruebamala13.wav'>"
      ]
     },
     "execution_count": 198,
     "metadata": {},
     "output_type": "execute_result"
    }
   ],
   "source": [
    "import numpy as np\n",
    "from pydub import AudioSegment as aseg\n",
    "\n",
    "audio1=aseg.from_wav(\"./recetasvideos/receta1.wav\")\n",
    "# this is an array\n",
    "samples = audio1.get_array_of_samples()\n",
    "tiempo = int(audio1.duration_seconds)*1000\n",
    "print(len(samples))\n",
    "\n",
    "aux=samples\n",
    "for i in range(len(aux)):\n",
    "    if -50<=aux[i]<=50:\n",
    "        samples.append(aux[i])\n",
    "        \n",
    "\n",
    "\n",
    "new_sound = audio1._spawn(samples)\n",
    "new_sound2=audio1[:10000]\n",
    "new_sound.export(\"pruebamala13.wav\",format=\"wav\")"
   ]
  },
  {
   "cell_type": "code",
   "execution_count": 210,
   "id": "4737bafb",
   "metadata": {},
   "outputs": [
    {
     "name": "stdout",
     "output_type": "stream",
     "text": [
      "18678114\n",
      "ya está creado el index\n",
      "3357630\n",
      "15320484\n"
     ]
    },
    {
     "data": {
      "text/plain": [
       "<_io.BufferedRandom name='pruebamala14.wav'>"
      ]
     },
     "execution_count": 210,
     "metadata": {},
     "output_type": "execute_result"
    }
   ],
   "source": [
    "# esta es la función buena. Aún hace falta implementar un par de cosas. Lo haré cuando pueda\n",
    "\n",
    "import numpy as np\n",
    "from pydub import AudioSegment as aseg\n",
    "\n",
    "audio1=aseg.from_wav(\"./recetasvideos/receta1.wav\")\n",
    "# this is an array\n",
    "samples = audio1.get_array_of_samples()\n",
    "\n",
    "print(len(samples))\n",
    "\n",
    "index=[]\n",
    "for i in range(len(samples)):\n",
    "    if -75<=samples[i]<=75:\n",
    "        index.append(i)\n",
    "        \n",
    "print(\"ya está creado el index\")\n",
    "print(len(index))\n",
    "\n",
    "samples=np.delete(samples, index, axis=0)\n",
    "print(len(samples))\n",
    "new_sound = audio1._spawn(samples)\n",
    "new_sound.export(\"pruebamala14.wav\",format=\"wav\")"
   ]
  },
  {
   "cell_type": "code",
   "execution_count": 67,
   "id": "6479b6fc",
   "metadata": {},
   "outputs": [],
   "source": [
    "# esta es la función buena. Aún hace falta implementar un par de cosas. Lo haré cuando pueda\n",
    "def segcionarXsilencios():\n",
    "    import numpy as np\n",
    "    from pydub import AudioSegment as aseg\n",
    "\n",
    "    audio1=aseg.from_wav(\"./recetasvideos/receta1.wav\")\n",
    "    # this is an array\n",
    "    samples = audio1.get_array_of_samples()\n",
    "    segundo=88521\n",
    "    index=[]\n",
    "    for i in range(0,len(samples),int(segundo/5)):\n",
    "        dataSeg = samples[i:int(segundo/5)+i]\n",
    "        media=np.mean(dataSeg)\n",
    "        var=np.var(dataSeg)\n",
    "        if -10<=media<=10 and var<=1900:\n",
    "            index.append(i)\n",
    "\n",
    "    print(index)\n",
    "    borrar=[]\n",
    "    for i in range(len(index)-1):\n",
    "        if index[i+1]<=index[i]+(20*segundo):\n",
    "            borrar.append(i+1)\n",
    "    final=np.delete(index, borrar, axis=0) \n",
    "    print(\"------------------------------------------------\")\n",
    "    print(final)\n",
    "\n",
    "    extractos=[]\n",
    "    for i in range(len(final)):\n",
    "        if i==0:\n",
    "\n",
    "            extractos.append(samples[:final[i]])\n",
    "        else:\n",
    "            extractos.append(samples[final[i-1]:final[i]])\n",
    "\n",
    "    for i in range(len(extractos)):\n",
    "        new_sound = audio1._spawn(extractos[i])\n",
    "        nombre=\"extracto{}.wav\".format(i+1)\n",
    "        new_sound.export(nombre,format=\"wav\")\n",
    "    "
   ]
  },
  {
   "cell_type": "code",
   "execution_count": 69,
   "id": "e2e2cf63",
   "metadata": {},
   "outputs": [
    {
     "data": {
      "text/plain": [
       "1900.5273728407594"
      ]
     },
     "execution_count": 69,
     "metadata": {},
     "output_type": "execute_result"
    }
   ],
   "source": [
    "import random\n",
    "hola=[]\n",
    "for i in range(1000000):\n",
    "    hola.append(random.randint(-75, 75))\n",
    "adios=np.var(hola)\n",
    "adios"
   ]
  },
  {
   "cell_type": "code",
   "execution_count": 55,
   "id": "c097e306",
   "metadata": {},
   "outputs": [
    {
     "name": "stdout",
     "output_type": "stream",
     "text": [
      "nan\n",
      "15108596.88101333\n",
      "14883638.534792336\n",
      "8751655.845979555\n",
      "21192.20384188451\n",
      "10971.868435869377\n",
      "13377044.465095254\n",
      "9462227.905044982\n",
      "6333.421377493055\n",
      "8042014.246742038\n",
      "5002925.649062543\n",
      "5532.596550691872\n",
      "7444892.345217807\n",
      "6531.823463070674\n",
      "6050.940354663494\n",
      "16544711.665650671\n",
      "4234.699022222222\n",
      "5302.827108506616\n",
      "3871.575418220914\n",
      "14380302.30661455\n",
      "11887644.001168283\n",
      "6855.005733846063\n",
      "14811300.942993259\n",
      "17650448.58182296\n",
      "7560030.406683207\n",
      "3046.778940902344\n",
      "10232588.339794742\n",
      "4252.271785749375\n",
      "15955067.03353559\n",
      "4152.826176578231\n",
      "3110.8993823317865\n",
      "3378.259064962805\n",
      "529342.3549877212\n",
      "2922.1233470486113\n",
      "4538.430361817952\n",
      "4752.657485628857\n",
      "14123426.69278463\n",
      "8265.149413273673\n",
      "3793.617328785395\n",
      "5454.970253513313\n",
      "4504.057950289941\n"
     ]
    },
    {
     "name": "stderr",
     "output_type": "stream",
     "text": [
      "C:\\Users\\pitu\\anaconda3\\lib\\site-packages\\numpy\\core\\fromnumeric.py:3583: RuntimeWarning: Degrees of freedom <= 0 for slice\n",
      "  return _methods._var(a, axis=axis, dtype=dtype, out=out, ddof=ddof,\n",
      "C:\\Users\\pitu\\anaconda3\\lib\\site-packages\\numpy\\core\\_methods.py:185: RuntimeWarning: invalid value encountered in true_divide\n",
      "  arrmean = um.true_divide(\n",
      "C:\\Users\\pitu\\anaconda3\\lib\\site-packages\\numpy\\core\\_methods.py:209: RuntimeWarning: invalid value encountered in double_scalars\n",
      "  ret = ret.dtype.type(ret / rcount)\n"
     ]
    }
   ],
   "source": [
    "for i in range(len(extractos)):\n",
    "    print(np.var(extractos[i]))"
   ]
  },
  {
   "cell_type": "code",
   "execution_count": 59,
   "id": "b38792ce",
   "metadata": {},
   "outputs": [
    {
     "data": {
      "text/plain": [
       "88521.8672985782"
      ]
     },
     "execution_count": 59,
     "metadata": {},
     "output_type": "execute_result"
    }
   ],
   "source": [
    "len(samples)/211"
   ]
  },
  {
   "cell_type": "code",
   "execution_count": 58,
   "id": "49a28adc",
   "metadata": {},
   "outputs": [],
   "source": []
  },
  {
   "cell_type": "code",
   "execution_count": 193,
   "id": "d545a694",
   "metadata": {},
   "outputs": [
    {
     "data": {
      "text/plain": [
       "<_io.BufferedRandom name='pruebamala12.wav'>"
      ]
     },
     "execution_count": 193,
     "metadata": {},
     "output_type": "execute_result"
    }
   ],
   "source": [
    "samples2=samples[:10000]\n",
    "\n",
    "new_sound = audio1._spawn(samples2)\n",
    "\n",
    "new_sound.export(\"pruebamala12.wav\",format=\"wav\")"
   ]
  },
  {
   "cell_type": "code",
   "execution_count": 145,
   "id": "960e4ee8",
   "metadata": {},
   "outputs": [
    {
     "data": {
      "text/plain": [
       "<_io.BufferedRandom name='pruebamala12.wav'>"
      ]
     },
     "execution_count": 145,
     "metadata": {},
     "output_type": "execute_result"
    }
   ],
   "source": [
    "new_sound = audio1._spawn(samples)\n",
    "\n",
    "new_sound.export(\"pruebamala12.wav\",format=\"wav\")"
   ]
  },
  {
   "cell_type": "code",
   "execution_count": null,
   "id": "1ac0350d",
   "metadata": {},
   "outputs": [],
   "source": []
  }
 ],
 "metadata": {
  "kernelspec": {
   "display_name": "Python 3 (ipykernel)",
   "language": "python",
   "name": "python3"
  },
  "language_info": {
   "codemirror_mode": {
    "name": "ipython",
    "version": 3
   },
   "file_extension": ".py",
   "mimetype": "text/x-python",
   "name": "python",
   "nbconvert_exporter": "python",
   "pygments_lexer": "ipython3",
   "version": "3.9.13"
  }
 },
 "nbformat": 4,
 "nbformat_minor": 5
}
