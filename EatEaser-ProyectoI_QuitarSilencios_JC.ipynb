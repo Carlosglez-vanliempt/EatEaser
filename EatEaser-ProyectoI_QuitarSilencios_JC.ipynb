{
 "cells": [
  {
   "cell_type": "markdown",
   "id": "695c3bb9",
   "metadata": {},
   "source": [
    "<div style='width=100%; display:flex;flex-direction:row'><img  src=https://universidadeuropea.com/resources/media/images/universidad-europea-logo_poc9mEM.original.png width=100  style='  margin-left: auto;margin-right: auto; width: 25%; height:25%;'><img  src=https://i.ibb.co/1068C7j/EATEASER.jpg width=100 style='  margin-left: auto;margin-right: auto; width: 10%;height:25%;'></div>"
   ]
  },
  {
   "cell_type": "markdown",
   "id": "29164d65",
   "metadata": {},
   "source": [
    "<div style='margin:auto;text-align: center;font-family: \"Times New Roman\", Times, serif; font-weight: bold;'>PROYECTO COMUTACIONAL<br><br>EATEASER - VOZ A TEXTO</div>"
   ]
  },
  {
   "cell_type": "markdown",
   "id": "7f4aa2ba",
   "metadata": {},
   "source": [
    "<div style='width:100%; display:flex;flex-direction:row'>\n",
    "    <div style='width:50%;margin-right:5cm;'>\n",
    "        <p style='font-family: \"Times New Roman\", Times, serif; font-weight: bold;'>ESTUDIANTES</p>\n",
    "<ul style='font-family: \"Times New Roman\", Times, serif;'>\n",
    "    <li>Adilem Dobras 21911633</li><li>Roberto Echevarria 21823680</li><li>Carlos Gonzales 22067726</li><li>Juan Carlos Rondeau 21816176</li></ul> </div>\n",
    "\n",
    "</div>"
   ]
  },
  {
   "cell_type": "markdown",
   "id": "69000c99",
   "metadata": {},
   "source": [
    "<h2 style=\"font-size: 19px;color:#6DA0FF;font-family:Georgia, Times, 'Times New Roman', serif;letter-spacing: 3px;font-weight: normal\">1. Importamos las librerias</h2>"
   ]
  },
  {
   "cell_type": "code",
   "execution_count": 1,
   "id": "76b49447",
   "metadata": {},
   "outputs": [
    {
     "name": "stdout",
     "output_type": "stream",
     "text": [
      "Requirement already satisfied: pytube in c:\\users\\pitu\\appdata\\local\\programs\\python\\python310\\lib\\site-packages (12.1.0)\n"
     ]
    },
    {
     "name": "stderr",
     "output_type": "stream",
     "text": [
      "\n",
      "[notice] A new release of pip available: 22.3 -> 22.3.1\n",
      "[notice] To update, run: python.exe -m pip install --upgrade pip\n"
     ]
    },
    {
     "name": "stdout",
     "output_type": "stream",
     "text": [
      "Requirement already satisfied: SpeechRecognition in c:\\users\\pitu\\appdata\\local\\programs\\python\\python310\\lib\\site-packages (3.8.1)\n"
     ]
    },
    {
     "name": "stderr",
     "output_type": "stream",
     "text": [
      "\n",
      "[notice] A new release of pip available: 22.3 -> 22.3.1\n",
      "[notice] To update, run: python.exe -m pip install --upgrade pip\n"
     ]
    },
    {
     "name": "stdout",
     "output_type": "stream",
     "text": [
      "Requirement already satisfied: pydub in c:\\users\\pitu\\appdata\\local\\programs\\python\\python310\\lib\\site-packages (0.25.1)\n"
     ]
    },
    {
     "name": "stderr",
     "output_type": "stream",
     "text": [
      "\n",
      "[notice] A new release of pip available: 22.3 -> 22.3.1\n",
      "[notice] To update, run: python.exe -m pip install --upgrade pip\n"
     ]
    },
    {
     "name": "stdout",
     "output_type": "stream",
     "text": [
      "Requirement already satisfied: moviepy in c:\\users\\pitu\\appdata\\local\\programs\\python\\python310\\lib\\site-packages (1.0.3)\n",
      "Requirement already satisfied: decorator<5.0,>=4.0.2 in c:\\users\\pitu\\appdata\\local\\programs\\python\\python310\\lib\\site-packages (from moviepy) (4.4.2)\n",
      "Requirement already satisfied: tqdm<5.0,>=4.11.2 in c:\\users\\pitu\\appdata\\local\\programs\\python\\python310\\lib\\site-packages (from moviepy) (4.64.0)\n",
      "Requirement already satisfied: requests<3.0,>=2.8.1 in c:\\users\\pitu\\appdata\\local\\programs\\python\\python310\\lib\\site-packages (from moviepy) (2.28.1)\n",
      "Requirement already satisfied: proglog<=1.0.0 in c:\\users\\pitu\\appdata\\local\\programs\\python\\python310\\lib\\site-packages (from moviepy) (0.1.9)\n",
      "Requirement already satisfied: numpy>=1.17.3 in c:\\users\\pitu\\appdata\\local\\programs\\python\\python310\\lib\\site-packages (from moviepy) (1.22.3)\n",
      "Requirement already satisfied: imageio<3.0,>=2.5 in c:\\users\\pitu\\appdata\\local\\programs\\python\\python310\\lib\\site-packages (from moviepy) (2.18.0)\n",
      "Requirement already satisfied: imageio_ffmpeg>=0.2.0 in c:\\users\\pitu\\appdata\\local\\programs\\python\\python310\\lib\\site-packages (from moviepy) (0.4.7)\n",
      "Requirement already satisfied: pillow>=8.3.2 in c:\\users\\pitu\\appdata\\local\\programs\\python\\python310\\lib\\site-packages (from imageio<3.0,>=2.5->moviepy) (9.1.0)\n",
      "Requirement already satisfied: charset-normalizer<3,>=2 in c:\\users\\pitu\\appdata\\local\\programs\\python\\python310\\lib\\site-packages (from requests<3.0,>=2.8.1->moviepy) (2.0.12)\n",
      "Requirement already satisfied: urllib3<1.27,>=1.21.1 in c:\\users\\pitu\\appdata\\local\\programs\\python\\python310\\lib\\site-packages (from requests<3.0,>=2.8.1->moviepy) (1.26.9)\n",
      "Requirement already satisfied: certifi>=2017.4.17 in c:\\users\\pitu\\appdata\\local\\programs\\python\\python310\\lib\\site-packages (from requests<3.0,>=2.8.1->moviepy) (2021.10.8)\n",
      "Requirement already satisfied: idna<4,>=2.5 in c:\\users\\pitu\\appdata\\local\\programs\\python\\python310\\lib\\site-packages (from requests<3.0,>=2.8.1->moviepy) (3.3)\n",
      "Requirement already satisfied: colorama in c:\\users\\pitu\\appdata\\local\\programs\\python\\python310\\lib\\site-packages (from tqdm<5.0,>=4.11.2->moviepy) (0.4.4)\n"
     ]
    },
    {
     "name": "stderr",
     "output_type": "stream",
     "text": [
      "\n",
      "[notice] A new release of pip available: 22.3 -> 22.3.1\n",
      "[notice] To update, run: python.exe -m pip install --upgrade pip\n"
     ]
    },
    {
     "name": "stdout",
     "output_type": "stream",
     "text": [
      "Requirement already satisfied: beautifulsoup4 in c:\\users\\pitu\\appdata\\local\\programs\\python\\python310\\lib\\site-packages (4.11.1)\n",
      "Requirement already satisfied: soupsieve>1.2 in c:\\users\\pitu\\appdata\\local\\programs\\python\\python310\\lib\\site-packages (from beautifulsoup4) (2.3.2)\n"
     ]
    },
    {
     "name": "stderr",
     "output_type": "stream",
     "text": [
      "\n",
      "[notice] A new release of pip available: 22.3 -> 22.3.1\n",
      "[notice] To update, run: python.exe -m pip install --upgrade pip\n"
     ]
    },
    {
     "name": "stdout",
     "output_type": "stream",
     "text": [
      "Requirement already satisfied: nltk in c:\\users\\pitu\\appdata\\local\\programs\\python\\python310\\lib\\site-packages (3.7)\n",
      "Requirement already satisfied: regex>=2021.8.3 in c:\\users\\pitu\\appdata\\local\\programs\\python\\python310\\lib\\site-packages (from nltk) (2022.10.31)\n",
      "Requirement already satisfied: joblib in c:\\users\\pitu\\appdata\\local\\programs\\python\\python310\\lib\\site-packages (from nltk) (1.1.0)\n",
      "Requirement already satisfied: tqdm in c:\\users\\pitu\\appdata\\local\\programs\\python\\python310\\lib\\site-packages (from nltk) (4.64.0)\n",
      "Requirement already satisfied: click in c:\\users\\pitu\\appdata\\local\\programs\\python\\python310\\lib\\site-packages (from nltk) (8.1.3)\n",
      "Requirement already satisfied: colorama in c:\\users\\pitu\\appdata\\local\\programs\\python\\python310\\lib\\site-packages (from click->nltk) (0.4.4)\n"
     ]
    },
    {
     "name": "stderr",
     "output_type": "stream",
     "text": [
      "\n",
      "[notice] A new release of pip available: 22.3 -> 22.3.1\n",
      "[notice] To update, run: python.exe -m pip install --upgrade pip\n"
     ]
    }
   ],
   "source": [
    "\n",
    "!pip install pytube\n",
    "!pip install SpeechRecognition\n",
    "!pip install pydub\n",
    "!pip install moviepy\n",
    "!pip install beautifulsoup4\n",
    "!pip install nltk\n"
   ]
  },
  {
   "cell_type": "code",
   "execution_count": 2,
   "id": "c7f4d13d",
   "metadata": {},
   "outputs": [
    {
     "name": "stderr",
     "output_type": "stream",
     "text": [
      "C:\\Users\\pitu\\AppData\\Local\\Programs\\Python\\Python310\\lib\\site-packages\\pydub\\utils.py:170: RuntimeWarning: Couldn't find ffmpeg or avconv - defaulting to ffmpeg, but may not work\n",
      "  warn(\"Couldn't find ffmpeg or avconv - defaulting to ffmpeg, but may not work\", RuntimeWarning)\n"
     ]
    }
   ],
   "source": [
    "from pytube import YouTube\n",
    "import speech_recognition as sr\n",
    "from pydub import AudioSegment\n",
    "import moviepy.editor as mp\n",
    "from bs4 import BeautifulSoup\n",
    "import glob\n",
    "import os\n",
    "import re\n",
    "from os import listdir\n",
    "from nltk.stem import PorterStemmer\n",
    "from nltk.tokenize import word_tokenize\n",
    "import requests\n",
    "from pydub.silence import split_on_silence"
   ]
  },
  {
   "cell_type": "markdown",
   "id": "5fd71c0e",
   "metadata": {},
   "source": [
    "<h2 style=\"font-size: 19px;color:#6DA0FF;font-family:Georgia, Times, 'Times New Roman', serif;letter-spacing: 3px;font-weight: normal\">2. Inicio del programa</h2>"
   ]
  },
  {
   "cell_type": "markdown",
   "id": "c4027348",
   "metadata": {},
   "source": [
    "<h3  style='font-family: \"Times New Roman\", Times, serif; font-weight: bold;text-align:center;font-size:14px'>CLASE CONTROLADORVIDEO</h3><p style='font-family: \"Times New Roman\", Times, serif; font-size:14px'>En esta clase se realizará los ajustes para manejar el video recibido y manipularlo.</p>\n"
   ]
  },
  {
   "cell_type": "code",
   "execution_count": 125,
   "id": "89f61d50",
   "metadata": {},
   "outputs": [],
   "source": [
    "class ControladorVideo:\n",
    "    def __init__(self,enlace): \n",
    "        self._idvideo = 0\n",
    "        self.enlacevideo=enlace\n",
    "        self.yt=YouTube(self.enlacevideo)\n",
    "        self.nombrevideo=''\n",
    "        self.titulovideo=self.yt.title\n",
    "        self.autorvideo=self.yt.author\n",
    "        self.fechavideo=self.yt.publish_date\n",
    "        self.duracionvideo=self.yt.length\n",
    "    \"\"\"|DESCARGAR VIDEO URL: descarga el video de youtube\n",
    "       |return: devuelve una ruta absoluta\"\"\"\n",
    "    def descargarVideoURL(self):\n",
    "        recetasVideos = 'recetasvideos/'\n",
    "        #aqui creo un nuevo id para el nuevo video\n",
    "        self._idvideo= self._idvideo+1\n",
    "        #esta sera el archivo del video y su nuevo nombre\n",
    "        nombre='receta'+str(self._idvideo)\n",
    "        #le pedimos al pytube que solo nos descargue el audio y lo descargamos\n",
    "        t=self.yt.streams.filter(file_extension='mp4').first().download(output_path=recetasVideos,filename=nombre+'.mp4')\n",
    "        #devolvemos el nombre\n",
    "        return nombre\n",
    "    \"\"\"|PARSEO VIDEO: pasa el video de .mp4 a .wav\n",
    "       |nombre: es un string que se colocara el nombre del video\n",
    "       |return: devuelve el nuevo nombre del audio en .wav\"\"\"\n",
    "    def parseoVideo(self,nombre):\n",
    "        recetasVideos = 'recetasvideos/'\n",
    "        #tomamos el video en mp4 \n",
    "        track = mp.VideoFileClip(recetasVideos+nombre+'.mp4')\n",
    "        #cambiamos el video a .wav\n",
    "        nombre_wav=\"{}.wav\".format(nombre)\n",
    "        track.audio.write_audiofile(recetasVideos+nombre_wav)\n",
    "        track.close()\n",
    "        return nombre\n",
    "   # def reenumerar(): \"\"\" EN PROCESO, para leer el directorio y añadir receta n + 1 \"\"\"\n",
    "       # dir = []\n",
    "        #for archivo in listdir(\"./recetasvideos\"):\n",
    "        #    dir.append(archivo)\n",
    "        #print(dir)\n",
    "    \"\"\"|SPEECH TEXT:Transforma el audio a texto\n",
    "       |nombre: es un string que se colocara el nombre del video\n",
    "       |return: devuelve un string con el texto devuelto\"\"\"\n",
    "    def speech_text(self,nombre):\n",
    "        recetasVideos = 'recetasvideos/'\n",
    "        #instanciamos el recognizer\n",
    "        print(recetasVideos+nombre)\n",
    "        r = sr.Recognizer()\n",
    "        audio = sr.AudioFile(recetasVideos+nombre)\n",
    "        with audio as source:\n",
    "            audio_file = r.record(source)\n",
    "        #transcribimos el audio a texto\n",
    "        result = r.recognize_google(audio_file, language = 'es-ES')\n",
    "        return result\n",
    "            \n",
    "        \n",
    "        "
   ]
  },
  {
   "cell_type": "markdown",
   "id": "67382be4",
   "metadata": {
    "tags": []
   },
   "source": [
    "<h3  style='font-family: \"Times New Roman\", Times, serif; font-weight: bold;text-align:center;font-size:14px'>CLASE DEPURADOR</h3><p style='font-family: \"Times New Roman\", Times, serif; font-size:14px'>En esta clase se realizará el proceso de extraccion, transformacion y carga de nuestro programa EATEASER.</p>\n"
   ]
  },
  {
   "cell_type": "code",
   "execution_count": 126,
   "id": "28449331",
   "metadata": {},
   "outputs": [],
   "source": [
    "#aqui iran lecturas-escrituras-guardar-eliminar cosas en bases de datos\n",
    "class RecursosAdicionales:\n",
    "    \"\"\"|ESCRITURA: escribe textos txt\n",
    "       |nombre: nombre del \n",
    "       |return: devuelve el audio en texto\"\"\"\n",
    "    #yo siento que en vez de cambiar de carpeta los textos...deberiamos eliminar los mp4\n",
    "    #y si lo mas factible aqui es que guardemos el video por su nombre?\n",
    "    #creo que no debemos contar los files porque cansan el programa\n",
    "    \n",
    "    def escritura(self,nombre,texto):\n",
    "        recetasTextos = 'recetastextos/'\n",
    "        if not(os.path.exists(recetasTextos)):\n",
    "            os.mkdir(recetasTextos)\n",
    "        f = open(recetasTextos+nombre+'.txt', 'w')\n",
    "        f.write(texto)\n",
    "        f = open(recetasTextos+nombre+'.txt', \"r\")\n",
    "        print(f.read())\n",
    "        f.close()\n",
    "    def eliminacionMp4(self):\n",
    "        recetasVideos = './recetasvideos/'\n",
    "        py_files = glob.glob(recetasVideos+'*.mp4')\n",
    "        for py_file in py_files:\n",
    "            try:\n",
    "                os.remove(py_file)\n",
    "            except OSError as e:\n",
    "                print(f\"Error:{ e.strerror}\")      \n",
    "        "
   ]
  },
  {
   "cell_type": "code",
   "execution_count": 127,
   "id": "13238607",
   "metadata": {},
   "outputs": [],
   "source": [
    "#si el video es mayor de 3 minutos no funciona\n",
    "#si el video es en ingles no funciona\n",
    "class Depurador:\n",
    "    def __init__(self): \n",
    "        self.rec=RecursosAdicionales()\n",
    "    \"\"\"|EXTRACCION: proceso etl donde extraemos al informacion del video \n",
    "       |enlace: es un string que se colocara el enlace del video\"\"\"\n",
    "    def extraccion(self,enlace):\n",
    "        #instanciamos el controlador de videos\n",
    "        cv=ControladorVideo(enlace)\n",
    "        #paso 1: descargamos el video\n",
    "        cv.nombrevideo=cv.descargarVideoURL()\n",
    "        #paso 2: pasamos el video a .wav\n",
    "        nombre=cv.parseoVideo(cv.nombrevideo)\n",
    "        #paso 3: pasamos el .wav a texto\n",
    "        num_segm=segcionarXsilencios(nombre)\n",
    "        result=\"\"\n",
    "        print(\"hola\")\n",
    "        for i in range(num_segm):\n",
    "            try:\n",
    "                \n",
    "                result=result+str(cv.speech_text(\"../temp/{}_extracto{}.wav\".format(nombre,i+1)))\n",
    "                result=result+\" \"\n",
    "            except:   \n",
    "                \n",
    "                audio1=aseg.from_wav(\"temp/{}_extracto{}.wav\".format(nombre,i+1))\n",
    "                duracion=audio1.duration_seconds\n",
    "                if duracion<=5:\n",
    "                    print(\"El extracto {} es un silencio\".format(i+1))\n",
    "                elif duracion<=180:\n",
    "                    print(\"El extracto {} es música o ruido\".format(i+1))\n",
    "                else:\n",
    "                    print(\"Error importante en el extracto {}\".format(i+1))\n",
    "                \n",
    "            \n",
    "                \n",
    "        \n",
    "        #paso 4: escribimos el texto recibido en un txt\n",
    "        #print(\"Titulo:\"+cv.titulovideo+\"\\n\"+\"Autor:\"+cv.autorvideo+\"\\n\"+\"Fecha Publicacion:\"+str(cv.fechavideo)+\"\\n\"+\"Entradilla:\"+result)\n",
    "        resultado=self.rec.escritura(cv.nombrevideo,\"Titulo:\"+cv.titulovideo+\"\\n\"+\"Autor:\"+cv.autorvideo+\"\\n\"+\"Fecha Publicacion:\"+str(cv.fechavideo)+\"\\n\"+\"Entradilla:\"+result)\n",
    "        #paso 5: eliminamos los mp4\n",
    "        self.rec.eliminacionMp4()\n",
    "        return resultado     \n",
    "    def transformacion(self):\n",
    "        print()\n",
    "    def carga(self):\n",
    "        print()"
   ]
  },
  {
   "cell_type": "code",
   "execution_count": 128,
   "id": "d1b2bed2",
   "metadata": {},
   "outputs": [],
   "source": [
    "import numpy as np\n",
    "from pydub import AudioSegment as aseg\n",
    "def segcionarXsilencios(audio):\n",
    "    \n",
    "    audio1=aseg.from_wav(\"./recetasvideos/\"+audio+\".wav\")\n",
    "    \n",
    "    var_min=1900\n",
    "    salir=False\n",
    "    while salir==False:\n",
    "        \n",
    "        # this is an array\n",
    "        samples = audio1.get_array_of_samples()\n",
    "\n",
    "        \n",
    "        segundo=88521\n",
    "        index=[]\n",
    "        for i in range(0,len(samples),int(segundo/5)):\n",
    "            dataSeg = samples[i:int(segundo/5)+i]\n",
    "            media=np.mean(dataSeg)\n",
    "            var=np.var(dataSeg)\n",
    "            if -10<=media<=10 and var<=var_min:\n",
    "                index.append(i)\n",
    "        '''\n",
    "        for i in range(len(index)):\n",
    "            print(int(index[i])/88521)\n",
    "        '''\n",
    "        borrar=[]\n",
    "\n",
    "\n",
    "        guardado=0\n",
    "        for i in range(len(index)-1):\n",
    "\n",
    "\n",
    "            if index[i+1]<=index[i]+(20*segundo):\n",
    "\n",
    "                if i==0:\n",
    "                    tiempo=(index[i])/segundo\n",
    "                else:\n",
    "                    tiempo=(index[i+1]-guardado)/segundo\n",
    "\n",
    "                #print(\"tiempo: \"+ str(tiempo))\n",
    "\n",
    "                if tiempo<=120:\n",
    "                    borrar.append(i)\n",
    "                else:\n",
    "                    #print(\"guardados: \" + str(index[i]/segundo))\n",
    "                    guardado=index[i]\n",
    "\n",
    "            else:\n",
    "                \n",
    "                guardado=index[i]\n",
    "\n",
    "\n",
    "    \n",
    "        \n",
    "        final=np.delete(index, borrar, axis=0) \n",
    "        #print(\"------------------------------------------------\")\n",
    "        #print(borrar)\n",
    "        #print(\"------------------------------------------------\")\n",
    "        #print(final)\n",
    "        #print(\"length final: \" + str(len(final)))\n",
    "        extractos=[]\n",
    "        if len(final)==0:\n",
    "            #print(\"if\")\n",
    "            var_min=var_min*10\n",
    "            salir=False\n",
    "        else:\n",
    "            #print(\"else\")\n",
    "            for i in range(len(final)):\n",
    "                if i==0:\n",
    "\n",
    "                    extractos.append(samples[:final[i]])\n",
    "                else:\n",
    "                    extractos.append(samples[final[i-1]:final[i]])\n",
    "            #print(len(extractos))\n",
    "            extractos.append(samples[final[i]:])\n",
    "            \n",
    "            #print(len(extractos))\n",
    "            salir=True\n",
    "            \n",
    "    for i in range(len(extractos)):\n",
    "        nombre=\"\"\n",
    "        new_sound = audio1._spawn(extractos[i])\n",
    "        nombre=\"temp/{}_extracto{}.wav\".format(audio,i+1)\n",
    "        new_sound.export(nombre,format=\"wav\")\n",
    "    print(len(extractos))\n",
    "    return len(extractos)\n",
    "    "
   ]
  },
  {
   "cell_type": "code",
   "execution_count": 129,
   "id": "cc3dd275",
   "metadata": {},
   "outputs": [],
   "source": [
    "class WebScrap:\n",
    "    def __init__(self): \n",
    "        self.headers = {'User-Agent': 'Mozilla/5.0 (Macintosh; Intel Mac OS X 10_10_1) AppleWebKit/537.36 (KHTML, like Gecko) Chrome/39.0.2171.95 Safari/537.36'}\n",
    "    def request(self, url):\n",
    "        request1 = requests.get(url, headers=self.headers)\n",
    "        html = request1.content\n",
    "        soup = BeautifulSoup(html, 'html.parser')\n",
    "        return soup\n",
    "    def verificar_alimento(self,alimento):\n",
    "        soup = self.request( 'https://www.themealdb.com/api/json/v1/1/search.php?s='+alimento)\n",
    "        print(soup)\n",
    "        "
   ]
  },
  {
   "cell_type": "markdown",
   "id": "7bcc058f",
   "metadata": {},
   "source": [
    "<h2 style=\"font-size: 19px;color:#6DA0FF;font-family:Georgia, Times, 'Times New Roman', serif;letter-spacing: 3px;font-weight: normal\">3. Main</h2>"
   ]
  },
  {
   "cell_type": "code",
   "execution_count": 124,
   "id": "4e9003fd",
   "metadata": {},
   "outputs": [
    {
     "name": "stdout",
     "output_type": "stream",
     "text": [
      "MoviePy - Writing audio in recetasvideos/receta1.wav\n"
     ]
    },
    {
     "name": "stderr",
     "output_type": "stream",
     "text": [
      "                                                                                                                       \r"
     ]
    },
    {
     "name": "stdout",
     "output_type": "stream",
     "text": [
      "MoviePy - Done.\n",
      "4\n",
      "hola\n",
      "recetasvideos/../temp/receta1_extracto1.wav\n",
      "recetasvideos/../temp/receta1_extracto2.wav\n",
      "recetasvideos/../temp/receta1_extracto3.wav\n",
      "recetasvideos/../temp/receta1_extracto4.wav\n",
      "El extracto 4 es un silencio\n",
      "Titulo:Albóndigas de Merluza en Salsa Verde | Recetas de PESCADO Faciles\n",
      "Autor:Platos Fáciles con Tamara\n",
      "Fecha Publicacion:2013-07-04 00:00:00\n",
      "Entradilla:hoy vamos a hacer albóndigas de merluza en salsa verde y los ingredientes que vamos a utilizar son 500 gramos de merluza limpios de piel y espinas 3 dientes de ajo 100 o 150 gramos de miga de pan media cebolla un huevo un vaso de vino blanco perejil harina medio vaso de leche aceite de oliva virgen extra y sal empezamos empapando la miga de pan en leche para que vaya ablandando se mientras tanto cortamos la merluza en trocitos muy pequeñitos si no tenéis paciencia para hacerlo con un cuchillo podéis utilizar una picadora eléctrica una vez terminemos de trocear lo metemos en un bol donde después mezclaremos todos los ingredientes machacamos los ajos con un mortero y cuando queden bien triturado los añadimos junto a la merluza ahora añadimos el perejil el huevo crudo y la miga de pan con leche sal al gusto y mezclamos bien todo hasta que quede una masa homogénea con papel film y guardamos en la nevera durante unas 3 horas para que endurezca un poco si la mezcla queda algo suelta podemos echar un poco de pan rallado y volverá a revolver procedemos a dar forma de bola la masa las pasamos por harina volvemos a dar forma y se vuelve a pasar por harina para darle su último retoque las trabajamos hasta que queden perfectas y compactas ya que se quedan con algunas fisuras se pueden abrir en la sartén cuando están todas hechas las freímos en abundante aceite y las vamos dando la vuelta hasta que queden doraditas la reservamos en un plato con un papel de cocina para servirle exceso de aceite para la salsa de las albóndigas comenzamos calentando un chorrito de aceite en una cazuela y pochamos la cebolla picada mientras tanto machacamos los ajos en el mortero con un poco de sal añadimos un poco de perejil y el vaso de vino blanco cuando la cebolla este pochada añadimos 2 cucharaditas de harina y rehogamos echamos el machacado de ajo perejil y vino blanco un vaso de agua y revolvemos si queréis una salsa más verde podéis echar un poco más de perejil como hemos hecho nosotros a fuego medio alto dejamos que comience a hervir y altos seguir añadimos las albóndigas con cuidado dejamos que se cocine y cuando las hayas pasado un poco ya están listas para servir es una buena forma de comer pescado y además es muy sana esperamos que os guste hasta la próxima \n",
      "MoviePy - Writing audio in recetasvideos/receta1.wav\n"
     ]
    },
    {
     "name": "stderr",
     "output_type": "stream",
     "text": [
      "                                                                                                                       \r"
     ]
    },
    {
     "name": "stdout",
     "output_type": "stream",
     "text": [
      "MoviePy - Done.\n",
      "4\n",
      "hola\n",
      "recetasvideos/../temp/receta1_extracto1.wav\n",
      "El extracto 1 es música o ruido\n",
      "recetasvideos/../temp/receta1_extracto2.wav\n",
      "recetasvideos/../temp/receta1_extracto3.wav\n",
      "El extracto 3 es un silencio\n",
      "recetasvideos/../temp/receta1_extracto4.wav\n",
      "Titulo:Risotto de setas fácil con arroz integral | Cenas vegetarianas saludables\n",
      "Autor:Avena y Aguacate\n",
      "Fecha Publicacion:2020-01-06 00:00:00\n",
      "Entradilla:hola a todos y bienvenidos avena y aguacate este mes os voy a traer todas las semanas recetas vegetarianas riquísimas saludables económicas y muy fáciles de preparar perfectas para el lunes sin carné hoy os traigo mi receta de risotto de setas con arroz integral cremoso buenísimo y encantará a toda la familia para esta receta vamos a usar arroz redondo integral que he dejado toda la noche en remojo para reducir el tiempo de cocción chorizos tradicionales utilizan arroz arborio o carnaroli pero yo prefiero usar arroz integral porque conserva toda su piedra y todos sus nutrientes empezamos calentando aceite de oliva en una cazuela a fuego medio alto y salteamos medio kg de setas laminadas puedes elegir tus t**** favoritas es una receta muy versátil en cuanto estén tiernas las retiramos junto con su jugo y reservamos añadimos un poco más de aceite a la cazuela y doramos una cebolla picada incorporamos 200g de arroz removemos unos segundos para que se impregne de los sabores y vertemos un chorrito de vino blanco si prefieres mañana ir al cole no pasa nada salta directamente al siguiente paso esperamos a que se evapore el alcohol y se haya absorbido prácticamente todo el líquido y vamos añadiendo el caldo de verduras cazo acaso removiendo muy a menudo no añadiremos más caldo hasta que se haya absorbido todo el anterior el tiempo de cocción y la cantidad de caldo que terminemos usando va a depender del tipo de arroz pero vamos a intentar dejar valiente la casa os va a oler de lujo apartamos a cazuela del fuego y añadimos las setas reservadas con su cubo un par de nueces de mantequilla y unos 25 gramos de parmesano rallado de verdad es que no puede haber cosa más rica que da cremoso delicioso alucinante podéis servirlo de inmediato o congelarlo espero que probéis a preparar la receta y si lo hacéis subido una foto a Instagram y mencionarme porque ya sabéis que me encanta ver vuestras versiones y si aún no lo habéis hecho seguirme en Instagram arroba avena y aguacate porque durante este mes estaré publicando stories todos los días una nueva receta de batido de fruta o verdura saludables y no os olvidéis de pulsar el botón suscribirse porque os esperan un montón de recetas riquísimas cómo está hasta el próximo vídeo pues no había grabado así que repetir bueno el tiempo de cocción no voy a hacer payasadas lo voy a borrar porque esto luego lo utilizas en mi contra ah porque sigue grabando no creo \n",
      "MoviePy - Writing audio in recetasvideos/receta1.wav\n"
     ]
    },
    {
     "name": "stderr",
     "output_type": "stream",
     "text": [
      "                                                                                                                       \r"
     ]
    },
    {
     "name": "stdout",
     "output_type": "stream",
     "text": [
      "MoviePy - Done.\n",
      "2\n",
      "hola\n",
      "recetasvideos/../temp/receta1_extracto1.wav\n",
      "El extracto 1 es un silencio\n",
      "recetasvideos/../temp/receta1_extracto2.wav\n",
      "Titulo:Leche de Avena Preparacion Casera / Leches Vegetales\n",
      "Autor:Tanto Monta En La Cocina\n",
      "Fecha Publicacion:2021-08-24 00:00:00\n",
      "Entradilla:importante que llevar una dieta balanceada y sobre todo grito por desgracia por lo que estamos pasando por tal motivo el día de hoy quiero compartir contigo cómo hacer leche de avena en casa estoy que estoy más tiempo por lo menos hemos visto que no supermercado es bastante cara y la puedes hacer la comunidad de tu casa y te sabe riquísima y muy económica entre algunos de los beneficios de la leche de avena se sabe qué es buena para el corazón colesterol tiene muchísima fibra tiene mucha proteína tiene mucha vitamina de hierro de un sinfín de beneficios pero eso sí es un poquito alta contrato nosotros ni pretendo serlo simplemente quiero compartir contigo un poquito de lo que hemos aprendido en el jefe qué tal mi nombre de Sandra y una vez más te doy la bienvenida tanto monta en la cocina donde encontrarás una gran cantidad de recetas fáciles y sabor en esta receta vamos a utilizar una taza de avena cómo puedes la pena que compramos en supermercado pero que no sean instantánea y vamos a necesitar 3 tazas de agua fría a mí me gusta hacerlo por favor fría y no me gusta poner los remojar porque de otra manera te queda muy viscosa te quedas y con muy especial y un poquito como babosita entonces acuérdate por cada taza de avena 3 tazas de agua fría y el sabor a mí me gusta con un poquito de esencia de vainilla pero igual le puedes poner un poquito de canela en polvo o le puedes poner un poquito de miel o simplemente un poquito de sal en el vaso de la licuadora porque hemos el agua fría ponemos nuestra vena y ponemos una cucharadita de esencia de vainilla y simplemente lo vamos a licuar por aproximadamente unos 20 segundos ya que tenemos nuestra viene licuada ahora lo que tenemos que hacer es colarla y la colamos muy bien después de escurrir la avena no vayas a tirar la culpa la podemos utilizar de muchas maneras la manera en la que yo más lo utilizo es simplemente en la mañana cuando me comí licuado mismo de fresa que yo te estoy dejando lo podemos añadir tiene muchísima fibra y sí que tenías muchas propiedades igual también lo puedes utilizar alguna de que haga unos porque expropiadas unos muffins lo puedes utilizar en lo que tú quieras y ahora simplemente la vaciamos en una jarra está leche la puedes tener fácilmente por 5 días en el refrigerador a la hora de servir si ves que empiece a espesarse un poquito o se asienta simplemente y revuelves un poquito qué rico nos quedó de qué consistencia tan bonita leche de avena pero para adelgazar \n",
      "MoviePy - Writing audio in recetasvideos/receta1.wav\n"
     ]
    },
    {
     "name": "stderr",
     "output_type": "stream",
     "text": [
      "                                                                                                                       \r"
     ]
    },
    {
     "name": "stdout",
     "output_type": "stream",
     "text": [
      "MoviePy - Done.\n",
      "5\n",
      "hola\n",
      "recetasvideos/../temp/receta1_extracto1.wav\n",
      "recetasvideos/../temp/receta1_extracto2.wav\n",
      "recetasvideos/../temp/receta1_extracto3.wav\n",
      "recetasvideos/../temp/receta1_extracto4.wav\n",
      "recetasvideos/../temp/receta1_extracto5.wav\n",
      "El extracto 5 es un silencio\n",
      "Titulo:Sopa de Cebolla | Una riquísima receta muy Fácil y Rápida de hacer\n",
      "Autor:Cocina con Carmen\n",
      "Fecha Publicacion:2019-12-20 00:00:00\n",
      "Entradilla:hola a todos y bienvenidos a cocina con Carmen hoy vamos a hacer una deliciosa sopa de cebolla que es súper fácil y rápida de hacer y además es genial para que el cuerpo entre en calor así que si queréis hacer la os dejo los ingredientes abajo en la descripción y al final del vídeo y vamos a comenzar para hacer la sopa de cebolla usaré como ingrediente principal un litro de este caldo de pollo Aneto que está riquísimo yo fui hace poco a su fábrica y la única diferencia que hay con los caldos que hacemos en casa son las ollas que nosotros utilizamos unas ollas pequeñas y ellos utilizan unas ollas que caben unos 3 ml que lo recordar seguido también vamos a necesitar medio kg de cebolla que si son dulces mucho mejor comenzaremos cortando las por la mitad y cada mitad las cortaremos y Juliana cuando hayamos cortado todas ya podremos comenzar a hacer la sopa de cebolla así que en una cacerola a fuego medio añadiremos dos cucharadas te quilla y una vez que se haya derretido y esté caliente añadiremos las cebollas cortadas se mezcla y las moveremos con frecuencia hasta que estén un poco hechas a continuación añadiremos un poco de sal y pimienta al gusto y la seguiremos moviendo de vez en cuando hace que estén sofritas tras esto subimos la placa fuego medio-alto y añadimos el litro de caldo de pollo Aneto también probé hacer esta misma sopa con el caldo Aneto de Navidad y de Anda forma quedó riquísima así que os ánimo a probar estos caldos porque es que son espectaculares se mezcla y vamos a esperar a que comience a hervir ahora lo volvemos a bajar a fuego medio y dejaremos que se haga durante unos 5 minutos con una tapa puesta pasado este tiempo la sopa de cebolla ya está preparada y la podemos retirar la dividimos en recipientes aptos para hornos y en cada recipiente también pondremos una rebanada de pan tostado y un poco de queso mozarella se colocan en una bandeja de horno y ya van para dentro se coloca la bandeja en la parte del medio del horno y dejaremos que el queso se funda a unos 230 grados centígrados o unos 450 grados Fahrenheit después de unos 15 minutos o cuando el queso se haya gratinado ya no podemos sacar por último le podemos poner un poco de hierbabuena que es muy típica en la gastronomía andaluza y mira qué bien queda además de apetecible os aseguro que estás riquísima rica rica de verdad aunque utilizando el caldo Aneto era difícil que saliera mal por cierto desde aquí me gustaría animar a los supermercados el jamón para que pongan el caldo Aneto y sus estanterías de Chiclana y de la provincia de Cádiz es una pena que con lo bueno que estás no lo tengan porque la verdad es el único que me recuerda a un caldo casero y ya sabéis si os ha gustado está receta os invito a que le deis a Me Gusta suscribirse a nuestros canales si aún no lo habéis hecho por aquí o voy a dejar más receta de sopa que están todas riquísimas y como riquísimas son las recetas de nuestro libro Cocina con Carmen que tiene una receta que son unas delicias un besito y hasta el próximo vídeo \n",
      "MoviePy - Writing audio in recetasvideos/receta1.wav\n"
     ]
    },
    {
     "name": "stderr",
     "output_type": "stream",
     "text": [
      "                                                                                                                       \r"
     ]
    },
    {
     "name": "stdout",
     "output_type": "stream",
     "text": [
      "MoviePy - Done.\n",
      "6\n",
      "hola\n",
      "recetasvideos/../temp/receta1_extracto1.wav\n",
      "recetasvideos/../temp/receta1_extracto2.wav\n",
      "recetasvideos/../temp/receta1_extracto3.wav\n",
      "recetasvideos/../temp/receta1_extracto4.wav\n",
      "recetasvideos/../temp/receta1_extracto5.wav\n",
      "recetasvideos/../temp/receta1_extracto6.wav\n",
      "El extracto 6 es un silencio\n",
      "Titulo:¡Pocas personas conocen esta receta! El secreto para un pollo frito crujiente que a todos encantará\n",
      "Autor:¡Que Viva La Cocina!\n",
      "Fecha Publicacion:2022-01-25 00:00:00\n",
      "Entradilla:tenemos unos muslos de pollo a los cuales les hemos quitado la piel de momento salpimentarlos no es necesario lo que vamos a hacer con ellos va a ser introducirlos en abundante agua hirviendo vamos a dejar que cuezan aquí a razón de unos 30 minutos más o menos hasta que los muslos estén bien bien cocinados y lo suficientemente tiernos como para que después podamos desgarrar la carne para hacer esta receta luego lo vemos con un poco más de detalle podrías utilizar también unos muslos de pollo que estén asados al horno unos que te hayan sobrado del día anterior por ejemplo venga ahora en un bol vamos a poner unas patatas que estén bien cocidas que estén troceadas y sin piel y con una prensa de patatas o con un simple tenedor vamos a proceder a triturar está patata como en este caso la patata cuando la cozamos va a ser para triturar la y ya lo sabemos con antelación la manera de cocer la correctamente yo lo hago así la introduzco ya pelada troceada y con la suficiente agua el ajusta agua para que la cubra y ya finalmente la dejo cocer bastante tiempo como es para triturar que casi se deshaga durante la cocción pues no me importa pero que no llega deshacerse solo que esté cerca de deshacerse bueno tenemos ya el pollo cocido han pasado ya 30 minutos de cocción y el pollo está tierno tierno tanto que hasta la carne se separa del hueso eso es lo que vamos a hacer el hueso lo reservamos para después mientras tanto con un tenedor seguimos separando la carne de los huesos y acuérdate los huesos los guardamos ahora imaginemos que nos ha sobrado un pollo asado del día anterior pues nos valdría igualmente en vez de cocido estaría asado y la carne saldría prácticamente con la misma facilidad por si te gusta más con pollo asado que sepas que se puede hacer ahora una vez que hayamos sacado ya toda la carne del hueso vamos a proceder a picarlo con un cuchillo que esté muy afilado se trata de picar lo muy muy fino realizar este paso es muy sencillo no es más que a darle unas cuantas pasadas con el cuchillo tal que así y al cabo de unas cuantas pasadas como el pollo está muy tierno pues ya lo tendremos estará la carne muy picada llegados a este punto vamos a introducir la carne en el bol donde teníamos la patata triturada agregamos una cucharada bien generosa de pimentón o de paprika que puede ser dulce o picante a tu gusto y como medio vaso de harina de trigo las cantidades exactas como siempre las tienes al final del vídeo la harina le va a dar consistencia a todo esto le vamos a agregar ahora subo una pizca de sal que no tenía nada de nada y su buena pizca de pimienta negra recién molida haya y con generosidad que no se diga echados todos estos ingredientes no quedaría más que mezclarlos e integrarlos bien entre sí y lo vamos a hacer con cierta alegría y que quiero decir con esto pues básicamente lo que quiero decir es que todos los ingredientes queden bien unidos entre sí que no haya trozos de patata flotando por un lado la harina que no se nos haya integrado la carne flotando por otro que nos quede prácticamente una masa homogénea eso es lo que quiero decir porque una vez que la tengamos unificada vamos a terminar de dar forma a nuestro plato y prácticamente la acabar lo que ya verás qué pinta que va a coger pero de momento cogemos una pequeña porción de la masa con las manos limpias y ahora es donde entran en juego los huesos que habíamos reservado del principio vamos a envolver del hueso con esta masa o siendo más precisos vamos a envolver uno de los extremos del hueso para ello vamos a compactar lo bien bien sobre el hueso que quiere bien sujeto sobre este y además vamos a ser generosos a la hora de echarle más aquí tanto es así que al final nos tienen que sobrar huesos y yo creo que ella está captando la idea de lo que estoy haciendo lo que buscamos es emular un muslo de pollo pero un muslo de pollo que además contiene otros elementos como la patata y además un muslo de pollo que sería gordísimo parecería más viendo un muslo de avestruz bueno que vamos a pasar este muslo de llamémosle animal indeterminado por huevo le hacemos rodar bien por huevo que se impregne bien de él le retiramos el exceso de huevo y ahora hacemos lo propio pero por pan rallado igualmente lo hacemos rodar le ponemos unos puñaditos por encima lo que haga falta pero que se impregne bien del pan rallado y sobre todo que no se nos deshaga que no debería sobre todo si lo hemos apretado bien sobre el hueso lo que había dicho anteriormente y una vez que la hayamos pasado por el pan rallado nuevamente al huevo con él porque lo vamos a pasar dos veces por huevo y por pan rallado lo impregnamos nuevamente del huevo y nuevamente del pan rallado doblemente empanado doblemente crujiente como este muslo es bastante grueso nos podemos permitir una capa exterior también más gruesa más crujiente por eso lo vamos a pasar dos veces por huevo y por pan rallado venga y una vez que lo tengamos directamente tal cual lo ponemos a freír y atención que van varios tips y alternativas de la fritura lo primero el aceite la suficiente cantidad como para que cubra el muslo por completo el aceite que esté caliente pero tampoco al máximo no demasiado caliente lo que pretendemos es que el pan rallado de fuera pues que tú estés edore pero que tampoco hace falta que se cocine en exceso porque el interior ya está cocinado lo gente como para que coja calor y poco más al final serán unos 3-4 minutos de fritura más o menos y si alguien tiene freidora de aire y quiero hacerlo en freidora de aire pues te traigo si es tu caso te traigo excelentes noticias se puede hacer en la freidora de aire sin problemas e incluso en el horno y no tiene freidora de aire no quieres freír en aceite puedes hacerlo en el horno también sin problemas a unos 180 grados centígrados más o menos hasta que se dore esa2 ya como lo cocinemos obtendremos un plato de pollo un tanto diferente muy original y que volverá locos no sola niños sino que también a mayores obtendremos unas delicias de pollo que son pura ambrosía \n",
      "MoviePy - Writing audio in recetasvideos/receta1.wav\n"
     ]
    },
    {
     "name": "stderr",
     "output_type": "stream",
     "text": [
      "                                                                                                                       \r"
     ]
    },
    {
     "name": "stdout",
     "output_type": "stream",
     "text": [
      "MoviePy - Done.\n",
      "6\n",
      "hola\n",
      "recetasvideos/../temp/receta1_extracto1.wav\n",
      "recetasvideos/../temp/receta1_extracto2.wav\n",
      "recetasvideos/../temp/receta1_extracto3.wav\n",
      "recetasvideos/../temp/receta1_extracto4.wav\n",
      "recetasvideos/../temp/receta1_extracto5.wav\n",
      "recetasvideos/../temp/receta1_extracto6.wav\n",
      "El extracto 6 es un silencio\n",
      "Titulo:tortilla de patatas. (4 pasos)\n",
      "Autor:El Rancho de Javier GB\n",
      "Fecha Publicacion:2013-03-12 00:00:00\n",
      "Entradilla:la buena hoy voy a preparar una tortilla de patatas para dos personas los ingredientes eran dos patatas grandes una pequeña y dos cebollas y 4 huevos aceite y sal vale pues ya tenemos las patatas cortadas yo las he cortado a taquito y la cebolla cortada los huevos ya los tengo batidos le he echado 4 pizca de sal 1 x huevo y ahora esperaremos que esté el aceite caliente para echar las patatas una vez que está el aceite ya y en caliente echamos primero las patatas movemos y añadimos las cebollas un poquito y para que se haga un pelín más rápido las taparemos han pasado unos 15 minutos más o menos cuando ya veamos que están si más blanditas y todo pues la sacaremos la sacaremos ya de aquí una vez ya escurrido al aceite y se acabó la patata y la cebolla la mezclo con los huevos y con el resto y la vuelta y ahora con cuidado comeremos a echar otra vez calentando un poco porque a la cara y solo ha gustado luego si la te gusta más crudita o más hecha para agosto ya la sacamos y ya la tenemos preparada y la tenemos bien hecha \n",
      "MoviePy - Writing audio in recetasvideos/receta1.wav\n"
     ]
    },
    {
     "name": "stderr",
     "output_type": "stream",
     "text": [
      "                                                                                                                       \r"
     ]
    },
    {
     "name": "stdout",
     "output_type": "stream",
     "text": [
      "MoviePy - Done.\n",
      "9\n",
      "hola\n",
      "recetasvideos/../temp/receta1_extracto1.wav\n",
      "recetasvideos/../temp/receta1_extracto2.wav\n",
      "recetasvideos/../temp/receta1_extracto3.wav\n",
      "recetasvideos/../temp/receta1_extracto4.wav\n",
      "recetasvideos/../temp/receta1_extracto5.wav\n",
      "recetasvideos/../temp/receta1_extracto6.wav\n",
      "recetasvideos/../temp/receta1_extracto7.wav\n",
      "recetasvideos/../temp/receta1_extracto8.wav\n",
      "recetasvideos/../temp/receta1_extracto9.wav\n",
      "El extracto 9 es un silencio\n",
      "Titulo:Coliflor con Bechamel y Bacon\n",
      "Autor:El Rancho de Javier GB\n",
      "Fecha Publicacion:2013-05-07 00:00:00\n",
      "Entradilla:hola buenas os voy a preparar una coliflor con bechamel de queso y bacon los ingredientes eran una coliflor que ya la tengo cortada cinta te bacon una cebolla y media queso azul leche queso elemental harina aceite y un poco de pimienta nuez moscada y sal pues cuando veamos que el agua comienza el DIF lo primero que haremos será echar la coliflor que el agua ya tiene sal y la dejaremos hervir hasta que se ablande un poco y para que se haga un poquito más rápido la tapa pues después de unos 25 minutos más o menos la sacaremos y las escurriremos pues ahora iremos a hacer la bechamel primero freímos la cebolla le echamos un poquito de sal y la movemos le iremos moviendo hasta que se dore e.t. pues después de unos 6 minutitos que ya se empiezan a dorar con el fuego a tope le echamos el bacon y otra pizca de sal y lo vamos moviendo durante el otro rato y ahora ya podemos encender el horno a 200 grados que se vaya calentando vale pues después de un rato de que ya veamos que se ha hecho un poquito sacaremos el bacon en la cebolla y lo pondremos un poquito es partido por encima de la coliflor ahora en la misma sartén haremos la bechamel un poquito de mantequilla un poquillo le echaré dos cucharadas de harina la que se empieza a enganchar un poquito le echaré un tazón de leche y la iremos moviendo muy bien para que se vayan los grumos de la mantequilla cuando esté caliente la echaré ya el queso pues cuando ya habíamos que la leche es para se empieza a calentar y no hay vómitos de la harina le echaré el queso azul un poquito de pimienta muy poquita un poco de nuez moscada una cucharadita pequeña de azúcar y una pizca de sal y lo iremos moviendo hasta que ya queso azul se quede bien derretido una vez que me llamo ya que está bien haremos ya el fuego y lo pondremos encima y lo meteremos al horno durante unos 20 minutos a 200 grados cuando ya lo tengamos preparado pues después de unos 20 minutos al horno y está preparado y listo \n",
      "MoviePy - Writing audio in recetasvideos/receta1.wav\n"
     ]
    },
    {
     "name": "stderr",
     "output_type": "stream",
     "text": [
      "                                                                                                                       \r"
     ]
    },
    {
     "name": "stdout",
     "output_type": "stream",
     "text": [
      "MoviePy - Done.\n",
      "6\n",
      "hola\n",
      "recetasvideos/../temp/receta1_extracto1.wav\n",
      "recetasvideos/../temp/receta1_extracto2.wav\n",
      "recetasvideos/../temp/receta1_extracto3.wav\n",
      "recetasvideos/../temp/receta1_extracto4.wav\n",
      "recetasvideos/../temp/receta1_extracto5.wav\n",
      "El extracto 5 es un silencio\n",
      "recetasvideos/../temp/receta1_extracto6.wav\n",
      "Titulo:Comida fácil.  Pollo al Curry con leche de coco.  Arroz con Pasas\n",
      "Autor:Smak con Gusto\n",
      "Fecha Publicacion:2021-02-06 00:00:00\n",
      "Entradilla:hola mi mi nombre es Pablo nuestro canal se llama Macu un gusto y estamos aquí para hacer verdaderas cositas ricas hoy vamos a preparar un pollo al curry que vos va a flipar bien está receta de pollo al curry pues va a sorprender porque no es un pollo curry tradicional vamos a hacer el pollo al curry indonesio para eso lo que nos va a hacer falta poquitos ingredientes la verdad es que no sale económico y muy muy muy rico si queréis saber cómo darle like a nuestro canal suscribirse abajo y no pierdas ni un minuto vamos a ellos usaré contramuslo de pollo deshuesado si queréis también os podéis usar pechuga de pollo nosotros vamos a hacerlo con contramuslo vamos a albahaca jengibre cebolla ajo tomate frito leche de coco y la pasta al curry rojo que sí que sí que no es el pollo amarillo para hacer rojo de rechupete la los muslos de pollo o los contramuslos de pollo en cubitos plamos la cebolla y los ajetes para los ajos nos vamos un poquito por manera es con una cuchara feo ya lo sabéis pues muy bien y ceno a mirarlo lo pelamos superbien y no desperdiciamos nada de su buena carne que está súper rica muy aromática y muy sana suerte bien su sabor en nuestro guiso vale pues ahora que ya está el aceite calentito le vamos a meter la cebolla y el ajo y lo dejamos pochar bien tío adiciona el jengibre a media cocción de la cebolla le vamos a poner el otro aromático muy fresco y muy céntrico y muy rico y lo dejamos cocer unos 15 minutos a partir de ahora que está ardiendo ahora que han pasado 15 minutos le vamos a dar leche de coco vale la leche muy muy aromático nos va a suavizar el picante pues está quedando con una textura espectacular y vamos a probar cómo está de salud 1 de nuestro vamos a parar y cuando tengamos y lo mezclamos todo elimina por lo decoramos con unas hierbitas por el pollo como ya tiene albahaca dentro le vamos a poner unas hojitas de albahaca un poquito de cilantro para estar muy fresco hemos terminado nuestro \n"
     ]
    }
   ],
   "source": [
    "#y si tambien vemos si le permitimos al usuario que meta videos?\n",
    "dep=Depurador()\n",
    "if __name__ == '__main__':\n",
    "    dep.extraccion('https://www.youtube.com/watch?v=6PzQY1E2s2g&list=PLxHmjpcgU5ArC2rY5cpoIcZoVKB_0UHfR&ab_channel=PlatosF%C3%A1cilesconTamara')\n",
    "    dep.extraccion('https://www.youtube.com/watch?v=PsqR5M8rdjA&list=LL&index=9&t=4s')\n",
    "    dep.extraccion('https://www.youtube.com/watch?v=xfYcM_jHgPY')\n",
    "    dep.extraccion('https://www.youtube.com/watch?v=DnamuF14sJ0')\n",
    "    dep.extraccion('https://www.youtube.com/watch?v=JjXFsmoiLl8')\n",
    "    dep.extraccion('https://www.youtube.com/watch?v=ZaCIElVBI9Y&list=PLNqFB7lW8Xrowk5ehMiwURtUvrGpgqSYW&index=2')\n",
    "    dep.extraccion('https://www.youtube.com/watch?v=XsdSJSSLB88&list=PLNqFB7lW8Xrowk5ehMiwURtUvrGpgqSYW&index=25')\n",
    "    dep.extraccion('https://www.youtube.com/watch?v=NoubmBJosqY')\n",
    "   \n",
    "    \n",
    "    "
   ]
  },
  {
   "cell_type": "code",
   "execution_count": null,
   "id": "b87b6d05",
   "metadata": {},
   "outputs": [],
   "source": [
    "segcionarXsilencios(\"receta1\")"
   ]
  },
  {
   "cell_type": "code",
   "execution_count": 84,
   "id": "c104e879",
   "metadata": {},
   "outputs": [],
   "source": [
    "audio1=aseg.from_wav(\"./recetasvideos/receta1.wav\")"
   ]
  },
  {
   "cell_type": "code",
   "execution_count": 87,
   "id": "2a764829",
   "metadata": {},
   "outputs": [
    {
     "data": {
      "text/plain": [
       "float"
      ]
     },
     "execution_count": 87,
     "metadata": {},
     "output_type": "execute_result"
    }
   ],
   "source": [
    "type(audio1.duration_seconds)"
   ]
  },
  {
   "cell_type": "code",
   "execution_count": 112,
   "id": "e1c13d37",
   "metadata": {},
   "outputs": [],
   "source": [
    "nombre=\"receta1\"\n",
    "i=4\n",
    "audio2=aseg.from_wav(\"temp/{}_extracto{}.wav\".format(nombre,i+1))"
   ]
  },
  {
   "cell_type": "code",
   "execution_count": 130,
   "id": "68cac307",
   "metadata": {},
   "outputs": [
    {
     "name": "stdout",
     "output_type": "stream",
     "text": [
      "MoviePy - Writing audio in recetasvideos/receta1.wav\n"
     ]
    },
    {
     "name": "stderr",
     "output_type": "stream",
     "text": [
      "                                                                                                                       \r"
     ]
    },
    {
     "name": "stdout",
     "output_type": "stream",
     "text": [
      "MoviePy - Done.\n",
      "4\n",
      "hola\n",
      "recetasvideos/../temp/receta1_extracto1.wav\n",
      "recetasvideos/../temp/receta1_extracto2.wav\n",
      "recetasvideos/../temp/receta1_extracto3.wav\n",
      "recetasvideos/../temp/receta1_extracto4.wav\n",
      "El extracto 4 es un silencio\n",
      "Titulo:Albóndigas de Merluza en Salsa Verde | Recetas de PESCADO Faciles\n",
      "Autor:Platos Fáciles con Tamara\n",
      "Fecha Publicacion:2013-07-04 00:00:00\n",
      "Entradilla:hoy vamos a hacer albóndigas de merluza en salsa verde y los ingredientes que vamos a utilizar son 500 gramos de merluza limpios de piel y espinas 3 dientes de ajo 100 o 150 gramos de miga de pan media cebolla un huevo un vaso de vino blanco perejil harina medio vaso de leche aceite de oliva virgen extra y sal empezamos empapando la miga de pan en leche para que vaya ablandando se mientras tanto cortamos la merluza en trocitos muy pequeñitos si no tenéis paciencia para hacerlo con un cuchillo podéis utilizar una picadora eléctrica una vez terminemos de trocear lo metemos en un bol donde después mezclaremos todos los ingredientes machacamos los ajos con un mortero y cuando queden bien triturado los añadimos junto a la merluza ahora añadimos el perejil el huevo crudo y la miga de pan con leche sal al gusto y mezclamos bien todo hasta que quede una masa homogénea con papel film y guardamos en la nevera durante unas 3 horas para que endurezca un poco si la mezcla queda algo suelta podemos echar un poco de pan rallado y volverá a revolver procedemos a dar forma de bola la masa las pasamos por harina volvemos a dar forma y se vuelve a pasar por harina para darle su último retoque las trabajamos hasta que queden perfectas y compactas ya que se quedan con algunas fisuras se pueden abrir en la sartén cuando están todas hechas las freímos en abundante aceite y las vamos dando la vuelta hasta que queden doraditas la reservamos en un plato con un papel de cocina para servirle exceso de aceite para la salsa de las albóndigas comenzamos calentando un chorrito de aceite en una cazuela y pochamos la cebolla picada mientras tanto machacamos los ajos en el mortero con un poco de sal añadimos un poco de perejil y el vaso de vino blanco cuando la cebolla este pochada añadimos 2 cucharaditas de harina y rehogamos echamos el machacado de ajo perejil y vino blanco un vaso de agua y revolvemos si queréis una salsa más verde podéis echar un poco más de perejil como hemos hecho nosotros a fuego medio alto dejamos que comience a hervir y altos seguir añadimos las albóndigas con cuidado dejamos que se cocine y cuando las hayas pasado un poco ya están listas para servir es una buena forma de comer pescado y además es muy sana esperamos que os guste hasta la próxima \n"
     ]
    }
   ],
   "source": [
    "dep.extraccion('https://www.youtube.com/watch?v=6PzQY1E2s2g&list=PLxHmjpcgU5ArC2rY5cpoIcZoVKB_0UHfR&ab_channel=PlatosF%C3%A1cilesconTamara')\n"
   ]
  },
  {
   "cell_type": "code",
   "execution_count": null,
   "id": "0ba6bb4f",
   "metadata": {},
   "outputs": [],
   "source": []
  }
 ],
 "metadata": {
  "kernelspec": {
   "display_name": "Python 3 (ipykernel)",
   "language": "python",
   "name": "python3"
  },
  "language_info": {
   "codemirror_mode": {
    "name": "ipython",
    "version": 3
   },
   "file_extension": ".py",
   "mimetype": "text/x-python",
   "name": "python",
   "nbconvert_exporter": "python",
   "pygments_lexer": "ipython3",
   "version": "3.10.7"
  }
 },
 "nbformat": 4,
 "nbformat_minor": 5
}
