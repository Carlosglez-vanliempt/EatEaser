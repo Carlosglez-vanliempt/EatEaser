{
 "cells": [
  {
   "cell_type": "markdown",
   "id": "785f7877",
   "metadata": {},
   "source": [
    "# Pruebas de STEMMING la mejor es RSLPStemmer"
   ]
  },
  {
   "cell_type": "code",
   "execution_count": 1,
   "id": "61c7a595",
   "metadata": {},
   "outputs": [
    {
     "name": "stdout",
     "output_type": "stream",
     "text": [
      "['corri', 'corr', 'corrió', 'corr', 'fácil', 'just', 'libr', 'librer', 'libr', 'libr']\n"
     ]
    },
    {
     "name": "stderr",
     "output_type": "stream",
     "text": [
      "[nltk_data] Downloading package rslp to\n",
      "[nltk_data]     C:\\Users\\rober\\AppData\\Roaming\\nltk_data...\n",
      "[nltk_data]   Package rslp is already up-to-date!\n"
     ]
    }
   ],
   "source": [
    "import nltk\n",
    "from nltk.stem.rslp import RSLPStemmer\n",
    "nltk.download('rslp')\n",
    "\n",
    "# Crear un objeto SnowballStemmer para el idioma español\n",
    "stemmer = RSLPStemmer()\n",
    "\n",
    "# Crear una lista de palabras\n",
    "words = ['corriendo', 'corredor', 'corrió', 'corre', 'fácilmente', 'justamente','libreria','librero','libro','librera']\n",
    "\n",
    "# Aplicar el stemming a cada palabra\n",
    "stemmed_words = [stemmer.stem(word) for word in words]\n",
    "\n",
    "print(stemmed_words)"
   ]
  },
  {
   "cell_type": "code",
   "execution_count": 2,
   "id": "1cce965b",
   "metadata": {},
   "outputs": [
    {
     "name": "stdout",
     "output_type": "stream",
     "text": [
      "['corr', 'corredor', 'corr', 'corr', 'facil', 'just', 'libreri', 'librer', 'libr', 'librer']\n"
     ]
    }
   ],
   "source": [
    "import nltk\n",
    "from nltk.stem.snowball import SnowballStemmer\n",
    "\n",
    "# Crear un objeto SnowballStemmer para el idioma español\n",
    "stemmer = SnowballStemmer('spanish')\n",
    "\n",
    "# Crear una lista de palabras\n",
    "words = ['corriendo', 'corredor', 'corrió', 'corre', 'fácilmente', 'justamente','libreria','librero','libro','librera']\n",
    "\n",
    "# Aplicar el stemming a cada palabra\n",
    "stemmed_words = [stemmer.stem(word) for word in words]\n",
    "\n",
    "print(stemmed_words)"
   ]
  },
  {
   "cell_type": "code",
   "execution_count": 3,
   "id": "74eee43d",
   "metadata": {},
   "outputs": [
    {
     "name": "stdout",
     "output_type": "stream",
     "text": [
      "['corr', 'corredor', 'corr', 'corr', 'facil', 'just', 'libreri', 'librer', 'libr', 'librer']\n"
     ]
    }
   ],
   "source": [
    "from nltk.stem.snowball import SpanishStemmer\n",
    "\n",
    "stemmer = SpanishStemmer()\n",
    "\n",
    "words = ['corriendo', 'corredor', 'corrió', 'corre', 'fácilmente', 'justamente','libreria','librero','libro','librera']\n",
    "\n",
    "# Aplicamos el stemming a cada palabra del texto\n",
    "stemmed_words = [stemmer.stem(word) for word in words]\n",
    "\n",
    "print(stemmed_words)"
   ]
  },
  {
   "cell_type": "markdown",
   "id": "f5803841",
   "metadata": {},
   "source": [
    "# Pruebas REGEX"
   ]
  },
  {
   "cell_type": "code",
   "execution_count": 4,
   "id": "7096bba3",
   "metadata": {},
   "outputs": [],
   "source": [
    "import re"
   ]
  },
  {
   "cell_type": "code",
   "execution_count": 5,
   "id": "c8db9253",
   "metadata": {},
   "outputs": [
    {
     "name": "stdout",
     "output_type": "stream",
     "text": [
      "hola buebas\n",
      " tardes, me llamo \n",
      "juan,  quitar todo\n"
     ]
    }
   ],
   "source": [
    "info = 'hola buebas0250-00-00\\n tardes, me llamo v=shdfdsbj\\njuan, 00:00:00 quitar todo'\n",
    "textoSinSimbolos = re.sub(\"\\d+:\\d+:\\d+\", \"\" , info)\n",
    "textoSinSimbolos = re.sub(\"\\d+-\\d+-\\d+\", \"\" , textoSinSimbolos)\n",
    "textoSinSimbolos = re.sub(\"v=.*\", \"\" , textoSinSimbolos)\n",
    "print(textoSinSimbolos)\n",
    "\n"
   ]
  },
  {
   "cell_type": "markdown",
   "id": "ebf64a72",
   "metadata": {},
   "source": [
    "# Pruebas WebScraping"
   ]
  },
  {
   "cell_type": "code",
   "execution_count": 4,
   "id": "0a2991fb",
   "metadata": {},
   "outputs": [
    {
     "name": "stderr",
     "output_type": "stream",
     "text": [
      "C:\\Users\\rober\\AppData\\Local\\Temp\\ipykernel_12996\\901468145.py:9: DeprecationWarning: executable_path has been deprecated, please pass in a Service object\n",
      "  driver = webdriver.Chrome(ChromeDriverManager().install())\n"
     ]
    }
   ],
   "source": [
    "import requests\n",
    "from bs4 import BeautifulSoup\n",
    "import time\n",
    "# para poder interactuar hay que usar webdriver no beautifulsoup\n",
    "from selenium import webdriver\n",
    "from webdriver_manager.chrome import ChromeDriverManager\n",
    "from selenium.webdriver.common.by import By\n",
    "\n",
    "driver = webdriver.Chrome(ChromeDriverManager().install())\n",
    "#keyword = input(\"Ingrese una palabra clave: \")\n",
    "busqueda_lidl = \"https://recetas.lidl.es/\"\n",
    "response = requests.get(busqueda_lidl)\n",
    "soup = BeautifulSoup(response.content, \"html.parser\")\n",
    "escribirIngrediente = soup.find(class_=\"inputField js_mIngredientSearchGroup-input\")\n",
    "driver.get(busqueda_lidl)\n",
    "\n",
    "\n"
   ]
  },
  {
   "cell_type": "code",
   "execution_count": 16,
   "id": "4f37d1a2",
   "metadata": {},
   "outputs": [],
   "source": []
  },
  {
   "cell_type": "code",
   "execution_count": 21,
   "id": "d1332f70",
   "metadata": {},
   "outputs": [],
   "source": []
  },
  {
   "cell_type": "code",
   "execution_count": 131,
   "id": "39138ebb",
   "metadata": {},
   "outputs": [],
   "source": [
    "from selenium.webdriver.common.keys import Keys\n",
    "from selenium.webdriver.common.action_chains import ActionChains\n",
    "\n",
    "class WebScraping:\n",
    "    def conexionPaginaWebLidl(self, KeyWord):\n",
    "        driver = webdriver.Chrome(ChromeDriverManager().install())\n",
    "        urlLidl = \"https://recetas.lidl.es/\"\n",
    "        driver.get(urlLidl)\n",
    "        time.sleep(0.5)\n",
    "        self.quitarCookiesLidl(driver)\n",
    "        time.sleep(1)\n",
    "        self.sacarInfoLidl(driver, KeyWord)\n",
    "        return driver\n",
    "    def conexionPaginaWebAhorraMas(self, KeyWord):\n",
    "        driver = webdriver.Chrome(ChromeDriverManager().install())\n",
    "        urlAhorraMas = \"https://www.ahorramas.com/buscador?q=\" + KeyWord\n",
    "        driver.get(urlAhorraMas)\n",
    "        time.sleep(1)\n",
    "        self.quitarCookiesAhorraMas(driver)\n",
    "        time.sleep(0.5)\n",
    "        self.sacarInfoAhorraMas(driver)\n",
    "        return driver\n",
    "    def quitarCookiesLidl(self, driver):\n",
    "        #si sale el boton de las koockies lo acepta\n",
    "        try:\n",
    "            driver.find_element(By.CLASS_NAME, \"cookie-alert-extended-button\").click()\n",
    "            print(\"Boton aceptar coquies seleccionado\")\n",
    "        except:\n",
    "            print(\"No sale boton de aceptar coquies\")\n",
    "    def quitarCookiesAhorraMas(self, driver):\n",
    "        #si sale el boton de las koockies lo acepta\n",
    "        try:\n",
    "            driver.find_element(By.ID, \"onetrust-accept-btn-handler\").click()\n",
    "            print(\"Boton aceptar coquies seleccionado\")\n",
    "        except:\n",
    "            print(\"No sale boton de aceptar coquies\")\n",
    "    def sacarInfoLidl(self, driver, KeyWord):\n",
    "        #Para entrar en el alimento que nosotros queremos\n",
    "        escribirIngrediente = driver.find_element(By.CLASS_NAME, \"inputField.js_mIngredientSearchGroup-input\")\n",
    "        escribirIngrediente.send_keys(KeyWord)\n",
    "        # hay que darle un poco de tiempo para que despues de escribir seleccione el enter sino no lo ejecuta bien\n",
    "        time.sleep(2)\n",
    "        escribirIngrediente.send_keys(Keys.RETURN)\n",
    "\n",
    "        time.sleep(2)\n",
    "        #PARA COGER EL NOMBRE DE LA RECETA DEL PRODUCTO\n",
    "        todasRecetas = driver.find_element(By.CLASS_NAME, \"oRecipeFeed-resultContainer.js_oRecipeFeed-resultContainer\")\n",
    "        time.sleep(1)\n",
    "        nombre = todasRecetas.find_elements(By.CLASS_NAME, \"mRecipeTeaser-title\")\n",
    "        print(nombre[0].text)\n",
    "\n",
    "        #PARA COGER EL TIEMPO DEL PRUDUCTO EN COCINARSE\n",
    "        tiempoReceta = todasRecetas.find_elements(By.CLASS_NAME, \"mTimer-time\")\n",
    "        print(tiempoReceta[0].text)\n",
    "        time.sleep(0.5)\n",
    "\n",
    "        #PARA COGER LA IMAGEN DEL PRODUCTO\n",
    "        src = todasRecetas.find_elements(By.CLASS_NAME, \"picture-img.mRecipeTeaser-image.lazyloaded\")\n",
    "        listaImagenes=[]\n",
    "        for s in src:\n",
    "            listaImagenes.append(s.get_attribute(\"src\"))\n",
    "        print(listaImagenes[0])\n",
    "\n",
    "        #PARA COGER LA URL DE LA RECETA\n",
    "        href = todasRecetas.find_elements(By.CLASS_NAME, \"mRecipeTeaser-link\")\n",
    "        listaURL=[]\n",
    "        for h in href:\n",
    "            listaURL.append(h.get_attribute(\"href\"))\n",
    "        print(listaURL[0])\n",
    "    def sacarInfoAhorraMas(self, driver):\n",
    "        #PARA COGER EL PRECIO DEL PRODUCTO\n",
    "        bodyInformacion = driver.find_element(By.CLASS_NAME, \"tile-body\")\n",
    "        valorProducto = bodyInformacion.find_elements(By.CLASS_NAME, \"value\")\n",
    "        print(valorProducto[0].text)\n",
    "        \n",
    "        #PARA COGER EL NOMBRE DEL PRODUCTO\n",
    "        bodyInformacion = driver.find_element(By.CLASS_NAME, \"tile-body\")\n",
    "        nombreProducto = bodyInformacion.find_elements(By.CLASS_NAME, \"link.product-name-gtm\")\n",
    "        print(nombreProducto[0].text)\n",
    "        \n",
    "        #PARA COGER LA IMAGEN DEL PRODUCTO\n",
    "        time.sleep(0.5)\n",
    "        src = driver.find_elements(By.CLASS_NAME, \"tile-image\")\n",
    "        listaImagenes=[]\n",
    "        for h in src:\n",
    "            listaImagenes.append(h.get_attribute(\"src\"))\n",
    "        print(listaImagenes[0])\n",
    "        \n",
    "        #PARA COGER LA URL DEL PRODUCTO\n",
    "        href = driver.find_elements(By.CLASS_NAME, \"product-pdp-link \")\n",
    "        listaURL=[]\n",
    "        for h in href:\n",
    "            listaURL.append(h.get_property(\"href\"))\n",
    "        #Eliminamos los elementos duplicados ya que coge cada url duplicada\n",
    "        #print(len(listaURL))\n",
    "        eliminarDuplicados = set(listaURL)\n",
    "        listaURL = list(eliminarDuplicados)\n",
    "        #print(len(listaURL))\n",
    "        print(listaURL[0])"
   ]
  },
  {
   "cell_type": "code",
   "execution_count": 132,
   "id": "3718a190",
   "metadata": {},
   "outputs": [
    {
     "name": "stderr",
     "output_type": "stream",
     "text": [
      "C:\\Users\\rober\\AppData\\Local\\Temp\\ipykernel_12996\\280301016.py:6: DeprecationWarning: executable_path has been deprecated, please pass in a Service object\n",
      "  driver = webdriver.Chrome(ChromeDriverManager().install())\n"
     ]
    },
    {
     "name": "stdout",
     "output_type": "stream",
     "text": [
      "Boton aceptar coquies seleccionado\n",
      "Salmón al horno con piña y verdura\n",
      "35 min\n",
      "https://recetas.lidl.es/var/site/storage/images/_aliases/480x270/5/8/7/7/3717785-2-spa-ES/01b4b3c93b53-al.jpg\n",
      "https://recetas.lidl.es/recetas/salmon-al-horno-con-pina-y-verdura\n"
     ]
    },
    {
     "name": "stderr",
     "output_type": "stream",
     "text": [
      "C:\\Users\\rober\\AppData\\Local\\Temp\\ipykernel_12996\\280301016.py:15: DeprecationWarning: executable_path has been deprecated, please pass in a Service object\n",
      "  driver = webdriver.Chrome(ChromeDriverManager().install())\n"
     ]
    },
    {
     "name": "stdout",
     "output_type": "stream",
     "text": [
      "Boton aceptar coquies seleccionado\n",
      "2,39€\n",
      "Pimiento rojo lamuyo\n",
      "https://www.ahorramas.com/dw/image/v2/BFNH_PRD/on/demandware.static/-/Sites-ahorramas-master/default/dw3f7448b6/Assets/01924_C1C1/large/0/7/3/4/0734d0e2ff1493f0d74bbac31bfbaa7be76b4fa2_01924_C1C1.jpg?sw=400&sh=900&sm=fit\n",
      "https://www.ahorramas.com/pimiento-rojo-lamuyo-1924.html\n"
     ]
    }
   ],
   "source": [
    "ws=WebScraping()\n",
    "driver = ws.conexionPaginaWebLidl(\"pimiento\")\n",
    "driver = ws.conexionPaginaWebAhorraMas(\"pimiento\")\n",
    "time.sleep(5)\n",
    "driver.close()"
   ]
  },
  {
   "cell_type": "code",
   "execution_count": null,
   "id": "5184eab6",
   "metadata": {},
   "outputs": [],
   "source": []
  }
 ],
 "metadata": {
  "kernelspec": {
   "display_name": "Python 3 (ipykernel)",
   "language": "python",
   "name": "python3"
  },
  "language_info": {
   "codemirror_mode": {
    "name": "ipython",
    "version": 3
   },
   "file_extension": ".py",
   "mimetype": "text/x-python",
   "name": "python",
   "nbconvert_exporter": "python",
   "pygments_lexer": "ipython3",
   "version": "3.9.12"
  }
 },
 "nbformat": 4,
 "nbformat_minor": 5
}
